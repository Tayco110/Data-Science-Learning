{
 "cells": [
  {
   "cell_type": "markdown",
   "metadata": {},
   "source": [
    "## Disclaimer:\n",
    "\n",
    "### O notebook em questão possui como objetivo a vizualisação e exploração de dados dos estudantes da Universidade Federal de Lavras (UFLA). Os dados em questão estão disponíveis para consulta pública [aqui](https://dados.gov.br/dados/conjuntos-dados/estudantes-da-graduacao). A ferramenta utilizada para manipulação dos dados foi o `PySpark`."
   ]
  },
  {
   "cell_type": "code",
   "execution_count": 60,
   "metadata": {},
   "outputs": [],
   "source": [
    "# Criação da sessão Spark\n",
    "from pyspark.sql import SparkSession\n",
    "spark = SparkSession.builder.appName(\"data_exploration\").getOrCreate()\n",
    "import warnings\n",
    "warnings.filterwarnings('ignore')"
   ]
  },
  {
   "cell_type": "markdown",
   "metadata": {},
   "source": [
    "### SETUP"
   ]
  },
  {
   "cell_type": "code",
   "execution_count": 75,
   "metadata": {},
   "outputs": [],
   "source": [
    "# IMPORTS\n",
    "import pyspark.pandas as ps\n",
    "import matplotlib.pyplot as plt"
   ]
  },
  {
   "cell_type": "markdown",
   "metadata": {},
   "source": [
    "### DATA VISUALIZATION"
   ]
  },
  {
   "cell_type": "code",
   "execution_count": 63,
   "metadata": {},
   "outputs": [
    {
     "data": {
      "text/plain": [
       "pyspark.sql.dataframe.DataFrame"
      ]
     },
     "execution_count": 63,
     "metadata": {},
     "output_type": "execute_result"
    }
   ],
   "source": [
    "# Carregando os dados como um objeto PySpark\n",
    "data = spark.read.csv('alunos_2024.csv', header=True, inferSchema=True)\n",
    "type(data)"
   ]
  },
  {
   "cell_type": "code",
   "execution_count": 64,
   "metadata": {},
   "outputs": [
    {
     "name": "stdout",
     "output_type": "stream",
     "text": [
      "+------------------+--------------------+--------------------------+---------------------+------------------+------------------------+--------------+-------------------+-------------------+-----------+-----------+----------------------+------------------+----------------+-----------------+--------------------+--------------+--------------+--------------+--------------------+\n",
      "|registro_academico|               curso|semestre_letivo_referencia|ano_letivo_referencia|situacao_estudante|semestre_letivo_ingresso|forma_ingresso|forma_ingresso_tipo|codigo_oferta_curso|codigo_inep|curso_turno|nome_matriz_curricular|  titulo_academico|curso_modalidade|    situacao_nome|  situacao_descricao|situacao_censo|        campus|sistema_origem| data_atualizacao_dw|\n",
      "+------------------+--------------------+--------------------------+---------------------+------------------+------------------------+--------------+-------------------+-------------------+-----------+-----------+----------------------+------------------+----------------+-----------------+--------------------+--------------+--------------+--------------+--------------------+\n",
      "|         202325010|Bacharelado Inter...|                    2023/2|           2023-01-01|             Ativo|                  2023/2|   SiSU (Enem)|            Regular|             GCT039|    1598889|   Integral|                202302|       Bacharelado|      Presencial|      Matriculado|Discente matricul...|      Cursando|Campus Paraíso|      SIG-UFLA|2024-02-01 02:07:...|\n",
      "|         202325009|Bacharelado Inter...|                    2023/2|           2023-01-01|             Ativo|                  2023/2|   SiSU (Enem)|            Regular|             GCT039|    1598889|   Integral|                202302|       Bacharelado|      Presencial|      Matriculado|Discente matricul...|      Cursando|Campus Paraíso|      SIG-UFLA|2024-02-01 02:07:...|\n",
      "|         202325008|Bacharelado Inter...|                    2023/2|           2023-01-01|           Inativo|                  2023/2|   SiSU (Enem)|            Regular|             GCT039|    1598889|   Integral|                202302|       Bacharelado|      Presencial|Desistiu do curso|Discente solicito...|  Desvinculado|Campus Paraíso|      SIG-UFLA|2024-02-01 02:07:...|\n",
      "|         202325007|Bacharelado Inter...|                    2023/2|           2023-01-01|             Ativo|                  2023/2|   SiSU (Enem)|            Regular|             GCT039|    1598889|   Integral|                202302|       Bacharelado|      Presencial|      Matriculado|Discente matricul...|      Cursando|Campus Paraíso|      SIG-UFLA|2024-02-01 02:07:...|\n",
      "|         202325006|Bacharelado Inter...|                    2023/2|           2023-01-01|             Ativo|                  2023/2|   SiSU (Enem)|            Regular|             GCT039|    1598889|   Integral|                202302|       Bacharelado|      Presencial|      Matriculado|Discente matricul...|      Cursando|Campus Paraíso|      SIG-UFLA|2024-02-01 02:07:...|\n",
      "|         202325005|Bacharelado Inter...|                    2023/2|           2023-01-01|             Ativo|                  2023/2|   SiSU (Enem)|            Regular|             GCT039|    1598889|   Integral|                202302|       Bacharelado|      Presencial|      Matriculado|Discente matricul...|      Cursando|Campus Paraíso|      SIG-UFLA|2024-02-01 02:07:...|\n",
      "|         202325004|Bacharelado Inter...|                    2023/2|           2023-01-01|             Ativo|                  2023/2|   SiSU (Enem)|            Regular|             GCT039|    1598889|   Integral|                202302|       Bacharelado|      Presencial|      Matriculado|Discente matricul...|      Cursando|Campus Paraíso|      SIG-UFLA|2024-02-01 02:07:...|\n",
      "|         202325003|Bacharelado Inter...|                    2023/2|           2023-01-01|             Ativo|                  2023/2|   SiSU (Enem)|            Regular|             GCT039|    1598889|   Integral|                202302|       Bacharelado|      Presencial|      Matriculado|Discente matricul...|      Cursando|Campus Paraíso|      SIG-UFLA|2024-02-01 02:07:...|\n",
      "|         202325002|Bacharelado Inter...|                    2023/2|           2023-01-01|             Ativo|                  2023/2|   SiSU (Enem)|            Regular|             GCT039|    1598889|   Integral|                202302|       Bacharelado|      Presencial|      Matriculado|Discente matricul...|      Cursando|Campus Paraíso|      SIG-UFLA|2024-02-01 02:07:...|\n",
      "|         202325001|Bacharelado Inter...|                    2023/2|           2023-01-01|             Ativo|                  2023/2|   SiSU (Enem)|            Regular|             GCT039|    1598889|   Integral|                202302|       Bacharelado|      Presencial|      Matriculado|Discente matricul...|      Cursando|Campus Paraíso|      SIG-UFLA|2024-02-01 02:07:...|\n",
      "|         202321153|Administração Púb...|                    2023/2|           2023-01-01|             Ativo|                  2023/2|   SiSU (Enem)|            Regular|               G026|     150124|    Noturno|                202301|       Bacharelado|      Presencial|      Matriculado|Discente matricul...|      Cursando|   Campus Sede|      SIG-UFLA|2024-02-01 02:07:...|\n",
      "|         202321152|Administração Púb...|                    2023/2|           2023-01-01|             Ativo|                  2023/2|   SiSU (Enem)|            Regular|               G026|     150124|    Noturno|                202301|       Bacharelado|      Presencial|      Matriculado|Discente matricul...|      Cursando|   Campus Sede|      SIG-UFLA|2024-02-01 02:07:...|\n",
      "|         202321151| Ciências Biológicas|                    2023/2|           2023-01-01|           Inativo|                  2023/2|   SiSU (Enem)|            Regular|               G012|      63838|   Integral|                202301|       Bacharelado|      Presencial|Desistiu do curso|Discente solicito...|  Desvinculado|   Campus Sede|      SIG-UFLA|2024-02-01 02:07:...|\n",
      "|         202321150| Ciências Biológicas|                    2023/2|           2023-01-01|             Ativo|                  2023/2|   SiSU (Enem)|            Regular|               G012|      63838|   Integral|                202301|       Bacharelado|      Presencial|      Matriculado|Discente matricul...|      Cursando|   Campus Sede|      SIG-UFLA|2024-02-01 02:07:...|\n",
      "|         202321149|       Administração|                    2023/2|           2023-01-01|             Ativo|                  2023/2|   SiSU (Enem)|            Regular|               G009|      53522|   Integral|                202301|       Bacharelado|      Presencial|      Matriculado|Discente matricul...|      Cursando|   Campus Sede|      SIG-UFLA|2024-02-01 02:07:...|\n",
      "|         202321148|           Zootecnia|                    2023/2|           2023-01-01|             Ativo|                  2023/2|   SiSU (Enem)|            Regular|               G002|      14577|   Integral|                202301|       Bacharelado|      Presencial|      Matriculado|Discente matricul...|      Cursando|   Campus Sede|      SIG-UFLA|2024-02-01 02:07:...|\n",
      "|         202321147|Bacharelado Inter...|                    2023/2|           2023-01-01|             Ativo|                  2023/2|   SiSU (Enem)|            Regular|               G046|    1616694|   Integral|                202301|       Bacharelado|      Presencial|      Matriculado|Discente matricul...|      Cursando|   Campus Sede|      SIG-UFLA|2024-02-01 02:07:...|\n",
      "|         202321146|Bacharelado Inter...|                    2023/2|           2023-01-01|             Ativo|                  2023/2|   SiSU (Enem)|            Regular|               G046|    1616694|   Integral|                202301|       Bacharelado|      Presencial|      Matriculado|Discente matricul...|      Cursando|   Campus Sede|      SIG-UFLA|2024-02-01 02:07:...|\n",
      "|         202321145| Ciências Biológicas|                    2023/2|           2023-01-01|             Ativo|                  2023/2|   SiSU (Enem)|            Regular|               G020|     122662|   Integral|                202401|Licenciatura Plena|      Presencial|      Matriculado|Discente matricul...|      Cursando|   Campus Sede|      SIG-UFLA|2024-02-01 02:07:...|\n",
      "|         202321144|Engenharia Florestal|                    2023/2|           2023-01-01|             Ativo|                  2023/2|   SiSU (Enem)|            Regular|               G005|      14580|   Integral|                202301|       Bacharelado|      Presencial|      Matriculado|Discente matricul...|      Cursando|   Campus Sede|      SIG-UFLA|2024-02-01 02:07:...|\n",
      "+------------------+--------------------+--------------------------+---------------------+------------------+------------------------+--------------+-------------------+-------------------+-----------+-----------+----------------------+------------------+----------------+-----------------+--------------------+--------------+--------------+--------------+--------------------+\n",
      "only showing top 20 rows\n",
      "\n"
     ]
    }
   ],
   "source": [
    "# Tabela com os dados\n",
    "data.show()"
   ]
  },
  {
   "cell_type": "code",
   "execution_count": 65,
   "metadata": {},
   "outputs": [
    {
     "name": "stdout",
     "output_type": "stream",
     "text": [
      "root\n",
      " |-- registro_academico: integer (nullable = true)\n",
      " |-- curso: string (nullable = true)\n",
      " |-- semestre_letivo_referencia: string (nullable = true)\n",
      " |-- ano_letivo_referencia: date (nullable = true)\n",
      " |-- situacao_estudante: string (nullable = true)\n",
      " |-- semestre_letivo_ingresso: string (nullable = true)\n",
      " |-- forma_ingresso: string (nullable = true)\n",
      " |-- forma_ingresso_tipo: string (nullable = true)\n",
      " |-- codigo_oferta_curso: string (nullable = true)\n",
      " |-- codigo_inep: integer (nullable = true)\n",
      " |-- curso_turno: string (nullable = true)\n",
      " |-- nome_matriz_curricular: integer (nullable = true)\n",
      " |-- titulo_academico: string (nullable = true)\n",
      " |-- curso_modalidade: string (nullable = true)\n",
      " |-- situacao_nome: string (nullable = true)\n",
      " |-- situacao_descricao: string (nullable = true)\n",
      " |-- situacao_censo: string (nullable = true)\n",
      " |-- campus: string (nullable = true)\n",
      " |-- sistema_origem: string (nullable = true)\n",
      " |-- data_atualizacao_dw: timestamp (nullable = true)\n",
      "\n"
     ]
    }
   ],
   "source": [
    "# Schema dos dados\n",
    "data.printSchema()"
   ]
  },
  {
   "cell_type": "code",
   "execution_count": 40,
   "metadata": {},
   "outputs": [
    {
     "data": {
      "text/plain": [
       "pyspark.pandas.frame.DataFrame"
      ]
     },
     "execution_count": 40,
     "metadata": {},
     "output_type": "execute_result"
    }
   ],
   "source": [
    "# Para melhor manipulação trasnforma o objeto em SparkPandas\n",
    "data = ps.DataFrame(data)\n",
    "type(data)"
   ]
  },
  {
   "cell_type": "code",
   "execution_count": 41,
   "metadata": {},
   "outputs": [],
   "source": [
    "# Para plotar os gráficos no notebook\n",
    "%matplotlib inline"
   ]
  },
  {
   "cell_type": "code",
   "execution_count": 78,
   "metadata": {},
   "outputs": [
    {
     "data": {
      "application/vnd.plotly.v1+json": {
       "config": {
        "plotlyServerURL": "https://plot.ly"
       },
       "data": [
        {
         "alignmentgroup": "True",
         "hovertemplate": "situacao_descricao=Aluno vinculado a UFLA, sem cursar disciplinas.<br>semestre_letivo_referencia=%{x}<br>value=%{y}<extra></extra>",
         "legendgroup": "Aluno vinculado a UFLA, sem cursar disciplinas.",
         "marker": {
          "color": "#636efa",
          "pattern": {
           "shape": ""
          }
         },
         "name": "Aluno vinculado a UFLA, sem cursar disciplinas.",
         "offsetgroup": "Aluno vinculado a UFLA, sem cursar disciplinas.",
         "orientation": "v",
         "showlegend": true,
         "textposition": "auto",
         "type": "bar",
         "x": [
          "2010/1",
          "2010/2",
          "2011/1",
          "2011/2",
          "2012/1",
          "2012/2",
          "2013/1",
          "2013/2",
          "2014/1",
          "2014/2",
          "2015/1",
          "2015/2",
          "2016/1",
          "2016/2",
          "2017/1",
          "2017/2",
          "2018/1",
          "2018/2",
          "2019/1",
          "2019/2",
          "2020/1",
          "2020/2",
          "2021/1",
          "2021/2",
          "2022/1",
          "2022/2",
          "2023/1",
          "2023/2"
         ],
         "xaxis": "x",
         "y": [
          null,
          null,
          null,
          null,
          null,
          1,
          8,
          9,
          49,
          94,
          163,
          41,
          13,
          6,
          8,
          427,
          3,
          15,
          null,
          11,
          4,
          null,
          8,
          null,
          null,
          null,
          null,
          null
         ],
         "yaxis": "y"
        },
        {
         "alignmentgroup": "True",
         "hovertemplate": "situacao_descricao=Conclusão dos requisitos acadêmicos ou titulação<br>semestre_letivo_referencia=%{x}<br>value=%{y}<extra></extra>",
         "legendgroup": "Conclusão dos requisitos acadêmicos ou titulação",
         "marker": {
          "color": "#EF553B",
          "pattern": {
           "shape": ""
          }
         },
         "name": "Conclusão dos requisitos acadêmicos ou titulação",
         "offsetgroup": "Conclusão dos requisitos acadêmicos ou titulação",
         "orientation": "v",
         "showlegend": true,
         "textposition": "auto",
         "type": "bar",
         "x": [
          "2010/1",
          "2010/2",
          "2011/1",
          "2011/2",
          "2012/1",
          "2012/2",
          "2013/1",
          "2013/2",
          "2014/1",
          "2014/2",
          "2015/1",
          "2015/2",
          "2016/1",
          "2016/2",
          "2017/1",
          "2017/2",
          "2018/1",
          "2018/2",
          "2019/1",
          "2019/2",
          "2020/1",
          "2020/2",
          "2021/1",
          "2021/2",
          "2022/1",
          "2022/2",
          "2023/1",
          "2023/2"
         ],
         "xaxis": "x",
         "y": [
          212,
          553,
          217,
          311,
          247,
          304,
          243,
          353,
          280,
          450,
          364,
          617,
          665,
          641,
          500,
          726,
          586,
          700,
          611,
          609,
          532,
          806,
          918,
          648,
          565,
          736,
          690,
          677
         ],
         "yaxis": "y"
        },
        {
         "alignmentgroup": "True",
         "hovertemplate": "situacao_descricao=Conclusão dos requisitos acadêmicos ou titulação com apostilamento<br>semestre_letivo_referencia=%{x}<br>value=%{y}<extra></extra>",
         "legendgroup": "Conclusão dos requisitos acadêmicos ou titulação com apostilamento",
         "marker": {
          "color": "#00cc96",
          "pattern": {
           "shape": ""
          }
         },
         "name": "Conclusão dos requisitos acadêmicos ou titulação com apostilamento",
         "offsetgroup": "Conclusão dos requisitos acadêmicos ou titulação com apostilamento",
         "orientation": "v",
         "showlegend": true,
         "textposition": "auto",
         "type": "bar",
         "x": [
          "2010/1",
          "2010/2",
          "2011/1",
          "2011/2",
          "2012/1",
          "2012/2",
          "2013/1",
          "2013/2",
          "2014/1",
          "2014/2",
          "2015/1",
          "2015/2",
          "2016/1",
          "2016/2",
          "2017/1",
          "2017/2",
          "2018/1",
          "2018/2",
          "2019/1",
          "2019/2",
          "2020/1",
          "2020/2",
          "2021/1",
          "2021/2",
          "2022/1",
          "2022/2",
          "2023/1",
          "2023/2"
         ],
         "xaxis": "x",
         "y": [
          null,
          null,
          null,
          null,
          null,
          null,
          null,
          null,
          null,
          1,
          null,
          null,
          null,
          null,
          null,
          null,
          null,
          null,
          null,
          null,
          null,
          null,
          null,
          null,
          null,
          null,
          null,
          null
         ],
         "yaxis": "y"
        },
        {
         "alignmentgroup": "True",
         "hovertemplate": "situacao_descricao=Discente desligado por não renovação de matrícula<br>semestre_letivo_referencia=%{x}<br>value=%{y}<extra></extra>",
         "legendgroup": "Discente desligado por não renovação de matrícula",
         "marker": {
          "color": "#ab63fa",
          "pattern": {
           "shape": ""
          }
         },
         "name": "Discente desligado por não renovação de matrícula",
         "offsetgroup": "Discente desligado por não renovação de matrícula",
         "orientation": "v",
         "showlegend": true,
         "textposition": "auto",
         "type": "bar",
         "x": [
          "2010/1",
          "2010/2",
          "2011/1",
          "2011/2",
          "2012/1",
          "2012/2",
          "2013/1",
          "2013/2",
          "2014/1",
          "2014/2",
          "2015/1",
          "2015/2",
          "2016/1",
          "2016/2",
          "2017/1",
          "2017/2",
          "2018/1",
          "2018/2",
          "2019/1",
          "2019/2",
          "2020/1",
          "2020/2",
          "2021/1",
          "2021/2",
          "2022/1",
          "2022/2",
          "2023/1",
          "2023/2"
         ],
         "xaxis": "x",
         "y": [
          1,
          24,
          106,
          101,
          108,
          248,
          178,
          155,
          192,
          203,
          224,
          479,
          389,
          301,
          328,
          235,
          103,
          106,
          314,
          null,
          null,
          44,
          null,
          10,
          4,
          1,
          3,
          null
         ],
         "yaxis": "y"
        },
        {
         "alignmentgroup": "True",
         "hovertemplate": "situacao_descricao=Discente matriculado regularmente no curso<br>semestre_letivo_referencia=%{x}<br>value=%{y}<extra></extra>",
         "legendgroup": "Discente matriculado regularmente no curso",
         "marker": {
          "color": "#FFA15A",
          "pattern": {
           "shape": ""
          }
         },
         "name": "Discente matriculado regularmente no curso",
         "offsetgroup": "Discente matriculado regularmente no curso",
         "orientation": "v",
         "showlegend": true,
         "textposition": "auto",
         "type": "bar",
         "x": [
          "2010/1",
          "2010/2",
          "2011/1",
          "2011/2",
          "2012/1",
          "2012/2",
          "2013/1",
          "2013/2",
          "2014/1",
          "2014/2",
          "2015/1",
          "2015/2",
          "2016/1",
          "2016/2",
          "2017/1",
          "2017/2",
          "2018/1",
          "2018/2",
          "2019/1",
          "2019/2",
          "2020/1",
          "2020/2",
          "2021/1",
          "2021/2",
          "2022/1",
          "2022/2",
          "2023/1",
          "2023/2"
         ],
         "xaxis": "x",
         "y": [
          3903,
          4316,
          5018,
          5947,
          6698,
          6886,
          7502,
          7783,
          8047,
          8524,
          8752,
          8562,
          8858,
          8821,
          9930,
          9218,
          9509,
          9374,
          9330,
          9123,
          9209,
          9056,
          8754,
          8386,
          8309,
          7992,
          8015,
          8043
         ],
         "yaxis": "y"
        },
        {
         "alignmentgroup": "True",
         "hovertemplate": "situacao_descricao=Discente não compareceu ao curso por um período e, com isso, perdeu a vaga<br>semestre_letivo_referencia=%{x}<br>value=%{y}<extra></extra>",
         "legendgroup": "Discente não compareceu ao curso por um período e, com isso, perdeu a vaga",
         "marker": {
          "color": "#19d3f3",
          "pattern": {
           "shape": ""
          }
         },
         "name": "Discente não compareceu ao curso por um período e, com isso, perdeu a vaga",
         "offsetgroup": "Discente não compareceu ao curso por um período e, com isso, perdeu a vaga",
         "orientation": "v",
         "showlegend": true,
         "textposition": "auto",
         "type": "bar",
         "x": [
          "2010/1",
          "2010/2",
          "2011/1",
          "2011/2",
          "2012/1",
          "2012/2",
          "2013/1",
          "2013/2",
          "2014/1",
          "2014/2",
          "2015/1",
          "2015/2",
          "2016/1",
          "2016/2",
          "2017/1",
          "2017/2",
          "2018/1",
          "2018/2",
          "2019/1",
          "2019/2",
          "2020/1",
          "2020/2",
          "2021/1",
          "2021/2",
          "2022/1",
          "2022/2",
          "2023/1",
          "2023/2"
         ],
         "xaxis": "x",
         "y": [
          25,
          null,
          null,
          null,
          null,
          1,
          null,
          null,
          null,
          null,
          null,
          null,
          null,
          null,
          null,
          null,
          null,
          null,
          null,
          231,
          274,
          1,
          148,
          18,
          24,
          1,
          1332,
          345
         ],
         "yaxis": "y"
        },
        {
         "alignmentgroup": "True",
         "hovertemplate": "situacao_descricao=Discente realizando Atividade Acadêmica Internacional, regulamentada pela Resolução CEPE 121/2014<br>semestre_letivo_referencia=%{x}<br>value=%{y}<extra></extra>",
         "legendgroup": "Discente realizando Atividade Acadêmica Internacional, regulamentada pela Resolução CEPE 121/2014",
         "marker": {
          "color": "#FF6692",
          "pattern": {
           "shape": ""
          }
         },
         "name": "Discente realizando Atividade Acadêmica Internacional, regulamentada pela Resolução CEPE 121/2014",
         "offsetgroup": "Discente realizando Atividade Acadêmica Internacional, regulamentada pela Resolução CEPE 121/2014",
         "orientation": "v",
         "showlegend": true,
         "textposition": "auto",
         "type": "bar",
         "x": [
          "2010/1",
          "2010/2",
          "2011/1",
          "2011/2",
          "2012/1",
          "2012/2",
          "2013/1",
          "2013/2",
          "2014/1",
          "2014/2",
          "2015/1",
          "2015/2",
          "2016/1",
          "2016/2",
          "2017/1",
          "2017/2",
          "2018/1",
          "2018/2",
          "2019/1",
          "2019/2",
          "2020/1",
          "2020/2",
          "2021/1",
          "2021/2",
          "2022/1",
          "2022/2",
          "2023/1",
          "2023/2"
         ],
         "xaxis": "x",
         "y": [
          null,
          null,
          null,
          null,
          1,
          4,
          49,
          73,
          170,
          323,
          261,
          178,
          123,
          48,
          46,
          37,
          52,
          60,
          66,
          83,
          70,
          25,
          36,
          67,
          66,
          65,
          43,
          34
         ],
         "yaxis": "y"
        },
        {
         "alignmentgroup": "True",
         "hovertemplate": "situacao_descricao=Discente solicitou explicitamente a saída do curso<br>semestre_letivo_referencia=%{x}<br>value=%{y}<extra></extra>",
         "legendgroup": "Discente solicitou explicitamente a saída do curso",
         "marker": {
          "color": "#B6E880",
          "pattern": {
           "shape": ""
          }
         },
         "name": "Discente solicitou explicitamente a saída do curso",
         "offsetgroup": "Discente solicitou explicitamente a saída do curso",
         "orientation": "v",
         "showlegend": true,
         "textposition": "auto",
         "type": "bar",
         "x": [
          "2010/1",
          "2010/2",
          "2011/1",
          "2011/2",
          "2012/1",
          "2012/2",
          "2013/1",
          "2013/2",
          "2014/1",
          "2014/2",
          "2015/1",
          "2015/2",
          "2016/1",
          "2016/2",
          "2017/1",
          "2017/2",
          "2018/1",
          "2018/2",
          "2019/1",
          "2019/2",
          "2020/1",
          "2020/2",
          "2021/1",
          "2021/2",
          "2022/1",
          "2022/2",
          "2023/1",
          "2023/2"
         ],
         "xaxis": "x",
         "y": [
          47,
          23,
          119,
          171,
          351,
          269,
          181,
          215,
          220,
          235,
          333,
          405,
          221,
          354,
          248,
          255,
          356,
          330,
          397,
          266,
          332,
          398,
          217,
          299,
          193,
          197,
          285,
          194
         ],
         "yaxis": "y"
        },
        {
         "alignmentgroup": "True",
         "hovertemplate": "situacao_descricao=Discente trancou o curso por um período<br>semestre_letivo_referencia=%{x}<br>value=%{y}<extra></extra>",
         "legendgroup": "Discente trancou o curso por um período",
         "marker": {
          "color": "#FF97FF",
          "pattern": {
           "shape": ""
          }
         },
         "name": "Discente trancou o curso por um período",
         "offsetgroup": "Discente trancou o curso por um período",
         "orientation": "v",
         "showlegend": true,
         "textposition": "auto",
         "type": "bar",
         "x": [
          "2010/1",
          "2010/2",
          "2011/1",
          "2011/2",
          "2012/1",
          "2012/2",
          "2013/1",
          "2013/2",
          "2014/1",
          "2014/2",
          "2015/1",
          "2015/2",
          "2016/1",
          "2016/2",
          "2017/1",
          "2017/2",
          "2018/1",
          "2018/2",
          "2019/1",
          "2019/2",
          "2020/1",
          "2020/2",
          "2021/1",
          "2021/2",
          "2022/1",
          "2022/2",
          "2023/1",
          "2023/2"
         ],
         "xaxis": "x",
         "y": [
          132,
          227,
          224,
          327,
          371,
          380,
          440,
          573,
          549,
          531,
          658,
          765,
          707,
          811,
          645,
          862,
          1154,
          1373,
          1308,
          1463,
          1340,
          1368,
          1592,
          1992,
          2421,
          2546,
          1426,
          1315
         ],
         "yaxis": "y"
        },
        {
         "alignmentgroup": "True",
         "hovertemplate": "situacao_descricao=Discente transferido internamente para outro turno do mesmo curso<br>semestre_letivo_referencia=%{x}<br>value=%{y}<extra></extra>",
         "legendgroup": "Discente transferido internamente para outro turno do mesmo curso",
         "marker": {
          "color": "#FECB52",
          "pattern": {
           "shape": ""
          }
         },
         "name": "Discente transferido internamente para outro turno do mesmo curso",
         "offsetgroup": "Discente transferido internamente para outro turno do mesmo curso",
         "orientation": "v",
         "showlegend": true,
         "textposition": "auto",
         "type": "bar",
         "x": [
          "2010/1",
          "2010/2",
          "2011/1",
          "2011/2",
          "2012/1",
          "2012/2",
          "2013/1",
          "2013/2",
          "2014/1",
          "2014/2",
          "2015/1",
          "2015/2",
          "2016/1",
          "2016/2",
          "2017/1",
          "2017/2",
          "2018/1",
          "2018/2",
          "2019/1",
          "2019/2",
          "2020/1",
          "2020/2",
          "2021/1",
          "2021/2",
          "2022/1",
          "2022/2",
          "2023/1",
          "2023/2"
         ],
         "xaxis": "x",
         "y": [
          null,
          null,
          null,
          null,
          null,
          null,
          null,
          null,
          null,
          null,
          null,
          null,
          null,
          1,
          null,
          null,
          null,
          null,
          null,
          null,
          null,
          null,
          null,
          null,
          null,
          null,
          null,
          null
         ],
         "yaxis": "y"
        },
        {
         "alignmentgroup": "True",
         "hovertemplate": "situacao_descricao=Discente transferido para outra instituição<br>semestre_letivo_referencia=%{x}<br>value=%{y}<extra></extra>",
         "legendgroup": "Discente transferido para outra instituição",
         "marker": {
          "color": "#636efa",
          "pattern": {
           "shape": ""
          }
         },
         "name": "Discente transferido para outra instituição",
         "offsetgroup": "Discente transferido para outra instituição",
         "orientation": "v",
         "showlegend": true,
         "textposition": "auto",
         "type": "bar",
         "x": [
          "2010/1",
          "2010/2",
          "2011/1",
          "2011/2",
          "2012/1",
          "2012/2",
          "2013/1",
          "2013/2",
          "2014/1",
          "2014/2",
          "2015/1",
          "2015/2",
          "2016/1",
          "2016/2",
          "2017/1",
          "2017/2",
          "2018/1",
          "2018/2",
          "2019/1",
          "2019/2",
          "2020/1",
          "2020/2",
          "2021/1",
          "2021/2",
          "2022/1",
          "2022/2",
          "2023/1",
          "2023/2"
         ],
         "xaxis": "x",
         "y": [
          4,
          4,
          11,
          6,
          10,
          5,
          2,
          16,
          6,
          4,
          12,
          3,
          6,
          12,
          11,
          10,
          7,
          8,
          26,
          11,
          33,
          22,
          13,
          22,
          18,
          18,
          23,
          12
         ],
         "yaxis": "y"
        },
        {
         "alignmentgroup": "True",
         "hovertemplate": "situacao_descricao=Discente transferido para outro curso não relacionado ao atual da mesma instituição<br>semestre_letivo_referencia=%{x}<br>value=%{y}<extra></extra>",
         "legendgroup": "Discente transferido para outro curso não relacionado ao atual da mesma instituição",
         "marker": {
          "color": "#EF553B",
          "pattern": {
           "shape": ""
          }
         },
         "name": "Discente transferido para outro curso não relacionado ao atual da mesma instituição",
         "offsetgroup": "Discente transferido para outro curso não relacionado ao atual da mesma instituição",
         "orientation": "v",
         "showlegend": true,
         "textposition": "auto",
         "type": "bar",
         "x": [
          "2010/1",
          "2010/2",
          "2011/1",
          "2011/2",
          "2012/1",
          "2012/2",
          "2013/1",
          "2013/2",
          "2014/1",
          "2014/2",
          "2015/1",
          "2015/2",
          "2016/1",
          "2016/2",
          "2017/1",
          "2017/2",
          "2018/1",
          "2018/2",
          "2019/1",
          "2019/2",
          "2020/1",
          "2020/2",
          "2021/1",
          "2021/2",
          "2022/1",
          "2022/2",
          "2023/1",
          "2023/2"
         ],
         "xaxis": "x",
         "y": [
          46,
          null,
          30,
          93,
          null,
          67,
          89,
          98,
          77,
          89,
          54,
          null,
          118,
          76,
          102,
          97,
          84,
          43,
          55,
          9,
          25,
          4,
          15,
          25,
          null,
          23,
          null,
          30
         ],
         "yaxis": "y"
        },
        {
         "alignmentgroup": "True",
         "hovertemplate": "situacao_descricao=Encerrou o período de trancamento geral no curso<br>semestre_letivo_referencia=%{x}<br>value=%{y}<extra></extra>",
         "legendgroup": "Encerrou o período de trancamento geral no curso",
         "marker": {
          "color": "#00cc96",
          "pattern": {
           "shape": ""
          }
         },
         "name": "Encerrou o período de trancamento geral no curso",
         "offsetgroup": "Encerrou o período de trancamento geral no curso",
         "orientation": "v",
         "showlegend": true,
         "textposition": "auto",
         "type": "bar",
         "x": [
          "2010/1",
          "2010/2",
          "2011/1",
          "2011/2",
          "2012/1",
          "2012/2",
          "2013/1",
          "2013/2",
          "2014/1",
          "2014/2",
          "2015/1",
          "2015/2",
          "2016/1",
          "2016/2",
          "2017/1",
          "2017/2",
          "2018/1",
          "2018/2",
          "2019/1",
          "2019/2",
          "2020/1",
          "2020/2",
          "2021/1",
          "2021/2",
          "2022/1",
          "2022/2",
          "2023/1",
          "2023/2"
         ],
         "xaxis": "x",
         "y": [
          null,
          null,
          null,
          null,
          1,
          null,
          null,
          null,
          1,
          null,
          null,
          1,
          null,
          null,
          null,
          null,
          null,
          1,
          null,
          null,
          1,
          null,
          1,
          null,
          2,
          null,
          1,
          null
         ],
         "yaxis": "y"
        },
        {
         "alignmentgroup": "True",
         "hovertemplate": "situacao_descricao=Falecimento do discente<br>semestre_letivo_referencia=%{x}<br>value=%{y}<extra></extra>",
         "legendgroup": "Falecimento do discente",
         "marker": {
          "color": "#ab63fa",
          "pattern": {
           "shape": ""
          }
         },
         "name": "Falecimento do discente",
         "offsetgroup": "Falecimento do discente",
         "orientation": "v",
         "showlegend": true,
         "textposition": "auto",
         "type": "bar",
         "x": [
          "2010/1",
          "2010/2",
          "2011/1",
          "2011/2",
          "2012/1",
          "2012/2",
          "2013/1",
          "2013/2",
          "2014/1",
          "2014/2",
          "2015/1",
          "2015/2",
          "2016/1",
          "2016/2",
          "2017/1",
          "2017/2",
          "2018/1",
          "2018/2",
          "2019/1",
          "2019/2",
          "2020/1",
          "2020/2",
          "2021/1",
          "2021/2",
          "2022/1",
          "2022/2",
          "2023/1",
          "2023/2"
         ],
         "xaxis": "x",
         "y": [
          null,
          null,
          null,
          null,
          3,
          1,
          2,
          null,
          1,
          2,
          1,
          7,
          1,
          null,
          1,
          3,
          null,
          2,
          6,
          1,
          2,
          6,
          1,
          null,
          null,
          2,
          1,
          3
         ],
         "yaxis": "y"
        },
        {
         "alignmentgroup": "True",
         "hovertemplate": "situacao_descricao=Mudança do discente de um curso para uma habilitação ou de uma área básica para um curso/habilitação relacionados<br>semestre_letivo_referencia=%{x}<br>value=%{y}<extra></extra>",
         "legendgroup": "Mudança do discente de um curso para uma habilitação ou de uma área básica para um curso/habilitação relacionados",
         "marker": {
          "color": "#FFA15A",
          "pattern": {
           "shape": ""
          }
         },
         "name": "Mudança do discente de um curso para uma habilitação ou de uma área básica para um curso/habilitação relacionados",
         "offsetgroup": "Mudança do discente de um curso para uma habilitação ou de uma área básica para um curso/habilitação relacionados",
         "orientation": "v",
         "showlegend": true,
         "textposition": "auto",
         "type": "bar",
         "x": [
          "2010/1",
          "2010/2",
          "2011/1",
          "2011/2",
          "2012/1",
          "2012/2",
          "2013/1",
          "2013/2",
          "2014/1",
          "2014/2",
          "2015/1",
          "2015/2",
          "2016/1",
          "2016/2",
          "2017/1",
          "2017/2",
          "2018/1",
          "2018/2",
          "2019/1",
          "2019/2",
          "2020/1",
          "2020/2",
          "2021/1",
          "2021/2",
          "2022/1",
          "2022/2",
          "2023/1",
          "2023/2"
         ],
         "xaxis": "x",
         "y": [
          null,
          null,
          25,
          10,
          null,
          1,
          6,
          8,
          30,
          51,
          18,
          106,
          32,
          27,
          2,
          null,
          null,
          null,
          null,
          null,
          null,
          null,
          null,
          null,
          null,
          null,
          null,
          null
         ],
         "yaxis": "y"
        },
        {
         "alignmentgroup": "True",
         "hovertemplate": "situacao_descricao=Programa de Mobilidade Estudantil<br>semestre_letivo_referencia=%{x}<br>value=%{y}<extra></extra>",
         "legendgroup": "Programa de Mobilidade Estudantil",
         "marker": {
          "color": "#19d3f3",
          "pattern": {
           "shape": ""
          }
         },
         "name": "Programa de Mobilidade Estudantil",
         "offsetgroup": "Programa de Mobilidade Estudantil",
         "orientation": "v",
         "showlegend": true,
         "textposition": "auto",
         "type": "bar",
         "x": [
          "2010/1",
          "2010/2",
          "2011/1",
          "2011/2",
          "2012/1",
          "2012/2",
          "2013/1",
          "2013/2",
          "2014/1",
          "2014/2",
          "2015/1",
          "2015/2",
          "2016/1",
          "2016/2",
          "2017/1",
          "2017/2",
          "2018/1",
          "2018/2",
          "2019/1",
          "2019/2",
          "2020/1",
          "2020/2",
          "2021/1",
          "2021/2",
          "2022/1",
          "2022/2",
          "2023/1",
          "2023/2"
         ],
         "xaxis": "x",
         "y": [
          null,
          null,
          null,
          2,
          7,
          3,
          2,
          5,
          10,
          1,
          3,
          1,
          4,
          11,
          5,
          13,
          14,
          12,
          16,
          13,
          8,
          1,
          null,
          null,
          3,
          6,
          5,
          3
         ],
         "yaxis": "y"
        },
        {
         "alignmentgroup": "True",
         "hovertemplate": "situacao_descricao=Saiu do curso em função de desligamento por insuficiência ou outros<br>semestre_letivo_referencia=%{x}<br>value=%{y}<extra></extra>",
         "legendgroup": "Saiu do curso em função de desligamento por insuficiência ou outros",
         "marker": {
          "color": "#FF6692",
          "pattern": {
           "shape": ""
          }
         },
         "name": "Saiu do curso em função de desligamento por insuficiência ou outros",
         "offsetgroup": "Saiu do curso em função de desligamento por insuficiência ou outros",
         "orientation": "v",
         "showlegend": true,
         "textposition": "auto",
         "type": "bar",
         "x": [
          "2010/1",
          "2010/2",
          "2011/1",
          "2011/2",
          "2012/1",
          "2012/2",
          "2013/1",
          "2013/2",
          "2014/1",
          "2014/2",
          "2015/1",
          "2015/2",
          "2016/1",
          "2016/2",
          "2017/1",
          "2017/2",
          "2018/1",
          "2018/2",
          "2019/1",
          "2019/2",
          "2020/1",
          "2020/2",
          "2021/1",
          "2021/2",
          "2022/1",
          "2022/2",
          "2023/1",
          "2023/2"
         ],
         "xaxis": "x",
         "y": [
          1,
          9,
          35,
          134,
          94,
          75,
          411,
          179,
          32,
          65,
          85,
          54,
          27,
          36,
          65,
          24,
          98,
          47,
          47,
          81,
          37,
          61,
          4,
          17,
          2,
          228,
          1,
          null
         ],
         "yaxis": "y"
        },
        {
         "alignmentgroup": "True",
         "hovertemplate": "situacao_descricao=Saiu do curso em função de desligamento por tempo (não concluiu o curso no tempo previsto)<br>semestre_letivo_referencia=%{x}<br>value=%{y}<extra></extra>",
         "legendgroup": "Saiu do curso em função de desligamento por tempo (não concluiu o curso no tempo previsto)",
         "marker": {
          "color": "#B6E880",
          "pattern": {
           "shape": ""
          }
         },
         "name": "Saiu do curso em função de desligamento por tempo (não concluiu o curso no tempo previsto)",
         "offsetgroup": "Saiu do curso em função de desligamento por tempo (não concluiu o curso no tempo previsto)",
         "orientation": "v",
         "showlegend": true,
         "textposition": "auto",
         "type": "bar",
         "x": [
          "2010/1",
          "2010/2",
          "2011/1",
          "2011/2",
          "2012/1",
          "2012/2",
          "2013/1",
          "2013/2",
          "2014/1",
          "2014/2",
          "2015/1",
          "2015/2",
          "2016/1",
          "2016/2",
          "2017/1",
          "2017/2",
          "2018/1",
          "2018/2",
          "2019/1",
          "2019/2",
          "2020/1",
          "2020/2",
          "2021/1",
          "2021/2",
          "2022/1",
          "2022/2",
          "2023/1",
          "2023/2"
         ],
         "xaxis": "x",
         "y": [
          171,
          null,
          null,
          null,
          null,
          null,
          1,
          null,
          null,
          null,
          null,
          null,
          null,
          null,
          null,
          null,
          null,
          null,
          null,
          null,
          null,
          null,
          null,
          null,
          null,
          null,
          5,
          null
         ],
         "yaxis": "y"
        }
       ],
       "layout": {
        "barmode": "relative",
        "legend": {
         "title": {
          "text": "situacao_descricao"
         },
         "tracegroupgap": 0
        },
        "margin": {
         "t": 60
        },
        "template": {
         "data": {
          "bar": [
           {
            "error_x": {
             "color": "#2a3f5f"
            },
            "error_y": {
             "color": "#2a3f5f"
            },
            "marker": {
             "line": {
              "color": "#E5ECF6",
              "width": 0.5
             },
             "pattern": {
              "fillmode": "overlay",
              "size": 10,
              "solidity": 0.2
             }
            },
            "type": "bar"
           }
          ],
          "barpolar": [
           {
            "marker": {
             "line": {
              "color": "#E5ECF6",
              "width": 0.5
             },
             "pattern": {
              "fillmode": "overlay",
              "size": 10,
              "solidity": 0.2
             }
            },
            "type": "barpolar"
           }
          ],
          "carpet": [
           {
            "aaxis": {
             "endlinecolor": "#2a3f5f",
             "gridcolor": "white",
             "linecolor": "white",
             "minorgridcolor": "white",
             "startlinecolor": "#2a3f5f"
            },
            "baxis": {
             "endlinecolor": "#2a3f5f",
             "gridcolor": "white",
             "linecolor": "white",
             "minorgridcolor": "white",
             "startlinecolor": "#2a3f5f"
            },
            "type": "carpet"
           }
          ],
          "choropleth": [
           {
            "colorbar": {
             "outlinewidth": 0,
             "ticks": ""
            },
            "type": "choropleth"
           }
          ],
          "contour": [
           {
            "colorbar": {
             "outlinewidth": 0,
             "ticks": ""
            },
            "colorscale": [
             [
              0,
              "#0d0887"
             ],
             [
              0.1111111111111111,
              "#46039f"
             ],
             [
              0.2222222222222222,
              "#7201a8"
             ],
             [
              0.3333333333333333,
              "#9c179e"
             ],
             [
              0.4444444444444444,
              "#bd3786"
             ],
             [
              0.5555555555555556,
              "#d8576b"
             ],
             [
              0.6666666666666666,
              "#ed7953"
             ],
             [
              0.7777777777777778,
              "#fb9f3a"
             ],
             [
              0.8888888888888888,
              "#fdca26"
             ],
             [
              1,
              "#f0f921"
             ]
            ],
            "type": "contour"
           }
          ],
          "contourcarpet": [
           {
            "colorbar": {
             "outlinewidth": 0,
             "ticks": ""
            },
            "type": "contourcarpet"
           }
          ],
          "heatmap": [
           {
            "colorbar": {
             "outlinewidth": 0,
             "ticks": ""
            },
            "colorscale": [
             [
              0,
              "#0d0887"
             ],
             [
              0.1111111111111111,
              "#46039f"
             ],
             [
              0.2222222222222222,
              "#7201a8"
             ],
             [
              0.3333333333333333,
              "#9c179e"
             ],
             [
              0.4444444444444444,
              "#bd3786"
             ],
             [
              0.5555555555555556,
              "#d8576b"
             ],
             [
              0.6666666666666666,
              "#ed7953"
             ],
             [
              0.7777777777777778,
              "#fb9f3a"
             ],
             [
              0.8888888888888888,
              "#fdca26"
             ],
             [
              1,
              "#f0f921"
             ]
            ],
            "type": "heatmap"
           }
          ],
          "heatmapgl": [
           {
            "colorbar": {
             "outlinewidth": 0,
             "ticks": ""
            },
            "colorscale": [
             [
              0,
              "#0d0887"
             ],
             [
              0.1111111111111111,
              "#46039f"
             ],
             [
              0.2222222222222222,
              "#7201a8"
             ],
             [
              0.3333333333333333,
              "#9c179e"
             ],
             [
              0.4444444444444444,
              "#bd3786"
             ],
             [
              0.5555555555555556,
              "#d8576b"
             ],
             [
              0.6666666666666666,
              "#ed7953"
             ],
             [
              0.7777777777777778,
              "#fb9f3a"
             ],
             [
              0.8888888888888888,
              "#fdca26"
             ],
             [
              1,
              "#f0f921"
             ]
            ],
            "type": "heatmapgl"
           }
          ],
          "histogram": [
           {
            "marker": {
             "pattern": {
              "fillmode": "overlay",
              "size": 10,
              "solidity": 0.2
             }
            },
            "type": "histogram"
           }
          ],
          "histogram2d": [
           {
            "colorbar": {
             "outlinewidth": 0,
             "ticks": ""
            },
            "colorscale": [
             [
              0,
              "#0d0887"
             ],
             [
              0.1111111111111111,
              "#46039f"
             ],
             [
              0.2222222222222222,
              "#7201a8"
             ],
             [
              0.3333333333333333,
              "#9c179e"
             ],
             [
              0.4444444444444444,
              "#bd3786"
             ],
             [
              0.5555555555555556,
              "#d8576b"
             ],
             [
              0.6666666666666666,
              "#ed7953"
             ],
             [
              0.7777777777777778,
              "#fb9f3a"
             ],
             [
              0.8888888888888888,
              "#fdca26"
             ],
             [
              1,
              "#f0f921"
             ]
            ],
            "type": "histogram2d"
           }
          ],
          "histogram2dcontour": [
           {
            "colorbar": {
             "outlinewidth": 0,
             "ticks": ""
            },
            "colorscale": [
             [
              0,
              "#0d0887"
             ],
             [
              0.1111111111111111,
              "#46039f"
             ],
             [
              0.2222222222222222,
              "#7201a8"
             ],
             [
              0.3333333333333333,
              "#9c179e"
             ],
             [
              0.4444444444444444,
              "#bd3786"
             ],
             [
              0.5555555555555556,
              "#d8576b"
             ],
             [
              0.6666666666666666,
              "#ed7953"
             ],
             [
              0.7777777777777778,
              "#fb9f3a"
             ],
             [
              0.8888888888888888,
              "#fdca26"
             ],
             [
              1,
              "#f0f921"
             ]
            ],
            "type": "histogram2dcontour"
           }
          ],
          "mesh3d": [
           {
            "colorbar": {
             "outlinewidth": 0,
             "ticks": ""
            },
            "type": "mesh3d"
           }
          ],
          "parcoords": [
           {
            "line": {
             "colorbar": {
              "outlinewidth": 0,
              "ticks": ""
             }
            },
            "type": "parcoords"
           }
          ],
          "pie": [
           {
            "automargin": true,
            "type": "pie"
           }
          ],
          "scatter": [
           {
            "fillpattern": {
             "fillmode": "overlay",
             "size": 10,
             "solidity": 0.2
            },
            "type": "scatter"
           }
          ],
          "scatter3d": [
           {
            "line": {
             "colorbar": {
              "outlinewidth": 0,
              "ticks": ""
             }
            },
            "marker": {
             "colorbar": {
              "outlinewidth": 0,
              "ticks": ""
             }
            },
            "type": "scatter3d"
           }
          ],
          "scattercarpet": [
           {
            "marker": {
             "colorbar": {
              "outlinewidth": 0,
              "ticks": ""
             }
            },
            "type": "scattercarpet"
           }
          ],
          "scattergeo": [
           {
            "marker": {
             "colorbar": {
              "outlinewidth": 0,
              "ticks": ""
             }
            },
            "type": "scattergeo"
           }
          ],
          "scattergl": [
           {
            "marker": {
             "colorbar": {
              "outlinewidth": 0,
              "ticks": ""
             }
            },
            "type": "scattergl"
           }
          ],
          "scattermapbox": [
           {
            "marker": {
             "colorbar": {
              "outlinewidth": 0,
              "ticks": ""
             }
            },
            "type": "scattermapbox"
           }
          ],
          "scatterpolar": [
           {
            "marker": {
             "colorbar": {
              "outlinewidth": 0,
              "ticks": ""
             }
            },
            "type": "scatterpolar"
           }
          ],
          "scatterpolargl": [
           {
            "marker": {
             "colorbar": {
              "outlinewidth": 0,
              "ticks": ""
             }
            },
            "type": "scatterpolargl"
           }
          ],
          "scatterternary": [
           {
            "marker": {
             "colorbar": {
              "outlinewidth": 0,
              "ticks": ""
             }
            },
            "type": "scatterternary"
           }
          ],
          "surface": [
           {
            "colorbar": {
             "outlinewidth": 0,
             "ticks": ""
            },
            "colorscale": [
             [
              0,
              "#0d0887"
             ],
             [
              0.1111111111111111,
              "#46039f"
             ],
             [
              0.2222222222222222,
              "#7201a8"
             ],
             [
              0.3333333333333333,
              "#9c179e"
             ],
             [
              0.4444444444444444,
              "#bd3786"
             ],
             [
              0.5555555555555556,
              "#d8576b"
             ],
             [
              0.6666666666666666,
              "#ed7953"
             ],
             [
              0.7777777777777778,
              "#fb9f3a"
             ],
             [
              0.8888888888888888,
              "#fdca26"
             ],
             [
              1,
              "#f0f921"
             ]
            ],
            "type": "surface"
           }
          ],
          "table": [
           {
            "cells": {
             "fill": {
              "color": "#EBF0F8"
             },
             "line": {
              "color": "white"
             }
            },
            "header": {
             "fill": {
              "color": "#C8D4E3"
             },
             "line": {
              "color": "white"
             }
            },
            "type": "table"
           }
          ]
         },
         "layout": {
          "annotationdefaults": {
           "arrowcolor": "#2a3f5f",
           "arrowhead": 0,
           "arrowwidth": 1
          },
          "autotypenumbers": "strict",
          "coloraxis": {
           "colorbar": {
            "outlinewidth": 0,
            "ticks": ""
           }
          },
          "colorscale": {
           "diverging": [
            [
             0,
             "#8e0152"
            ],
            [
             0.1,
             "#c51b7d"
            ],
            [
             0.2,
             "#de77ae"
            ],
            [
             0.3,
             "#f1b6da"
            ],
            [
             0.4,
             "#fde0ef"
            ],
            [
             0.5,
             "#f7f7f7"
            ],
            [
             0.6,
             "#e6f5d0"
            ],
            [
             0.7,
             "#b8e186"
            ],
            [
             0.8,
             "#7fbc41"
            ],
            [
             0.9,
             "#4d9221"
            ],
            [
             1,
             "#276419"
            ]
           ],
           "sequential": [
            [
             0,
             "#0d0887"
            ],
            [
             0.1111111111111111,
             "#46039f"
            ],
            [
             0.2222222222222222,
             "#7201a8"
            ],
            [
             0.3333333333333333,
             "#9c179e"
            ],
            [
             0.4444444444444444,
             "#bd3786"
            ],
            [
             0.5555555555555556,
             "#d8576b"
            ],
            [
             0.6666666666666666,
             "#ed7953"
            ],
            [
             0.7777777777777778,
             "#fb9f3a"
            ],
            [
             0.8888888888888888,
             "#fdca26"
            ],
            [
             1,
             "#f0f921"
            ]
           ],
           "sequentialminus": [
            [
             0,
             "#0d0887"
            ],
            [
             0.1111111111111111,
             "#46039f"
            ],
            [
             0.2222222222222222,
             "#7201a8"
            ],
            [
             0.3333333333333333,
             "#9c179e"
            ],
            [
             0.4444444444444444,
             "#bd3786"
            ],
            [
             0.5555555555555556,
             "#d8576b"
            ],
            [
             0.6666666666666666,
             "#ed7953"
            ],
            [
             0.7777777777777778,
             "#fb9f3a"
            ],
            [
             0.8888888888888888,
             "#fdca26"
            ],
            [
             1,
             "#f0f921"
            ]
           ]
          },
          "colorway": [
           "#636efa",
           "#EF553B",
           "#00cc96",
           "#ab63fa",
           "#FFA15A",
           "#19d3f3",
           "#FF6692",
           "#B6E880",
           "#FF97FF",
           "#FECB52"
          ],
          "font": {
           "color": "#2a3f5f"
          },
          "geo": {
           "bgcolor": "white",
           "lakecolor": "white",
           "landcolor": "#E5ECF6",
           "showlakes": true,
           "showland": true,
           "subunitcolor": "white"
          },
          "hoverlabel": {
           "align": "left"
          },
          "hovermode": "closest",
          "mapbox": {
           "style": "light"
          },
          "paper_bgcolor": "white",
          "plot_bgcolor": "#E5ECF6",
          "polar": {
           "angularaxis": {
            "gridcolor": "white",
            "linecolor": "white",
            "ticks": ""
           },
           "bgcolor": "#E5ECF6",
           "radialaxis": {
            "gridcolor": "white",
            "linecolor": "white",
            "ticks": ""
           }
          },
          "scene": {
           "xaxis": {
            "backgroundcolor": "#E5ECF6",
            "gridcolor": "white",
            "gridwidth": 2,
            "linecolor": "white",
            "showbackground": true,
            "ticks": "",
            "zerolinecolor": "white"
           },
           "yaxis": {
            "backgroundcolor": "#E5ECF6",
            "gridcolor": "white",
            "gridwidth": 2,
            "linecolor": "white",
            "showbackground": true,
            "ticks": "",
            "zerolinecolor": "white"
           },
           "zaxis": {
            "backgroundcolor": "#E5ECF6",
            "gridcolor": "white",
            "gridwidth": 2,
            "linecolor": "white",
            "showbackground": true,
            "ticks": "",
            "zerolinecolor": "white"
           }
          },
          "shapedefaults": {
           "line": {
            "color": "#2a3f5f"
           }
          },
          "ternary": {
           "aaxis": {
            "gridcolor": "white",
            "linecolor": "white",
            "ticks": ""
           },
           "baxis": {
            "gridcolor": "white",
            "linecolor": "white",
            "ticks": ""
           },
           "bgcolor": "#E5ECF6",
           "caxis": {
            "gridcolor": "white",
            "linecolor": "white",
            "ticks": ""
           }
          },
          "title": {
           "x": 0.05
          },
          "xaxis": {
           "automargin": true,
           "gridcolor": "white",
           "linecolor": "white",
           "ticks": "",
           "title": {
            "standoff": 15
           },
           "zerolinecolor": "white",
           "zerolinewidth": 2
          },
          "yaxis": {
           "automargin": true,
           "gridcolor": "white",
           "linecolor": "white",
           "ticks": "",
           "title": {
            "standoff": 15
           },
           "zerolinecolor": "white",
           "zerolinewidth": 2
          }
         }
        },
        "xaxis": {
         "anchor": "y",
         "domain": [
          0,
          1
         ],
         "title": {
          "text": "semestre_letivo_referencia"
         }
        },
        "yaxis": {
         "anchor": "x",
         "domain": [
          0,
          1
         ],
         "title": {
          "text": "value"
         }
        }
       }
      }
     },
     "metadata": {},
     "output_type": "display_data"
    }
   ],
   "source": [
    "view_1 = ps.DataFrame(data.groupBy('semestre_letivo_referencia', 'situacao_descricao')\n",
    "                      .count()\n",
    "                      .orderBy('semestre_letivo_referencia'))\n",
    "\n",
    "view_1_pivot = view_1.pivot(index='semestre_letivo_referencia', \n",
    "                            columns='situacao_descricao', \n",
    "                            values='count')\n",
    "view_1_pivot.plot(kind='bar')"
   ]
  },
  {
   "cell_type": "code",
   "execution_count": 59,
   "metadata": {},
   "outputs": [],
   "source": [
    "# Encerra a sessão spark\n",
    "spark.stop()"
   ]
  }
 ],
 "metadata": {
  "kernelspec": {
   "display_name": "Python 3",
   "language": "python",
   "name": "python3"
  },
  "language_info": {
   "codemirror_mode": {
    "name": "ipython",
    "version": 3
   },
   "file_extension": ".py",
   "mimetype": "text/x-python",
   "name": "python",
   "nbconvert_exporter": "python",
   "pygments_lexer": "ipython3",
   "version": "3.10.12"
  }
 },
 "nbformat": 4,
 "nbformat_minor": 2
}
