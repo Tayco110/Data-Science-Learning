{
 "cells": [
  {
   "cell_type": "markdown",
   "metadata": {},
   "source": [
    "## Disclaimer:\n",
    "\n",
    "### O notebook em questão possui como objetivo a vizualisação e exploração de dados dos estudantes da Universidade Federal de Lavras (UFLA). Os dados em questão estão disponíveis para consulta pública [aqui](https://dados.gov.br/dados/conjuntos-dados/estudantes-da-graduacao). A ferramenta utilizada para manipulação dos dados foi o `PySpark`."
   ]
  },
  {
   "cell_type": "code",
   "execution_count": null,
   "metadata": {},
   "outputs": [],
   "source": [
    "# Criação da sessão Spark\n",
    "from pyspark.sql import SparkSession\n",
    "spark = SparkSession.builder.appName(\"data_exploration\").getOrCreate()\n",
    "import warnings\n",
    "warnings.filterwarnings('ignore')"
   ]
  },
  {
   "cell_type": "markdown",
   "metadata": {},
   "source": [
    "### SETUP"
   ]
  },
  {
   "cell_type": "code",
   "execution_count": null,
   "metadata": {},
   "outputs": [],
   "source": [
    "# IMPORTS\n",
    "import pyspark.pandas as ps\n",
    "from pyspark.sql import functions as F"
   ]
  },
  {
   "cell_type": "markdown",
   "metadata": {},
   "source": [
    "### DATA VIEW"
   ]
  },
  {
   "cell_type": "code",
   "execution_count": null,
   "metadata": {},
   "outputs": [],
   "source": [
    "# Carregando os dados como um objeto PySpark\n",
    "data = spark.read.csv('alunos_2024.csv', header=True, inferSchema=True)\n",
    "type(data)"
   ]
  },
  {
   "cell_type": "code",
   "execution_count": null,
   "metadata": {},
   "outputs": [],
   "source": [
    "# Tabela com os dados\n",
    "data.show()"
   ]
  },
  {
   "cell_type": "code",
   "execution_count": null,
   "metadata": {},
   "outputs": [],
   "source": [
    "# Schema dos dados\n",
    "data.printSchema()"
   ]
  },
  {
   "cell_type": "code",
   "execution_count": null,
   "metadata": {},
   "outputs": [],
   "source": [
    "# Para plotar os gráficos no notebook\n",
    "%matplotlib inline"
   ]
  },
  {
   "cell_type": "code",
   "execution_count": null,
   "metadata": {},
   "outputs": [],
   "source": [
    "# Para melhor manipulação trasnforma o objeto em SparkPandas\n",
    "view_1 = ps.DataFrame(data.groupBy('semestre_letivo_referencia', 'situacao_descricao')\n",
    "                      .count()\n",
    "                      .orderBy('semestre_letivo_referencia'))\n",
    "\n",
    "view_1_pivot = view_1.pivot(index='semestre_letivo_referencia', \n",
    "                            columns='situacao_descricao', \n",
    "                            values='count')\n",
    "view_1_pivot.plot(kind='bar')"
   ]
  },
  {
   "cell_type": "code",
   "execution_count": null,
   "metadata": {},
   "outputs": [],
   "source": [
    "# Para melhor manipulação trasnforma o objeto em SparkPandas\n",
    "view_2 = ps.DataFrame(data.groupBy('semestre_letivo_referencia', 'situacao_estudante')\n",
    "                      .count()\n",
    "                      .orderBy('semestre_letivo_referencia'))\n",
    "\n",
    "view_2_pivot = view_2.pivot(index='semestre_letivo_referencia', \n",
    "                            columns='situacao_estudante', \n",
    "                            values='count')\n",
    "view_2_pivot.plot(kind='bar')"
   ]
  },
  {
   "cell_type": "code",
   "execution_count": null,
   "metadata": {},
   "outputs": [],
   "source": [
    "view_2 = data.groupBy('situacao_estudante').count()\n",
    "total = view_2.groupBy().agg(F.sum('count').alias('total')).collect()[0]['total']\n",
    "view_2 = view_2.withColumn('percent', (F.col('count') / total) * 100)\n",
    "\n",
    "view_2 = ps.DataFrame(view_2)\n",
    "view_2 = view_2.set_index('situacao_estudante')\n",
    "view_2.plot(kind='pie',y='percent')"
   ]
  },
  {
   "cell_type": "code",
   "execution_count": null,
   "metadata": {},
   "outputs": [],
   "source": [
    "# Para melhor manipulação trasnforma o objeto em SparkPandas\n",
    "view_3 = ps.DataFrame(data.groupBy('semestre_letivo_referencia', 'curso')\n",
    "                      .count()\n",
    "                      .orderBy('semestre_letivo_referencia'))\n",
    "\n",
    "view_3_pivot = view_3.pivot(index='semestre_letivo_referencia', \n",
    "                            columns='curso', \n",
    "                            values='count')\n",
    "view_3_pivot.plot(kind='bar')"
   ]
  },
  {
   "cell_type": "code",
   "execution_count": null,
   "metadata": {},
   "outputs": [],
   "source": [
    "# Para melhor manipulação trasnforma o objeto em SparkPandas\n",
    "view_4 = ps.DataFrame(data.groupBy('curso', 'curso_turno')\n",
    "                      .count()\n",
    "                      .orderBy('curso'))\n",
    "\n",
    "view_4_pivot = view_4.pivot(index='curso', \n",
    "                            columns='curso_turno', \n",
    "                            values='count')\n",
    "view_4_pivot.plot(kind='barh')"
   ]
  },
  {
   "cell_type": "code",
   "execution_count": null,
   "metadata": {},
   "outputs": [],
   "source": [
    "# Para melhor manipulação trasnforma o objeto em SparkPandas\n",
    "view_5 = ps.DataFrame(data.groupBy('semestre_letivo_referencia', 'curso_turno')\n",
    "                      .count()\n",
    "                      .orderBy('semestre_letivo_referencia'))\n",
    "\n",
    "view_5_pivot = view_5.pivot(index='semestre_letivo_referencia', \n",
    "                            columns='curso_turno', \n",
    "                            values='count')\n",
    "view_5_pivot.plot(kind='bar')"
   ]
  },
  {
   "cell_type": "markdown",
   "metadata": {},
   "source": [
    "# TODO: FILTRAR OS DADOS DE ENTRADA PARA OS FORMATOS E CAMPOS DE INTERESSE\n",
    "\n",
    "Verificar dados nulos ou faltantes.\n",
    "\n",
    "Identificar e tratar outliers.\n",
    "\n",
    "Padronizar formatos de data.\n",
    "\n",
    "Codificar variáveis categóricas.\n",
    "\n",
    "Corrigir inconsistências e erros de digitação.\n",
    "\n",
    "Normalizar ou padronizar variáveis numéricas.\n",
    "\n",
    "Remover colunas irrelevantes ou redundantes.\n",
    "\n",
    "Eliminar dados duplicados.\n",
    "\n",
    "Dividir colunas que contêm múltiplas informações.\n",
    "\n",
    "Assegurar a consistência lógica dos dados.\n",
    "\n",
    "Analisar a distribuição de valores únicos em colunas categóricas.\n",
    "\n",
    "Agrupar categorias similares para simplificação.\n",
    "\n",
    "Converter colunas de texto em categorias.\n",
    "\n",
    "Agregar dados para criar métricas resumidas."
   ]
  },
  {
   "cell_type": "markdown",
   "metadata": {},
   "source": [
    "# TODO: ADICIONAR DADOS SINTÉTICOS\n",
    "\n",
    "Desempenho Acadêmico e Áreas de Estudo: Correlacionar as notas e desempenho acadêmico com as áreas de estudo (como cursos ou especializações) para identificar alunos com alto desempenho em campos específicos que são demandados pelas empresas.\n",
    "\n",
    "Habilidades Técnicas e Interesses Profissionais: Analisar a relação entre as habilidades técnicas (por exemplo, linguagens de programação, ferramentas de design, etc.) que os alunos possuem e seus interesses profissionais para encontrar correspondências com as necessidades das empresas.\n",
    "\n",
    "Participação em Atividades Extracurriculares e Iniciativa: Investigar se a participação em clubes, sociedades estudantis e projetos extracurriculares está correlacionada com a proatividade e iniciativa, qualidades muitas vezes procuradas para posições de estágio.\n",
    "\n",
    "Projetos de Curso e Experiência Prática: Correlacionar os tipos de projetos realizados durante o curso (como projetos de final de curso, estágios curriculares, pesquisas, etc.) com as áreas de interesse das empresas para recomendar alunos com experiência prática relevante.\n",
    "\n",
    "Idiomas e Mercados Internacionais: Para empresas com operações internacionais, pode ser útil correlacionar a proficiência em idiomas com os mercados onde a empresa opera para recomendar alunos que possam se comunicar efetivamente em diferentes regiões.\n",
    "\n",
    "Soft Skills e Cultura da Empresa: Analisar soft skills reportadas ou avaliadas (como trabalho em equipe, comunicação, liderança) e correlacioná-las com a cultura e valores das empresas parceiras para garantir uma boa integração cultural.\n",
    "\n",
    "Disponibilidade e Locais de Estágio: Correlacionar a disponibilidade dos alunos (horários, período do estágio) e sua localização geográfica com as oportunidades de estágio disponíveis para recomendar alunos que se encaixam logisticamente nas necessidades das empresas.\n",
    "\n",
    "Feedback de Estágios Anteriores: Se houver dados disponíveis, analisar o feedback de supervisores de estágios anteriores para identificar alunos que tiveram bom desempenho em ambientes profissionais."
   ]
  },
  {
   "cell_type": "code",
   "execution_count": null,
   "metadata": {},
   "outputs": [],
   "source": [
    "# Encerra a sessão spark\n",
    "spark.stop()"
   ]
  }
 ],
 "metadata": {
  "kernelspec": {
   "display_name": "Python 3",
   "language": "python",
   "name": "python3"
  },
  "language_info": {
   "codemirror_mode": {
    "name": "ipython",
    "version": 3
   },
   "file_extension": ".py",
   "mimetype": "text/x-python",
   "name": "python",
   "nbconvert_exporter": "python",
   "pygments_lexer": "ipython3",
   "version": "3.10.12"
  }
 },
 "nbformat": 4,
 "nbformat_minor": 2
}
