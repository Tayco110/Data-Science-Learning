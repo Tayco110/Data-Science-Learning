{
 "cells": [
  {
   "cell_type": "markdown",
   "metadata": {},
   "source": [
    "## Disclaimer:\n",
    "\n",
    "### O notebook em questão possui como objetivo a vizualisação e exploração de dados dos estudantes da Universidade Federal de Lavras (UFLA). Os dados em questão estão disponíveis para consulta pública [aqui](https://dados.gov.br/dados/conjuntos-dados/estudantes-da-graduacao). A ferramenta utilizada para manipulação dos dados foi o `PySpark`."
   ]
  },
  {
   "cell_type": "code",
   "execution_count": 30,
   "metadata": {},
   "outputs": [],
   "source": [
    "# Criação da sessão Spark\n",
    "from pyspark.sql import SparkSession\n",
    "spark = SparkSession.builder.appName(\"data_exploration\").getOrCreate()\n",
    "import warnings\n",
    "warnings.filterwarnings('ignore')"
   ]
  },
  {
   "cell_type": "markdown",
   "metadata": {},
   "source": [
    "### SETUP"
   ]
  },
  {
   "cell_type": "code",
   "execution_count": 74,
   "metadata": {},
   "outputs": [],
   "source": [
    "# IMPORTS\n",
    "import random\n",
    "import pyspark.pandas as ps\n",
    "from pyspark.sql import functions as F\n",
    "from pyspark.sql.functions import udf, col, split\n",
    "from pyspark.sql.types import ArrayType, StringType\n",
    "from pyspark.sql.functions import rand, when"
   ]
  },
  {
   "cell_type": "markdown",
   "metadata": {},
   "source": [
    "### DATA VIEW"
   ]
  },
  {
   "cell_type": "code",
   "execution_count": 32,
   "metadata": {},
   "outputs": [
    {
     "name": "stderr",
     "output_type": "stream",
     "text": [
      "                                                                                \r"
     ]
    },
    {
     "data": {
      "text/plain": [
       "pyspark.sql.dataframe.DataFrame"
      ]
     },
     "execution_count": 32,
     "metadata": {},
     "output_type": "execute_result"
    }
   ],
   "source": [
    "# Carregando os dados como um objeto PySpark\n",
    "data = spark.read.csv('dados_abertos___estudantes_da_graduacao_2024-02-22T12_08_52.899842-03_00.csv', header=True, inferSchema=True)\n",
    "type(data)"
   ]
  },
  {
   "cell_type": "code",
   "execution_count": 33,
   "metadata": {},
   "outputs": [
    {
     "name": "stdout",
     "output_type": "stream",
     "text": [
      "+------------------+--------------------+--------------------------+---------------------+------------------+------------------------+--------------+-------------------+-------------------+-----------+-----------+----------------------+------------------+----------------+-----------------+--------------------+--------------+--------------+--------------+--------------------+\n",
      "|registro_academico|               curso|semestre_letivo_referencia|ano_letivo_referencia|situacao_estudante|semestre_letivo_ingresso|forma_ingresso|forma_ingresso_tipo|codigo_oferta_curso|codigo_inep|curso_turno|nome_matriz_curricular|  titulo_academico|curso_modalidade|    situacao_nome|  situacao_descricao|situacao_censo|        campus|sistema_origem| data_atualizacao_dw|\n",
      "+------------------+--------------------+--------------------------+---------------------+------------------+------------------------+--------------+-------------------+-------------------+-----------+-----------+----------------------+------------------+----------------+-----------------+--------------------+--------------+--------------+--------------+--------------------+\n",
      "|         202325010|Bacharelado Inter...|                    2023/2|           2023-01-01|             Ativo|                  2023/2|   SiSU (Enem)|            Regular|             GCT039|    1598889|   Integral|                202302|       Bacharelado|      Presencial|      Matriculado|Discente matricul...|      Cursando|Campus Paraíso|      SIG-UFLA|2024-02-22 02:06:...|\n",
      "|         202325009|Bacharelado Inter...|                    2023/2|           2023-01-01|             Ativo|                  2023/2|   SiSU (Enem)|            Regular|             GCT039|    1598889|   Integral|                202302|       Bacharelado|      Presencial|      Matriculado|Discente matricul...|      Cursando|Campus Paraíso|      SIG-UFLA|2024-02-22 02:06:...|\n",
      "|         202325008|Bacharelado Inter...|                    2023/2|           2023-01-01|           Inativo|                  2023/2|   SiSU (Enem)|            Regular|             GCT039|    1598889|   Integral|                202302|       Bacharelado|      Presencial|Desistiu do curso|Discente solicito...|  Desvinculado|Campus Paraíso|      SIG-UFLA|2024-02-22 02:06:...|\n",
      "|         202325007|Bacharelado Inter...|                    2023/2|           2023-01-01|             Ativo|                  2023/2|   SiSU (Enem)|            Regular|             GCT039|    1598889|   Integral|                202302|       Bacharelado|      Presencial|      Matriculado|Discente matricul...|      Cursando|Campus Paraíso|      SIG-UFLA|2024-02-22 02:06:...|\n",
      "|         202325006|Bacharelado Inter...|                    2023/2|           2023-01-01|             Ativo|                  2023/2|   SiSU (Enem)|            Regular|             GCT039|    1598889|   Integral|                202302|       Bacharelado|      Presencial|      Matriculado|Discente matricul...|      Cursando|Campus Paraíso|      SIG-UFLA|2024-02-22 02:06:...|\n",
      "|         202325005|Bacharelado Inter...|                    2023/2|           2023-01-01|             Ativo|                  2023/2|   SiSU (Enem)|            Regular|             GCT039|    1598889|   Integral|                202302|       Bacharelado|      Presencial|      Matriculado|Discente matricul...|      Cursando|Campus Paraíso|      SIG-UFLA|2024-02-22 02:06:...|\n",
      "|         202325004|Bacharelado Inter...|                    2023/2|           2023-01-01|             Ativo|                  2023/2|   SiSU (Enem)|            Regular|             GCT039|    1598889|   Integral|                202302|       Bacharelado|      Presencial|      Matriculado|Discente matricul...|      Cursando|Campus Paraíso|      SIG-UFLA|2024-02-22 02:06:...|\n",
      "|         202325003|Bacharelado Inter...|                    2023/2|           2023-01-01|             Ativo|                  2023/2|   SiSU (Enem)|            Regular|             GCT039|    1598889|   Integral|                202302|       Bacharelado|      Presencial|      Matriculado|Discente matricul...|      Cursando|Campus Paraíso|      SIG-UFLA|2024-02-22 02:06:...|\n",
      "|         202325002|Bacharelado Inter...|                    2023/2|           2023-01-01|             Ativo|                  2023/2|   SiSU (Enem)|            Regular|             GCT039|    1598889|   Integral|                202302|       Bacharelado|      Presencial|      Matriculado|Discente matricul...|      Cursando|Campus Paraíso|      SIG-UFLA|2024-02-22 02:06:...|\n",
      "|         202325001|Bacharelado Inter...|                    2023/2|           2023-01-01|             Ativo|                  2023/2|   SiSU (Enem)|            Regular|             GCT039|    1598889|   Integral|                202302|       Bacharelado|      Presencial|      Matriculado|Discente matricul...|      Cursando|Campus Paraíso|      SIG-UFLA|2024-02-22 02:06:...|\n",
      "|         202321153|Administração Púb...|                    2023/2|           2023-01-01|             Ativo|                  2023/2|   SiSU (Enem)|            Regular|               G026|     150124|    Noturno|                202301|       Bacharelado|      Presencial|      Matriculado|Discente matricul...|      Cursando|   Campus Sede|      SIG-UFLA|2024-02-22 02:06:...|\n",
      "|         202321152|Administração Púb...|                    2023/2|           2023-01-01|             Ativo|                  2023/2|   SiSU (Enem)|            Regular|               G026|     150124|    Noturno|                202301|       Bacharelado|      Presencial|      Matriculado|Discente matricul...|      Cursando|   Campus Sede|      SIG-UFLA|2024-02-22 02:06:...|\n",
      "|         202321151| Ciências Biológicas|                    2023/2|           2023-01-01|           Inativo|                  2023/2|   SiSU (Enem)|            Regular|               G012|      63838|   Integral|                202301|       Bacharelado|      Presencial|Desistiu do curso|Discente solicito...|  Desvinculado|   Campus Sede|      SIG-UFLA|2024-02-22 02:06:...|\n",
      "|         202321150| Ciências Biológicas|                    2023/2|           2023-01-01|             Ativo|                  2023/2|   SiSU (Enem)|            Regular|               G012|      63838|   Integral|                202301|       Bacharelado|      Presencial|      Matriculado|Discente matricul...|      Cursando|   Campus Sede|      SIG-UFLA|2024-02-22 02:06:...|\n",
      "|         202321149|       Administração|                    2023/2|           2023-01-01|             Ativo|                  2023/2|   SiSU (Enem)|            Regular|               G009|      53522|   Integral|                202301|       Bacharelado|      Presencial|      Matriculado|Discente matricul...|      Cursando|   Campus Sede|      SIG-UFLA|2024-02-22 02:06:...|\n",
      "|         202321148|           Zootecnia|                    2023/2|           2023-01-01|             Ativo|                  2023/2|   SiSU (Enem)|            Regular|               G002|      14577|   Integral|                202301|       Bacharelado|      Presencial|      Matriculado|Discente matricul...|      Cursando|   Campus Sede|      SIG-UFLA|2024-02-22 02:06:...|\n",
      "|         202321147|Bacharelado Inter...|                    2023/2|           2023-01-01|             Ativo|                  2023/2|   SiSU (Enem)|            Regular|               G046|    1616694|   Integral|                202301|       Bacharelado|      Presencial|      Matriculado|Discente matricul...|      Cursando|   Campus Sede|      SIG-UFLA|2024-02-22 02:06:...|\n",
      "|         202321146|Bacharelado Inter...|                    2023/2|           2023-01-01|             Ativo|                  2023/2|   SiSU (Enem)|            Regular|               G046|    1616694|   Integral|                202301|       Bacharelado|      Presencial|      Matriculado|Discente matricul...|      Cursando|   Campus Sede|      SIG-UFLA|2024-02-22 02:06:...|\n",
      "|         202321145| Ciências Biológicas|                    2023/2|           2023-01-01|             Ativo|                  2023/2|   SiSU (Enem)|            Regular|               G020|     122662|   Integral|                202401|Licenciatura Plena|      Presencial|      Matriculado|Discente matricul...|      Cursando|   Campus Sede|      SIG-UFLA|2024-02-22 02:06:...|\n",
      "|         202321144|Engenharia Florestal|                    2023/2|           2023-01-01|             Ativo|                  2023/2|   SiSU (Enem)|            Regular|               G005|      14580|   Integral|                202301|       Bacharelado|      Presencial|      Matriculado|Discente matricul...|      Cursando|   Campus Sede|      SIG-UFLA|2024-02-22 02:06:...|\n",
      "+------------------+--------------------+--------------------------+---------------------+------------------+------------------------+--------------+-------------------+-------------------+-----------+-----------+----------------------+------------------+----------------+-----------------+--------------------+--------------+--------------+--------------+--------------------+\n",
      "only showing top 20 rows\n",
      "\n"
     ]
    }
   ],
   "source": [
    "# Tabela com os dados\n",
    "data.show()"
   ]
  },
  {
   "cell_type": "code",
   "execution_count": 34,
   "metadata": {},
   "outputs": [],
   "source": [
    "# Para plotar os gráficos no notebook\n",
    "%matplotlib inline"
   ]
  },
  {
   "cell_type": "code",
   "execution_count": 35,
   "metadata": {},
   "outputs": [
    {
     "data": {
      "application/vnd.plotly.v1+json": {
       "config": {
        "plotlyServerURL": "https://plot.ly"
       },
       "data": [
        {
         "alignmentgroup": "True",
         "hovertemplate": "situacao_descricao=Aluno vinculado a UFLA, sem cursar disciplinas.<br>semestre_letivo_referencia=%{x}<br>value=%{y}<extra></extra>",
         "legendgroup": "Aluno vinculado a UFLA, sem cursar disciplinas.",
         "marker": {
          "color": "#636efa",
          "pattern": {
           "shape": ""
          }
         },
         "name": "Aluno vinculado a UFLA, sem cursar disciplinas.",
         "offsetgroup": "Aluno vinculado a UFLA, sem cursar disciplinas.",
         "orientation": "v",
         "showlegend": true,
         "textposition": "auto",
         "type": "bar",
         "x": [
          "2010/1",
          "2010/2",
          "2011/1",
          "2011/2",
          "2012/1",
          "2012/2",
          "2013/1",
          "2013/2",
          "2014/1",
          "2014/2",
          "2015/1",
          "2015/2",
          "2016/1",
          "2016/2",
          "2017/1",
          "2017/2",
          "2018/1",
          "2018/2",
          "2019/1",
          "2019/2",
          "2020/1",
          "2020/2",
          "2021/1",
          "2021/2",
          "2022/1",
          "2022/2",
          "2023/1",
          "2023/2"
         ],
         "xaxis": "x",
         "y": [
          null,
          null,
          null,
          null,
          null,
          1,
          8,
          9,
          49,
          94,
          163,
          41,
          13,
          6,
          8,
          427,
          3,
          15,
          null,
          11,
          4,
          null,
          8,
          null,
          null,
          null,
          null,
          null
         ],
         "yaxis": "y"
        },
        {
         "alignmentgroup": "True",
         "hovertemplate": "situacao_descricao=Conclusão dos requisitos acadêmicos ou titulação<br>semestre_letivo_referencia=%{x}<br>value=%{y}<extra></extra>",
         "legendgroup": "Conclusão dos requisitos acadêmicos ou titulação",
         "marker": {
          "color": "#EF553B",
          "pattern": {
           "shape": ""
          }
         },
         "name": "Conclusão dos requisitos acadêmicos ou titulação",
         "offsetgroup": "Conclusão dos requisitos acadêmicos ou titulação",
         "orientation": "v",
         "showlegend": true,
         "textposition": "auto",
         "type": "bar",
         "x": [
          "2010/1",
          "2010/2",
          "2011/1",
          "2011/2",
          "2012/1",
          "2012/2",
          "2013/1",
          "2013/2",
          "2014/1",
          "2014/2",
          "2015/1",
          "2015/2",
          "2016/1",
          "2016/2",
          "2017/1",
          "2017/2",
          "2018/1",
          "2018/2",
          "2019/1",
          "2019/2",
          "2020/1",
          "2020/2",
          "2021/1",
          "2021/2",
          "2022/1",
          "2022/2",
          "2023/1",
          "2023/2"
         ],
         "xaxis": "x",
         "y": [
          212,
          553,
          217,
          311,
          247,
          304,
          243,
          353,
          280,
          450,
          364,
          617,
          665,
          641,
          500,
          726,
          586,
          700,
          611,
          609,
          532,
          806,
          918,
          648,
          565,
          736,
          690,
          671
         ],
         "yaxis": "y"
        },
        {
         "alignmentgroup": "True",
         "hovertemplate": "situacao_descricao=Conclusão dos requisitos acadêmicos ou titulação com apostilamento<br>semestre_letivo_referencia=%{x}<br>value=%{y}<extra></extra>",
         "legendgroup": "Conclusão dos requisitos acadêmicos ou titulação com apostilamento",
         "marker": {
          "color": "#00cc96",
          "pattern": {
           "shape": ""
          }
         },
         "name": "Conclusão dos requisitos acadêmicos ou titulação com apostilamento",
         "offsetgroup": "Conclusão dos requisitos acadêmicos ou titulação com apostilamento",
         "orientation": "v",
         "showlegend": true,
         "textposition": "auto",
         "type": "bar",
         "x": [
          "2010/1",
          "2010/2",
          "2011/1",
          "2011/2",
          "2012/1",
          "2012/2",
          "2013/1",
          "2013/2",
          "2014/1",
          "2014/2",
          "2015/1",
          "2015/2",
          "2016/1",
          "2016/2",
          "2017/1",
          "2017/2",
          "2018/1",
          "2018/2",
          "2019/1",
          "2019/2",
          "2020/1",
          "2020/2",
          "2021/1",
          "2021/2",
          "2022/1",
          "2022/2",
          "2023/1",
          "2023/2"
         ],
         "xaxis": "x",
         "y": [
          null,
          null,
          null,
          null,
          null,
          null,
          null,
          null,
          null,
          1,
          null,
          null,
          null,
          null,
          null,
          null,
          null,
          null,
          null,
          null,
          null,
          null,
          null,
          null,
          null,
          null,
          null,
          null
         ],
         "yaxis": "y"
        },
        {
         "alignmentgroup": "True",
         "hovertemplate": "situacao_descricao=Discente desligado por não renovação de matrícula<br>semestre_letivo_referencia=%{x}<br>value=%{y}<extra></extra>",
         "legendgroup": "Discente desligado por não renovação de matrícula",
         "marker": {
          "color": "#ab63fa",
          "pattern": {
           "shape": ""
          }
         },
         "name": "Discente desligado por não renovação de matrícula",
         "offsetgroup": "Discente desligado por não renovação de matrícula",
         "orientation": "v",
         "showlegend": true,
         "textposition": "auto",
         "type": "bar",
         "x": [
          "2010/1",
          "2010/2",
          "2011/1",
          "2011/2",
          "2012/1",
          "2012/2",
          "2013/1",
          "2013/2",
          "2014/1",
          "2014/2",
          "2015/1",
          "2015/2",
          "2016/1",
          "2016/2",
          "2017/1",
          "2017/2",
          "2018/1",
          "2018/2",
          "2019/1",
          "2019/2",
          "2020/1",
          "2020/2",
          "2021/1",
          "2021/2",
          "2022/1",
          "2022/2",
          "2023/1",
          "2023/2"
         ],
         "xaxis": "x",
         "y": [
          1,
          24,
          106,
          101,
          108,
          248,
          178,
          155,
          192,
          203,
          224,
          479,
          389,
          301,
          328,
          235,
          103,
          106,
          314,
          null,
          null,
          44,
          null,
          10,
          4,
          1,
          3,
          null
         ],
         "yaxis": "y"
        },
        {
         "alignmentgroup": "True",
         "hovertemplate": "situacao_descricao=Discente matriculado regularmente no curso<br>semestre_letivo_referencia=%{x}<br>value=%{y}<extra></extra>",
         "legendgroup": "Discente matriculado regularmente no curso",
         "marker": {
          "color": "#FFA15A",
          "pattern": {
           "shape": ""
          }
         },
         "name": "Discente matriculado regularmente no curso",
         "offsetgroup": "Discente matriculado regularmente no curso",
         "orientation": "v",
         "showlegend": true,
         "textposition": "auto",
         "type": "bar",
         "x": [
          "2010/1",
          "2010/2",
          "2011/1",
          "2011/2",
          "2012/1",
          "2012/2",
          "2013/1",
          "2013/2",
          "2014/1",
          "2014/2",
          "2015/1",
          "2015/2",
          "2016/1",
          "2016/2",
          "2017/1",
          "2017/2",
          "2018/1",
          "2018/2",
          "2019/1",
          "2019/2",
          "2020/1",
          "2020/2",
          "2021/1",
          "2021/2",
          "2022/1",
          "2022/2",
          "2023/1",
          "2023/2"
         ],
         "xaxis": "x",
         "y": [
          3903,
          4316,
          5018,
          5947,
          6698,
          6886,
          7502,
          7783,
          8047,
          8524,
          8752,
          8562,
          8858,
          8821,
          9930,
          9218,
          9509,
          9374,
          9330,
          9123,
          9209,
          9056,
          8754,
          8386,
          8309,
          7992,
          8015,
          8049
         ],
         "yaxis": "y"
        },
        {
         "alignmentgroup": "True",
         "hovertemplate": "situacao_descricao=Discente não compareceu ao curso por um período e, com isso, perdeu a vaga<br>semestre_letivo_referencia=%{x}<br>value=%{y}<extra></extra>",
         "legendgroup": "Discente não compareceu ao curso por um período e, com isso, perdeu a vaga",
         "marker": {
          "color": "#19d3f3",
          "pattern": {
           "shape": ""
          }
         },
         "name": "Discente não compareceu ao curso por um período e, com isso, perdeu a vaga",
         "offsetgroup": "Discente não compareceu ao curso por um período e, com isso, perdeu a vaga",
         "orientation": "v",
         "showlegend": true,
         "textposition": "auto",
         "type": "bar",
         "x": [
          "2010/1",
          "2010/2",
          "2011/1",
          "2011/2",
          "2012/1",
          "2012/2",
          "2013/1",
          "2013/2",
          "2014/1",
          "2014/2",
          "2015/1",
          "2015/2",
          "2016/1",
          "2016/2",
          "2017/1",
          "2017/2",
          "2018/1",
          "2018/2",
          "2019/1",
          "2019/2",
          "2020/1",
          "2020/2",
          "2021/1",
          "2021/2",
          "2022/1",
          "2022/2",
          "2023/1",
          "2023/2"
         ],
         "xaxis": "x",
         "y": [
          25,
          null,
          null,
          null,
          null,
          1,
          null,
          null,
          null,
          null,
          null,
          null,
          null,
          null,
          null,
          null,
          null,
          null,
          null,
          231,
          274,
          1,
          148,
          18,
          24,
          1,
          1332,
          345
         ],
         "yaxis": "y"
        },
        {
         "alignmentgroup": "True",
         "hovertemplate": "situacao_descricao=Discente realizando Atividade Acadêmica Internacional, regulamentada pela Resolução CEPE 121/2014<br>semestre_letivo_referencia=%{x}<br>value=%{y}<extra></extra>",
         "legendgroup": "Discente realizando Atividade Acadêmica Internacional, regulamentada pela Resolução CEPE 121/2014",
         "marker": {
          "color": "#FF6692",
          "pattern": {
           "shape": ""
          }
         },
         "name": "Discente realizando Atividade Acadêmica Internacional, regulamentada pela Resolução CEPE 121/2014",
         "offsetgroup": "Discente realizando Atividade Acadêmica Internacional, regulamentada pela Resolução CEPE 121/2014",
         "orientation": "v",
         "showlegend": true,
         "textposition": "auto",
         "type": "bar",
         "x": [
          "2010/1",
          "2010/2",
          "2011/1",
          "2011/2",
          "2012/1",
          "2012/2",
          "2013/1",
          "2013/2",
          "2014/1",
          "2014/2",
          "2015/1",
          "2015/2",
          "2016/1",
          "2016/2",
          "2017/1",
          "2017/2",
          "2018/1",
          "2018/2",
          "2019/1",
          "2019/2",
          "2020/1",
          "2020/2",
          "2021/1",
          "2021/2",
          "2022/1",
          "2022/2",
          "2023/1",
          "2023/2"
         ],
         "xaxis": "x",
         "y": [
          null,
          null,
          null,
          null,
          1,
          4,
          49,
          73,
          170,
          323,
          261,
          178,
          123,
          48,
          46,
          37,
          52,
          60,
          66,
          83,
          70,
          25,
          36,
          67,
          66,
          65,
          43,
          34
         ],
         "yaxis": "y"
        },
        {
         "alignmentgroup": "True",
         "hovertemplate": "situacao_descricao=Discente solicitou explicitamente a saída do curso<br>semestre_letivo_referencia=%{x}<br>value=%{y}<extra></extra>",
         "legendgroup": "Discente solicitou explicitamente a saída do curso",
         "marker": {
          "color": "#B6E880",
          "pattern": {
           "shape": ""
          }
         },
         "name": "Discente solicitou explicitamente a saída do curso",
         "offsetgroup": "Discente solicitou explicitamente a saída do curso",
         "orientation": "v",
         "showlegend": true,
         "textposition": "auto",
         "type": "bar",
         "x": [
          "2010/1",
          "2010/2",
          "2011/1",
          "2011/2",
          "2012/1",
          "2012/2",
          "2013/1",
          "2013/2",
          "2014/1",
          "2014/2",
          "2015/1",
          "2015/2",
          "2016/1",
          "2016/2",
          "2017/1",
          "2017/2",
          "2018/1",
          "2018/2",
          "2019/1",
          "2019/2",
          "2020/1",
          "2020/2",
          "2021/1",
          "2021/2",
          "2022/1",
          "2022/2",
          "2023/1",
          "2023/2"
         ],
         "xaxis": "x",
         "y": [
          47,
          23,
          119,
          171,
          351,
          269,
          181,
          215,
          220,
          235,
          333,
          405,
          221,
          354,
          248,
          255,
          356,
          330,
          397,
          266,
          332,
          398,
          217,
          299,
          193,
          197,
          285,
          194
         ],
         "yaxis": "y"
        },
        {
         "alignmentgroup": "True",
         "hovertemplate": "situacao_descricao=Discente trancou o curso por um período<br>semestre_letivo_referencia=%{x}<br>value=%{y}<extra></extra>",
         "legendgroup": "Discente trancou o curso por um período",
         "marker": {
          "color": "#FF97FF",
          "pattern": {
           "shape": ""
          }
         },
         "name": "Discente trancou o curso por um período",
         "offsetgroup": "Discente trancou o curso por um período",
         "orientation": "v",
         "showlegend": true,
         "textposition": "auto",
         "type": "bar",
         "x": [
          "2010/1",
          "2010/2",
          "2011/1",
          "2011/2",
          "2012/1",
          "2012/2",
          "2013/1",
          "2013/2",
          "2014/1",
          "2014/2",
          "2015/1",
          "2015/2",
          "2016/1",
          "2016/2",
          "2017/1",
          "2017/2",
          "2018/1",
          "2018/2",
          "2019/1",
          "2019/2",
          "2020/1",
          "2020/2",
          "2021/1",
          "2021/2",
          "2022/1",
          "2022/2",
          "2023/1",
          "2023/2"
         ],
         "xaxis": "x",
         "y": [
          132,
          227,
          224,
          327,
          371,
          380,
          440,
          573,
          549,
          531,
          658,
          765,
          707,
          811,
          645,
          862,
          1154,
          1373,
          1308,
          1463,
          1340,
          1368,
          1592,
          1992,
          2421,
          2546,
          1426,
          1315
         ],
         "yaxis": "y"
        },
        {
         "alignmentgroup": "True",
         "hovertemplate": "situacao_descricao=Discente transferido internamente para outro turno do mesmo curso<br>semestre_letivo_referencia=%{x}<br>value=%{y}<extra></extra>",
         "legendgroup": "Discente transferido internamente para outro turno do mesmo curso",
         "marker": {
          "color": "#FECB52",
          "pattern": {
           "shape": ""
          }
         },
         "name": "Discente transferido internamente para outro turno do mesmo curso",
         "offsetgroup": "Discente transferido internamente para outro turno do mesmo curso",
         "orientation": "v",
         "showlegend": true,
         "textposition": "auto",
         "type": "bar",
         "x": [
          "2010/1",
          "2010/2",
          "2011/1",
          "2011/2",
          "2012/1",
          "2012/2",
          "2013/1",
          "2013/2",
          "2014/1",
          "2014/2",
          "2015/1",
          "2015/2",
          "2016/1",
          "2016/2",
          "2017/1",
          "2017/2",
          "2018/1",
          "2018/2",
          "2019/1",
          "2019/2",
          "2020/1",
          "2020/2",
          "2021/1",
          "2021/2",
          "2022/1",
          "2022/2",
          "2023/1",
          "2023/2"
         ],
         "xaxis": "x",
         "y": [
          null,
          null,
          null,
          null,
          null,
          null,
          null,
          null,
          null,
          null,
          null,
          null,
          null,
          1,
          null,
          null,
          null,
          null,
          null,
          null,
          null,
          null,
          null,
          null,
          null,
          null,
          null,
          null
         ],
         "yaxis": "y"
        },
        {
         "alignmentgroup": "True",
         "hovertemplate": "situacao_descricao=Discente transferido para outra instituição<br>semestre_letivo_referencia=%{x}<br>value=%{y}<extra></extra>",
         "legendgroup": "Discente transferido para outra instituição",
         "marker": {
          "color": "#636efa",
          "pattern": {
           "shape": ""
          }
         },
         "name": "Discente transferido para outra instituição",
         "offsetgroup": "Discente transferido para outra instituição",
         "orientation": "v",
         "showlegend": true,
         "textposition": "auto",
         "type": "bar",
         "x": [
          "2010/1",
          "2010/2",
          "2011/1",
          "2011/2",
          "2012/1",
          "2012/2",
          "2013/1",
          "2013/2",
          "2014/1",
          "2014/2",
          "2015/1",
          "2015/2",
          "2016/1",
          "2016/2",
          "2017/1",
          "2017/2",
          "2018/1",
          "2018/2",
          "2019/1",
          "2019/2",
          "2020/1",
          "2020/2",
          "2021/1",
          "2021/2",
          "2022/1",
          "2022/2",
          "2023/1",
          "2023/2"
         ],
         "xaxis": "x",
         "y": [
          4,
          4,
          11,
          6,
          10,
          5,
          2,
          16,
          6,
          4,
          12,
          3,
          6,
          12,
          11,
          10,
          7,
          8,
          26,
          11,
          33,
          22,
          13,
          22,
          18,
          18,
          23,
          12
         ],
         "yaxis": "y"
        },
        {
         "alignmentgroup": "True",
         "hovertemplate": "situacao_descricao=Discente transferido para outro curso não relacionado ao atual da mesma instituição<br>semestre_letivo_referencia=%{x}<br>value=%{y}<extra></extra>",
         "legendgroup": "Discente transferido para outro curso não relacionado ao atual da mesma instituição",
         "marker": {
          "color": "#EF553B",
          "pattern": {
           "shape": ""
          }
         },
         "name": "Discente transferido para outro curso não relacionado ao atual da mesma instituição",
         "offsetgroup": "Discente transferido para outro curso não relacionado ao atual da mesma instituição",
         "orientation": "v",
         "showlegend": true,
         "textposition": "auto",
         "type": "bar",
         "x": [
          "2010/1",
          "2010/2",
          "2011/1",
          "2011/2",
          "2012/1",
          "2012/2",
          "2013/1",
          "2013/2",
          "2014/1",
          "2014/2",
          "2015/1",
          "2015/2",
          "2016/1",
          "2016/2",
          "2017/1",
          "2017/2",
          "2018/1",
          "2018/2",
          "2019/1",
          "2019/2",
          "2020/1",
          "2020/2",
          "2021/1",
          "2021/2",
          "2022/1",
          "2022/2",
          "2023/1",
          "2023/2"
         ],
         "xaxis": "x",
         "y": [
          46,
          null,
          30,
          93,
          null,
          67,
          89,
          98,
          77,
          89,
          54,
          null,
          118,
          76,
          102,
          97,
          84,
          43,
          55,
          9,
          25,
          4,
          15,
          25,
          null,
          23,
          null,
          30
         ],
         "yaxis": "y"
        },
        {
         "alignmentgroup": "True",
         "hovertemplate": "situacao_descricao=Encerrou o período de trancamento geral no curso<br>semestre_letivo_referencia=%{x}<br>value=%{y}<extra></extra>",
         "legendgroup": "Encerrou o período de trancamento geral no curso",
         "marker": {
          "color": "#00cc96",
          "pattern": {
           "shape": ""
          }
         },
         "name": "Encerrou o período de trancamento geral no curso",
         "offsetgroup": "Encerrou o período de trancamento geral no curso",
         "orientation": "v",
         "showlegend": true,
         "textposition": "auto",
         "type": "bar",
         "x": [
          "2010/1",
          "2010/2",
          "2011/1",
          "2011/2",
          "2012/1",
          "2012/2",
          "2013/1",
          "2013/2",
          "2014/1",
          "2014/2",
          "2015/1",
          "2015/2",
          "2016/1",
          "2016/2",
          "2017/1",
          "2017/2",
          "2018/1",
          "2018/2",
          "2019/1",
          "2019/2",
          "2020/1",
          "2020/2",
          "2021/1",
          "2021/2",
          "2022/1",
          "2022/2",
          "2023/1",
          "2023/2"
         ],
         "xaxis": "x",
         "y": [
          null,
          null,
          null,
          null,
          1,
          null,
          null,
          null,
          1,
          null,
          null,
          1,
          null,
          null,
          null,
          null,
          null,
          1,
          null,
          null,
          1,
          null,
          1,
          null,
          2,
          null,
          1,
          null
         ],
         "yaxis": "y"
        },
        {
         "alignmentgroup": "True",
         "hovertemplate": "situacao_descricao=Falecimento do discente<br>semestre_letivo_referencia=%{x}<br>value=%{y}<extra></extra>",
         "legendgroup": "Falecimento do discente",
         "marker": {
          "color": "#ab63fa",
          "pattern": {
           "shape": ""
          }
         },
         "name": "Falecimento do discente",
         "offsetgroup": "Falecimento do discente",
         "orientation": "v",
         "showlegend": true,
         "textposition": "auto",
         "type": "bar",
         "x": [
          "2010/1",
          "2010/2",
          "2011/1",
          "2011/2",
          "2012/1",
          "2012/2",
          "2013/1",
          "2013/2",
          "2014/1",
          "2014/2",
          "2015/1",
          "2015/2",
          "2016/1",
          "2016/2",
          "2017/1",
          "2017/2",
          "2018/1",
          "2018/2",
          "2019/1",
          "2019/2",
          "2020/1",
          "2020/2",
          "2021/1",
          "2021/2",
          "2022/1",
          "2022/2",
          "2023/1",
          "2023/2"
         ],
         "xaxis": "x",
         "y": [
          null,
          null,
          null,
          null,
          3,
          1,
          2,
          null,
          1,
          2,
          1,
          7,
          1,
          null,
          1,
          3,
          null,
          2,
          6,
          1,
          2,
          6,
          1,
          null,
          null,
          2,
          1,
          3
         ],
         "yaxis": "y"
        },
        {
         "alignmentgroup": "True",
         "hovertemplate": "situacao_descricao=Mudança do discente de um curso para uma habilitação ou de uma área básica para um curso/habilitação relacionados<br>semestre_letivo_referencia=%{x}<br>value=%{y}<extra></extra>",
         "legendgroup": "Mudança do discente de um curso para uma habilitação ou de uma área básica para um curso/habilitação relacionados",
         "marker": {
          "color": "#FFA15A",
          "pattern": {
           "shape": ""
          }
         },
         "name": "Mudança do discente de um curso para uma habilitação ou de uma área básica para um curso/habilitação relacionados",
         "offsetgroup": "Mudança do discente de um curso para uma habilitação ou de uma área básica para um curso/habilitação relacionados",
         "orientation": "v",
         "showlegend": true,
         "textposition": "auto",
         "type": "bar",
         "x": [
          "2010/1",
          "2010/2",
          "2011/1",
          "2011/2",
          "2012/1",
          "2012/2",
          "2013/1",
          "2013/2",
          "2014/1",
          "2014/2",
          "2015/1",
          "2015/2",
          "2016/1",
          "2016/2",
          "2017/1",
          "2017/2",
          "2018/1",
          "2018/2",
          "2019/1",
          "2019/2",
          "2020/1",
          "2020/2",
          "2021/1",
          "2021/2",
          "2022/1",
          "2022/2",
          "2023/1",
          "2023/2"
         ],
         "xaxis": "x",
         "y": [
          null,
          null,
          25,
          10,
          null,
          1,
          6,
          8,
          30,
          51,
          18,
          106,
          32,
          27,
          2,
          null,
          null,
          null,
          null,
          null,
          null,
          null,
          null,
          null,
          null,
          null,
          null,
          null
         ],
         "yaxis": "y"
        },
        {
         "alignmentgroup": "True",
         "hovertemplate": "situacao_descricao=Programa de Mobilidade Estudantil<br>semestre_letivo_referencia=%{x}<br>value=%{y}<extra></extra>",
         "legendgroup": "Programa de Mobilidade Estudantil",
         "marker": {
          "color": "#19d3f3",
          "pattern": {
           "shape": ""
          }
         },
         "name": "Programa de Mobilidade Estudantil",
         "offsetgroup": "Programa de Mobilidade Estudantil",
         "orientation": "v",
         "showlegend": true,
         "textposition": "auto",
         "type": "bar",
         "x": [
          "2010/1",
          "2010/2",
          "2011/1",
          "2011/2",
          "2012/1",
          "2012/2",
          "2013/1",
          "2013/2",
          "2014/1",
          "2014/2",
          "2015/1",
          "2015/2",
          "2016/1",
          "2016/2",
          "2017/1",
          "2017/2",
          "2018/1",
          "2018/2",
          "2019/1",
          "2019/2",
          "2020/1",
          "2020/2",
          "2021/1",
          "2021/2",
          "2022/1",
          "2022/2",
          "2023/1",
          "2023/2"
         ],
         "xaxis": "x",
         "y": [
          null,
          null,
          null,
          2,
          7,
          3,
          2,
          5,
          10,
          1,
          3,
          1,
          4,
          11,
          5,
          13,
          14,
          12,
          16,
          13,
          8,
          1,
          null,
          null,
          3,
          6,
          5,
          3
         ],
         "yaxis": "y"
        },
        {
         "alignmentgroup": "True",
         "hovertemplate": "situacao_descricao=Saiu do curso em função de desligamento por insuficiência ou outros<br>semestre_letivo_referencia=%{x}<br>value=%{y}<extra></extra>",
         "legendgroup": "Saiu do curso em função de desligamento por insuficiência ou outros",
         "marker": {
          "color": "#FF6692",
          "pattern": {
           "shape": ""
          }
         },
         "name": "Saiu do curso em função de desligamento por insuficiência ou outros",
         "offsetgroup": "Saiu do curso em função de desligamento por insuficiência ou outros",
         "orientation": "v",
         "showlegend": true,
         "textposition": "auto",
         "type": "bar",
         "x": [
          "2010/1",
          "2010/2",
          "2011/1",
          "2011/2",
          "2012/1",
          "2012/2",
          "2013/1",
          "2013/2",
          "2014/1",
          "2014/2",
          "2015/1",
          "2015/2",
          "2016/1",
          "2016/2",
          "2017/1",
          "2017/2",
          "2018/1",
          "2018/2",
          "2019/1",
          "2019/2",
          "2020/1",
          "2020/2",
          "2021/1",
          "2021/2",
          "2022/1",
          "2022/2",
          "2023/1",
          "2023/2"
         ],
         "xaxis": "x",
         "y": [
          1,
          9,
          35,
          134,
          94,
          75,
          411,
          179,
          32,
          65,
          85,
          54,
          27,
          36,
          65,
          24,
          98,
          47,
          47,
          81,
          37,
          61,
          4,
          17,
          2,
          228,
          1,
          null
         ],
         "yaxis": "y"
        },
        {
         "alignmentgroup": "True",
         "hovertemplate": "situacao_descricao=Saiu do curso em função de desligamento por tempo (não concluiu o curso no tempo previsto)<br>semestre_letivo_referencia=%{x}<br>value=%{y}<extra></extra>",
         "legendgroup": "Saiu do curso em função de desligamento por tempo (não concluiu o curso no tempo previsto)",
         "marker": {
          "color": "#B6E880",
          "pattern": {
           "shape": ""
          }
         },
         "name": "Saiu do curso em função de desligamento por tempo (não concluiu o curso no tempo previsto)",
         "offsetgroup": "Saiu do curso em função de desligamento por tempo (não concluiu o curso no tempo previsto)",
         "orientation": "v",
         "showlegend": true,
         "textposition": "auto",
         "type": "bar",
         "x": [
          "2010/1",
          "2010/2",
          "2011/1",
          "2011/2",
          "2012/1",
          "2012/2",
          "2013/1",
          "2013/2",
          "2014/1",
          "2014/2",
          "2015/1",
          "2015/2",
          "2016/1",
          "2016/2",
          "2017/1",
          "2017/2",
          "2018/1",
          "2018/2",
          "2019/1",
          "2019/2",
          "2020/1",
          "2020/2",
          "2021/1",
          "2021/2",
          "2022/1",
          "2022/2",
          "2023/1",
          "2023/2"
         ],
         "xaxis": "x",
         "y": [
          171,
          null,
          null,
          null,
          null,
          null,
          1,
          null,
          null,
          null,
          null,
          null,
          null,
          null,
          null,
          null,
          null,
          null,
          null,
          null,
          null,
          null,
          null,
          null,
          null,
          null,
          5,
          null
         ],
         "yaxis": "y"
        }
       ],
       "layout": {
        "barmode": "relative",
        "legend": {
         "title": {
          "text": "situacao_descricao"
         },
         "tracegroupgap": 0
        },
        "margin": {
         "t": 60
        },
        "template": {
         "data": {
          "bar": [
           {
            "error_x": {
             "color": "#2a3f5f"
            },
            "error_y": {
             "color": "#2a3f5f"
            },
            "marker": {
             "line": {
              "color": "#E5ECF6",
              "width": 0.5
             },
             "pattern": {
              "fillmode": "overlay",
              "size": 10,
              "solidity": 0.2
             }
            },
            "type": "bar"
           }
          ],
          "barpolar": [
           {
            "marker": {
             "line": {
              "color": "#E5ECF6",
              "width": 0.5
             },
             "pattern": {
              "fillmode": "overlay",
              "size": 10,
              "solidity": 0.2
             }
            },
            "type": "barpolar"
           }
          ],
          "carpet": [
           {
            "aaxis": {
             "endlinecolor": "#2a3f5f",
             "gridcolor": "white",
             "linecolor": "white",
             "minorgridcolor": "white",
             "startlinecolor": "#2a3f5f"
            },
            "baxis": {
             "endlinecolor": "#2a3f5f",
             "gridcolor": "white",
             "linecolor": "white",
             "minorgridcolor": "white",
             "startlinecolor": "#2a3f5f"
            },
            "type": "carpet"
           }
          ],
          "choropleth": [
           {
            "colorbar": {
             "outlinewidth": 0,
             "ticks": ""
            },
            "type": "choropleth"
           }
          ],
          "contour": [
           {
            "colorbar": {
             "outlinewidth": 0,
             "ticks": ""
            },
            "colorscale": [
             [
              0,
              "#0d0887"
             ],
             [
              0.1111111111111111,
              "#46039f"
             ],
             [
              0.2222222222222222,
              "#7201a8"
             ],
             [
              0.3333333333333333,
              "#9c179e"
             ],
             [
              0.4444444444444444,
              "#bd3786"
             ],
             [
              0.5555555555555556,
              "#d8576b"
             ],
             [
              0.6666666666666666,
              "#ed7953"
             ],
             [
              0.7777777777777778,
              "#fb9f3a"
             ],
             [
              0.8888888888888888,
              "#fdca26"
             ],
             [
              1,
              "#f0f921"
             ]
            ],
            "type": "contour"
           }
          ],
          "contourcarpet": [
           {
            "colorbar": {
             "outlinewidth": 0,
             "ticks": ""
            },
            "type": "contourcarpet"
           }
          ],
          "heatmap": [
           {
            "colorbar": {
             "outlinewidth": 0,
             "ticks": ""
            },
            "colorscale": [
             [
              0,
              "#0d0887"
             ],
             [
              0.1111111111111111,
              "#46039f"
             ],
             [
              0.2222222222222222,
              "#7201a8"
             ],
             [
              0.3333333333333333,
              "#9c179e"
             ],
             [
              0.4444444444444444,
              "#bd3786"
             ],
             [
              0.5555555555555556,
              "#d8576b"
             ],
             [
              0.6666666666666666,
              "#ed7953"
             ],
             [
              0.7777777777777778,
              "#fb9f3a"
             ],
             [
              0.8888888888888888,
              "#fdca26"
             ],
             [
              1,
              "#f0f921"
             ]
            ],
            "type": "heatmap"
           }
          ],
          "heatmapgl": [
           {
            "colorbar": {
             "outlinewidth": 0,
             "ticks": ""
            },
            "colorscale": [
             [
              0,
              "#0d0887"
             ],
             [
              0.1111111111111111,
              "#46039f"
             ],
             [
              0.2222222222222222,
              "#7201a8"
             ],
             [
              0.3333333333333333,
              "#9c179e"
             ],
             [
              0.4444444444444444,
              "#bd3786"
             ],
             [
              0.5555555555555556,
              "#d8576b"
             ],
             [
              0.6666666666666666,
              "#ed7953"
             ],
             [
              0.7777777777777778,
              "#fb9f3a"
             ],
             [
              0.8888888888888888,
              "#fdca26"
             ],
             [
              1,
              "#f0f921"
             ]
            ],
            "type": "heatmapgl"
           }
          ],
          "histogram": [
           {
            "marker": {
             "pattern": {
              "fillmode": "overlay",
              "size": 10,
              "solidity": 0.2
             }
            },
            "type": "histogram"
           }
          ],
          "histogram2d": [
           {
            "colorbar": {
             "outlinewidth": 0,
             "ticks": ""
            },
            "colorscale": [
             [
              0,
              "#0d0887"
             ],
             [
              0.1111111111111111,
              "#46039f"
             ],
             [
              0.2222222222222222,
              "#7201a8"
             ],
             [
              0.3333333333333333,
              "#9c179e"
             ],
             [
              0.4444444444444444,
              "#bd3786"
             ],
             [
              0.5555555555555556,
              "#d8576b"
             ],
             [
              0.6666666666666666,
              "#ed7953"
             ],
             [
              0.7777777777777778,
              "#fb9f3a"
             ],
             [
              0.8888888888888888,
              "#fdca26"
             ],
             [
              1,
              "#f0f921"
             ]
            ],
            "type": "histogram2d"
           }
          ],
          "histogram2dcontour": [
           {
            "colorbar": {
             "outlinewidth": 0,
             "ticks": ""
            },
            "colorscale": [
             [
              0,
              "#0d0887"
             ],
             [
              0.1111111111111111,
              "#46039f"
             ],
             [
              0.2222222222222222,
              "#7201a8"
             ],
             [
              0.3333333333333333,
              "#9c179e"
             ],
             [
              0.4444444444444444,
              "#bd3786"
             ],
             [
              0.5555555555555556,
              "#d8576b"
             ],
             [
              0.6666666666666666,
              "#ed7953"
             ],
             [
              0.7777777777777778,
              "#fb9f3a"
             ],
             [
              0.8888888888888888,
              "#fdca26"
             ],
             [
              1,
              "#f0f921"
             ]
            ],
            "type": "histogram2dcontour"
           }
          ],
          "mesh3d": [
           {
            "colorbar": {
             "outlinewidth": 0,
             "ticks": ""
            },
            "type": "mesh3d"
           }
          ],
          "parcoords": [
           {
            "line": {
             "colorbar": {
              "outlinewidth": 0,
              "ticks": ""
             }
            },
            "type": "parcoords"
           }
          ],
          "pie": [
           {
            "automargin": true,
            "type": "pie"
           }
          ],
          "scatter": [
           {
            "fillpattern": {
             "fillmode": "overlay",
             "size": 10,
             "solidity": 0.2
            },
            "type": "scatter"
           }
          ],
          "scatter3d": [
           {
            "line": {
             "colorbar": {
              "outlinewidth": 0,
              "ticks": ""
             }
            },
            "marker": {
             "colorbar": {
              "outlinewidth": 0,
              "ticks": ""
             }
            },
            "type": "scatter3d"
           }
          ],
          "scattercarpet": [
           {
            "marker": {
             "colorbar": {
              "outlinewidth": 0,
              "ticks": ""
             }
            },
            "type": "scattercarpet"
           }
          ],
          "scattergeo": [
           {
            "marker": {
             "colorbar": {
              "outlinewidth": 0,
              "ticks": ""
             }
            },
            "type": "scattergeo"
           }
          ],
          "scattergl": [
           {
            "marker": {
             "colorbar": {
              "outlinewidth": 0,
              "ticks": ""
             }
            },
            "type": "scattergl"
           }
          ],
          "scattermapbox": [
           {
            "marker": {
             "colorbar": {
              "outlinewidth": 0,
              "ticks": ""
             }
            },
            "type": "scattermapbox"
           }
          ],
          "scatterpolar": [
           {
            "marker": {
             "colorbar": {
              "outlinewidth": 0,
              "ticks": ""
             }
            },
            "type": "scatterpolar"
           }
          ],
          "scatterpolargl": [
           {
            "marker": {
             "colorbar": {
              "outlinewidth": 0,
              "ticks": ""
             }
            },
            "type": "scatterpolargl"
           }
          ],
          "scatterternary": [
           {
            "marker": {
             "colorbar": {
              "outlinewidth": 0,
              "ticks": ""
             }
            },
            "type": "scatterternary"
           }
          ],
          "surface": [
           {
            "colorbar": {
             "outlinewidth": 0,
             "ticks": ""
            },
            "colorscale": [
             [
              0,
              "#0d0887"
             ],
             [
              0.1111111111111111,
              "#46039f"
             ],
             [
              0.2222222222222222,
              "#7201a8"
             ],
             [
              0.3333333333333333,
              "#9c179e"
             ],
             [
              0.4444444444444444,
              "#bd3786"
             ],
             [
              0.5555555555555556,
              "#d8576b"
             ],
             [
              0.6666666666666666,
              "#ed7953"
             ],
             [
              0.7777777777777778,
              "#fb9f3a"
             ],
             [
              0.8888888888888888,
              "#fdca26"
             ],
             [
              1,
              "#f0f921"
             ]
            ],
            "type": "surface"
           }
          ],
          "table": [
           {
            "cells": {
             "fill": {
              "color": "#EBF0F8"
             },
             "line": {
              "color": "white"
             }
            },
            "header": {
             "fill": {
              "color": "#C8D4E3"
             },
             "line": {
              "color": "white"
             }
            },
            "type": "table"
           }
          ]
         },
         "layout": {
          "annotationdefaults": {
           "arrowcolor": "#2a3f5f",
           "arrowhead": 0,
           "arrowwidth": 1
          },
          "autotypenumbers": "strict",
          "coloraxis": {
           "colorbar": {
            "outlinewidth": 0,
            "ticks": ""
           }
          },
          "colorscale": {
           "diverging": [
            [
             0,
             "#8e0152"
            ],
            [
             0.1,
             "#c51b7d"
            ],
            [
             0.2,
             "#de77ae"
            ],
            [
             0.3,
             "#f1b6da"
            ],
            [
             0.4,
             "#fde0ef"
            ],
            [
             0.5,
             "#f7f7f7"
            ],
            [
             0.6,
             "#e6f5d0"
            ],
            [
             0.7,
             "#b8e186"
            ],
            [
             0.8,
             "#7fbc41"
            ],
            [
             0.9,
             "#4d9221"
            ],
            [
             1,
             "#276419"
            ]
           ],
           "sequential": [
            [
             0,
             "#0d0887"
            ],
            [
             0.1111111111111111,
             "#46039f"
            ],
            [
             0.2222222222222222,
             "#7201a8"
            ],
            [
             0.3333333333333333,
             "#9c179e"
            ],
            [
             0.4444444444444444,
             "#bd3786"
            ],
            [
             0.5555555555555556,
             "#d8576b"
            ],
            [
             0.6666666666666666,
             "#ed7953"
            ],
            [
             0.7777777777777778,
             "#fb9f3a"
            ],
            [
             0.8888888888888888,
             "#fdca26"
            ],
            [
             1,
             "#f0f921"
            ]
           ],
           "sequentialminus": [
            [
             0,
             "#0d0887"
            ],
            [
             0.1111111111111111,
             "#46039f"
            ],
            [
             0.2222222222222222,
             "#7201a8"
            ],
            [
             0.3333333333333333,
             "#9c179e"
            ],
            [
             0.4444444444444444,
             "#bd3786"
            ],
            [
             0.5555555555555556,
             "#d8576b"
            ],
            [
             0.6666666666666666,
             "#ed7953"
            ],
            [
             0.7777777777777778,
             "#fb9f3a"
            ],
            [
             0.8888888888888888,
             "#fdca26"
            ],
            [
             1,
             "#f0f921"
            ]
           ]
          },
          "colorway": [
           "#636efa",
           "#EF553B",
           "#00cc96",
           "#ab63fa",
           "#FFA15A",
           "#19d3f3",
           "#FF6692",
           "#B6E880",
           "#FF97FF",
           "#FECB52"
          ],
          "font": {
           "color": "#2a3f5f"
          },
          "geo": {
           "bgcolor": "white",
           "lakecolor": "white",
           "landcolor": "#E5ECF6",
           "showlakes": true,
           "showland": true,
           "subunitcolor": "white"
          },
          "hoverlabel": {
           "align": "left"
          },
          "hovermode": "closest",
          "mapbox": {
           "style": "light"
          },
          "paper_bgcolor": "white",
          "plot_bgcolor": "#E5ECF6",
          "polar": {
           "angularaxis": {
            "gridcolor": "white",
            "linecolor": "white",
            "ticks": ""
           },
           "bgcolor": "#E5ECF6",
           "radialaxis": {
            "gridcolor": "white",
            "linecolor": "white",
            "ticks": ""
           }
          },
          "scene": {
           "xaxis": {
            "backgroundcolor": "#E5ECF6",
            "gridcolor": "white",
            "gridwidth": 2,
            "linecolor": "white",
            "showbackground": true,
            "ticks": "",
            "zerolinecolor": "white"
           },
           "yaxis": {
            "backgroundcolor": "#E5ECF6",
            "gridcolor": "white",
            "gridwidth": 2,
            "linecolor": "white",
            "showbackground": true,
            "ticks": "",
            "zerolinecolor": "white"
           },
           "zaxis": {
            "backgroundcolor": "#E5ECF6",
            "gridcolor": "white",
            "gridwidth": 2,
            "linecolor": "white",
            "showbackground": true,
            "ticks": "",
            "zerolinecolor": "white"
           }
          },
          "shapedefaults": {
           "line": {
            "color": "#2a3f5f"
           }
          },
          "ternary": {
           "aaxis": {
            "gridcolor": "white",
            "linecolor": "white",
            "ticks": ""
           },
           "baxis": {
            "gridcolor": "white",
            "linecolor": "white",
            "ticks": ""
           },
           "bgcolor": "#E5ECF6",
           "caxis": {
            "gridcolor": "white",
            "linecolor": "white",
            "ticks": ""
           }
          },
          "title": {
           "x": 0.05
          },
          "xaxis": {
           "automargin": true,
           "gridcolor": "white",
           "linecolor": "white",
           "ticks": "",
           "title": {
            "standoff": 15
           },
           "zerolinecolor": "white",
           "zerolinewidth": 2
          },
          "yaxis": {
           "automargin": true,
           "gridcolor": "white",
           "linecolor": "white",
           "ticks": "",
           "title": {
            "standoff": 15
           },
           "zerolinecolor": "white",
           "zerolinewidth": 2
          }
         }
        },
        "xaxis": {
         "anchor": "y",
         "domain": [
          0,
          1
         ],
         "title": {
          "text": "semestre_letivo_referencia"
         }
        },
        "yaxis": {
         "anchor": "x",
         "domain": [
          0,
          1
         ],
         "title": {
          "text": "value"
         }
        }
       }
      }
     },
     "metadata": {},
     "output_type": "display_data"
    }
   ],
   "source": [
    "# Para melhor manipulação trasnforma o objeto em SparkPandas\n",
    "view_1 = ps.DataFrame(data.groupBy('semestre_letivo_referencia', 'situacao_descricao')\n",
    "                      .count()\n",
    "                      .orderBy('semestre_letivo_referencia'))\n",
    "\n",
    "view_1_pivot = view_1.pivot(index='semestre_letivo_referencia', \n",
    "                            columns='situacao_descricao', \n",
    "                            values='count')\n",
    "view_1_pivot.plot(kind='bar')"
   ]
  },
  {
   "cell_type": "code",
   "execution_count": 36,
   "metadata": {},
   "outputs": [
    {
     "data": {
      "application/vnd.plotly.v1+json": {
       "config": {
        "plotlyServerURL": "https://plot.ly"
       },
       "data": [
        {
         "alignmentgroup": "True",
         "hovertemplate": "situacao_estudante=Ativo<br>semestre_letivo_referencia=%{x}<br>value=%{y}<extra></extra>",
         "legendgroup": "Ativo",
         "marker": {
          "color": "#636efa",
          "pattern": {
           "shape": ""
          }
         },
         "name": "Ativo",
         "offsetgroup": "Ativo",
         "orientation": "v",
         "showlegend": true,
         "textposition": "auto",
         "type": "bar",
         "x": [
          "2010/1",
          "2010/2",
          "2011/1",
          "2011/2",
          "2012/1",
          "2012/2",
          "2013/1",
          "2013/2",
          "2014/1",
          "2014/2",
          "2015/1",
          "2015/2",
          "2016/1",
          "2016/2",
          "2017/1",
          "2017/2",
          "2018/1",
          "2018/2",
          "2019/1",
          "2019/2",
          "2020/1",
          "2020/2",
          "2021/1",
          "2021/2",
          "2022/1",
          "2022/2",
          "2023/1",
          "2023/2"
         ],
         "xaxis": "x",
         "y": [
          4035,
          4543,
          5242,
          6276,
          7078,
          7274,
          8001,
          8443,
          8826,
          9473,
          9837,
          9548,
          9705,
          9697,
          10634,
          10557,
          10732,
          10835,
          10720,
          10693,
          10632,
          10450,
          10391,
          10445,
          10801,
          10609,
          9490,
          9401
         ],
         "yaxis": "y"
        },
        {
         "alignmentgroup": "True",
         "hovertemplate": "situacao_estudante=Inativo<br>semestre_letivo_referencia=%{x}<br>value=%{y}<extra></extra>",
         "legendgroup": "Inativo",
         "marker": {
          "color": "#EF553B",
          "pattern": {
           "shape": ""
          }
         },
         "name": "Inativo",
         "offsetgroup": "Inativo",
         "orientation": "v",
         "showlegend": true,
         "textposition": "auto",
         "type": "bar",
         "x": [
          "2010/1",
          "2010/2",
          "2011/1",
          "2011/2",
          "2012/1",
          "2012/2",
          "2013/1",
          "2013/2",
          "2014/1",
          "2014/2",
          "2015/1",
          "2015/2",
          "2016/1",
          "2016/2",
          "2017/1",
          "2017/2",
          "2018/1",
          "2018/2",
          "2019/1",
          "2019/2",
          "2020/1",
          "2020/2",
          "2021/1",
          "2021/2",
          "2022/1",
          "2022/2",
          "2023/1",
          "2023/2"
         ],
         "xaxis": "x",
         "y": [
          507,
          613,
          543,
          826,
          813,
          971,
          1113,
          1024,
          838,
          1100,
          1091,
          1671,
          1459,
          1448,
          1257,
          1350,
          1234,
          1236,
          1456,
          1208,
          1235,
          1342,
          1316,
          1039,
          806,
          1206,
          2340,
          1255
         ],
         "yaxis": "y"
        }
       ],
       "layout": {
        "barmode": "relative",
        "legend": {
         "title": {
          "text": "situacao_estudante"
         },
         "tracegroupgap": 0
        },
        "margin": {
         "t": 60
        },
        "template": {
         "data": {
          "bar": [
           {
            "error_x": {
             "color": "#2a3f5f"
            },
            "error_y": {
             "color": "#2a3f5f"
            },
            "marker": {
             "line": {
              "color": "#E5ECF6",
              "width": 0.5
             },
             "pattern": {
              "fillmode": "overlay",
              "size": 10,
              "solidity": 0.2
             }
            },
            "type": "bar"
           }
          ],
          "barpolar": [
           {
            "marker": {
             "line": {
              "color": "#E5ECF6",
              "width": 0.5
             },
             "pattern": {
              "fillmode": "overlay",
              "size": 10,
              "solidity": 0.2
             }
            },
            "type": "barpolar"
           }
          ],
          "carpet": [
           {
            "aaxis": {
             "endlinecolor": "#2a3f5f",
             "gridcolor": "white",
             "linecolor": "white",
             "minorgridcolor": "white",
             "startlinecolor": "#2a3f5f"
            },
            "baxis": {
             "endlinecolor": "#2a3f5f",
             "gridcolor": "white",
             "linecolor": "white",
             "minorgridcolor": "white",
             "startlinecolor": "#2a3f5f"
            },
            "type": "carpet"
           }
          ],
          "choropleth": [
           {
            "colorbar": {
             "outlinewidth": 0,
             "ticks": ""
            },
            "type": "choropleth"
           }
          ],
          "contour": [
           {
            "colorbar": {
             "outlinewidth": 0,
             "ticks": ""
            },
            "colorscale": [
             [
              0,
              "#0d0887"
             ],
             [
              0.1111111111111111,
              "#46039f"
             ],
             [
              0.2222222222222222,
              "#7201a8"
             ],
             [
              0.3333333333333333,
              "#9c179e"
             ],
             [
              0.4444444444444444,
              "#bd3786"
             ],
             [
              0.5555555555555556,
              "#d8576b"
             ],
             [
              0.6666666666666666,
              "#ed7953"
             ],
             [
              0.7777777777777778,
              "#fb9f3a"
             ],
             [
              0.8888888888888888,
              "#fdca26"
             ],
             [
              1,
              "#f0f921"
             ]
            ],
            "type": "contour"
           }
          ],
          "contourcarpet": [
           {
            "colorbar": {
             "outlinewidth": 0,
             "ticks": ""
            },
            "type": "contourcarpet"
           }
          ],
          "heatmap": [
           {
            "colorbar": {
             "outlinewidth": 0,
             "ticks": ""
            },
            "colorscale": [
             [
              0,
              "#0d0887"
             ],
             [
              0.1111111111111111,
              "#46039f"
             ],
             [
              0.2222222222222222,
              "#7201a8"
             ],
             [
              0.3333333333333333,
              "#9c179e"
             ],
             [
              0.4444444444444444,
              "#bd3786"
             ],
             [
              0.5555555555555556,
              "#d8576b"
             ],
             [
              0.6666666666666666,
              "#ed7953"
             ],
             [
              0.7777777777777778,
              "#fb9f3a"
             ],
             [
              0.8888888888888888,
              "#fdca26"
             ],
             [
              1,
              "#f0f921"
             ]
            ],
            "type": "heatmap"
           }
          ],
          "heatmapgl": [
           {
            "colorbar": {
             "outlinewidth": 0,
             "ticks": ""
            },
            "colorscale": [
             [
              0,
              "#0d0887"
             ],
             [
              0.1111111111111111,
              "#46039f"
             ],
             [
              0.2222222222222222,
              "#7201a8"
             ],
             [
              0.3333333333333333,
              "#9c179e"
             ],
             [
              0.4444444444444444,
              "#bd3786"
             ],
             [
              0.5555555555555556,
              "#d8576b"
             ],
             [
              0.6666666666666666,
              "#ed7953"
             ],
             [
              0.7777777777777778,
              "#fb9f3a"
             ],
             [
              0.8888888888888888,
              "#fdca26"
             ],
             [
              1,
              "#f0f921"
             ]
            ],
            "type": "heatmapgl"
           }
          ],
          "histogram": [
           {
            "marker": {
             "pattern": {
              "fillmode": "overlay",
              "size": 10,
              "solidity": 0.2
             }
            },
            "type": "histogram"
           }
          ],
          "histogram2d": [
           {
            "colorbar": {
             "outlinewidth": 0,
             "ticks": ""
            },
            "colorscale": [
             [
              0,
              "#0d0887"
             ],
             [
              0.1111111111111111,
              "#46039f"
             ],
             [
              0.2222222222222222,
              "#7201a8"
             ],
             [
              0.3333333333333333,
              "#9c179e"
             ],
             [
              0.4444444444444444,
              "#bd3786"
             ],
             [
              0.5555555555555556,
              "#d8576b"
             ],
             [
              0.6666666666666666,
              "#ed7953"
             ],
             [
              0.7777777777777778,
              "#fb9f3a"
             ],
             [
              0.8888888888888888,
              "#fdca26"
             ],
             [
              1,
              "#f0f921"
             ]
            ],
            "type": "histogram2d"
           }
          ],
          "histogram2dcontour": [
           {
            "colorbar": {
             "outlinewidth": 0,
             "ticks": ""
            },
            "colorscale": [
             [
              0,
              "#0d0887"
             ],
             [
              0.1111111111111111,
              "#46039f"
             ],
             [
              0.2222222222222222,
              "#7201a8"
             ],
             [
              0.3333333333333333,
              "#9c179e"
             ],
             [
              0.4444444444444444,
              "#bd3786"
             ],
             [
              0.5555555555555556,
              "#d8576b"
             ],
             [
              0.6666666666666666,
              "#ed7953"
             ],
             [
              0.7777777777777778,
              "#fb9f3a"
             ],
             [
              0.8888888888888888,
              "#fdca26"
             ],
             [
              1,
              "#f0f921"
             ]
            ],
            "type": "histogram2dcontour"
           }
          ],
          "mesh3d": [
           {
            "colorbar": {
             "outlinewidth": 0,
             "ticks": ""
            },
            "type": "mesh3d"
           }
          ],
          "parcoords": [
           {
            "line": {
             "colorbar": {
              "outlinewidth": 0,
              "ticks": ""
             }
            },
            "type": "parcoords"
           }
          ],
          "pie": [
           {
            "automargin": true,
            "type": "pie"
           }
          ],
          "scatter": [
           {
            "fillpattern": {
             "fillmode": "overlay",
             "size": 10,
             "solidity": 0.2
            },
            "type": "scatter"
           }
          ],
          "scatter3d": [
           {
            "line": {
             "colorbar": {
              "outlinewidth": 0,
              "ticks": ""
             }
            },
            "marker": {
             "colorbar": {
              "outlinewidth": 0,
              "ticks": ""
             }
            },
            "type": "scatter3d"
           }
          ],
          "scattercarpet": [
           {
            "marker": {
             "colorbar": {
              "outlinewidth": 0,
              "ticks": ""
             }
            },
            "type": "scattercarpet"
           }
          ],
          "scattergeo": [
           {
            "marker": {
             "colorbar": {
              "outlinewidth": 0,
              "ticks": ""
             }
            },
            "type": "scattergeo"
           }
          ],
          "scattergl": [
           {
            "marker": {
             "colorbar": {
              "outlinewidth": 0,
              "ticks": ""
             }
            },
            "type": "scattergl"
           }
          ],
          "scattermapbox": [
           {
            "marker": {
             "colorbar": {
              "outlinewidth": 0,
              "ticks": ""
             }
            },
            "type": "scattermapbox"
           }
          ],
          "scatterpolar": [
           {
            "marker": {
             "colorbar": {
              "outlinewidth": 0,
              "ticks": ""
             }
            },
            "type": "scatterpolar"
           }
          ],
          "scatterpolargl": [
           {
            "marker": {
             "colorbar": {
              "outlinewidth": 0,
              "ticks": ""
             }
            },
            "type": "scatterpolargl"
           }
          ],
          "scatterternary": [
           {
            "marker": {
             "colorbar": {
              "outlinewidth": 0,
              "ticks": ""
             }
            },
            "type": "scatterternary"
           }
          ],
          "surface": [
           {
            "colorbar": {
             "outlinewidth": 0,
             "ticks": ""
            },
            "colorscale": [
             [
              0,
              "#0d0887"
             ],
             [
              0.1111111111111111,
              "#46039f"
             ],
             [
              0.2222222222222222,
              "#7201a8"
             ],
             [
              0.3333333333333333,
              "#9c179e"
             ],
             [
              0.4444444444444444,
              "#bd3786"
             ],
             [
              0.5555555555555556,
              "#d8576b"
             ],
             [
              0.6666666666666666,
              "#ed7953"
             ],
             [
              0.7777777777777778,
              "#fb9f3a"
             ],
             [
              0.8888888888888888,
              "#fdca26"
             ],
             [
              1,
              "#f0f921"
             ]
            ],
            "type": "surface"
           }
          ],
          "table": [
           {
            "cells": {
             "fill": {
              "color": "#EBF0F8"
             },
             "line": {
              "color": "white"
             }
            },
            "header": {
             "fill": {
              "color": "#C8D4E3"
             },
             "line": {
              "color": "white"
             }
            },
            "type": "table"
           }
          ]
         },
         "layout": {
          "annotationdefaults": {
           "arrowcolor": "#2a3f5f",
           "arrowhead": 0,
           "arrowwidth": 1
          },
          "autotypenumbers": "strict",
          "coloraxis": {
           "colorbar": {
            "outlinewidth": 0,
            "ticks": ""
           }
          },
          "colorscale": {
           "diverging": [
            [
             0,
             "#8e0152"
            ],
            [
             0.1,
             "#c51b7d"
            ],
            [
             0.2,
             "#de77ae"
            ],
            [
             0.3,
             "#f1b6da"
            ],
            [
             0.4,
             "#fde0ef"
            ],
            [
             0.5,
             "#f7f7f7"
            ],
            [
             0.6,
             "#e6f5d0"
            ],
            [
             0.7,
             "#b8e186"
            ],
            [
             0.8,
             "#7fbc41"
            ],
            [
             0.9,
             "#4d9221"
            ],
            [
             1,
             "#276419"
            ]
           ],
           "sequential": [
            [
             0,
             "#0d0887"
            ],
            [
             0.1111111111111111,
             "#46039f"
            ],
            [
             0.2222222222222222,
             "#7201a8"
            ],
            [
             0.3333333333333333,
             "#9c179e"
            ],
            [
             0.4444444444444444,
             "#bd3786"
            ],
            [
             0.5555555555555556,
             "#d8576b"
            ],
            [
             0.6666666666666666,
             "#ed7953"
            ],
            [
             0.7777777777777778,
             "#fb9f3a"
            ],
            [
             0.8888888888888888,
             "#fdca26"
            ],
            [
             1,
             "#f0f921"
            ]
           ],
           "sequentialminus": [
            [
             0,
             "#0d0887"
            ],
            [
             0.1111111111111111,
             "#46039f"
            ],
            [
             0.2222222222222222,
             "#7201a8"
            ],
            [
             0.3333333333333333,
             "#9c179e"
            ],
            [
             0.4444444444444444,
             "#bd3786"
            ],
            [
             0.5555555555555556,
             "#d8576b"
            ],
            [
             0.6666666666666666,
             "#ed7953"
            ],
            [
             0.7777777777777778,
             "#fb9f3a"
            ],
            [
             0.8888888888888888,
             "#fdca26"
            ],
            [
             1,
             "#f0f921"
            ]
           ]
          },
          "colorway": [
           "#636efa",
           "#EF553B",
           "#00cc96",
           "#ab63fa",
           "#FFA15A",
           "#19d3f3",
           "#FF6692",
           "#B6E880",
           "#FF97FF",
           "#FECB52"
          ],
          "font": {
           "color": "#2a3f5f"
          },
          "geo": {
           "bgcolor": "white",
           "lakecolor": "white",
           "landcolor": "#E5ECF6",
           "showlakes": true,
           "showland": true,
           "subunitcolor": "white"
          },
          "hoverlabel": {
           "align": "left"
          },
          "hovermode": "closest",
          "mapbox": {
           "style": "light"
          },
          "paper_bgcolor": "white",
          "plot_bgcolor": "#E5ECF6",
          "polar": {
           "angularaxis": {
            "gridcolor": "white",
            "linecolor": "white",
            "ticks": ""
           },
           "bgcolor": "#E5ECF6",
           "radialaxis": {
            "gridcolor": "white",
            "linecolor": "white",
            "ticks": ""
           }
          },
          "scene": {
           "xaxis": {
            "backgroundcolor": "#E5ECF6",
            "gridcolor": "white",
            "gridwidth": 2,
            "linecolor": "white",
            "showbackground": true,
            "ticks": "",
            "zerolinecolor": "white"
           },
           "yaxis": {
            "backgroundcolor": "#E5ECF6",
            "gridcolor": "white",
            "gridwidth": 2,
            "linecolor": "white",
            "showbackground": true,
            "ticks": "",
            "zerolinecolor": "white"
           },
           "zaxis": {
            "backgroundcolor": "#E5ECF6",
            "gridcolor": "white",
            "gridwidth": 2,
            "linecolor": "white",
            "showbackground": true,
            "ticks": "",
            "zerolinecolor": "white"
           }
          },
          "shapedefaults": {
           "line": {
            "color": "#2a3f5f"
           }
          },
          "ternary": {
           "aaxis": {
            "gridcolor": "white",
            "linecolor": "white",
            "ticks": ""
           },
           "baxis": {
            "gridcolor": "white",
            "linecolor": "white",
            "ticks": ""
           },
           "bgcolor": "#E5ECF6",
           "caxis": {
            "gridcolor": "white",
            "linecolor": "white",
            "ticks": ""
           }
          },
          "title": {
           "x": 0.05
          },
          "xaxis": {
           "automargin": true,
           "gridcolor": "white",
           "linecolor": "white",
           "ticks": "",
           "title": {
            "standoff": 15
           },
           "zerolinecolor": "white",
           "zerolinewidth": 2
          },
          "yaxis": {
           "automargin": true,
           "gridcolor": "white",
           "linecolor": "white",
           "ticks": "",
           "title": {
            "standoff": 15
           },
           "zerolinecolor": "white",
           "zerolinewidth": 2
          }
         }
        },
        "xaxis": {
         "anchor": "y",
         "domain": [
          0,
          1
         ],
         "title": {
          "text": "semestre_letivo_referencia"
         }
        },
        "yaxis": {
         "anchor": "x",
         "domain": [
          0,
          1
         ],
         "title": {
          "text": "value"
         }
        }
       }
      }
     },
     "metadata": {},
     "output_type": "display_data"
    }
   ],
   "source": [
    "# Para melhor manipulação trasnforma o objeto em SparkPandas\n",
    "view_2 = ps.DataFrame(data.groupBy('semestre_letivo_referencia', 'situacao_estudante')\n",
    "                      .count()\n",
    "                      .orderBy('semestre_letivo_referencia'))\n",
    "\n",
    "view_2_pivot = view_2.pivot(index='semestre_letivo_referencia', \n",
    "                            columns='situacao_estudante', \n",
    "                            values='count')\n",
    "view_2_pivot.plot(kind='bar')"
   ]
  },
  {
   "cell_type": "code",
   "execution_count": 37,
   "metadata": {},
   "outputs": [
    {
     "data": {
      "application/vnd.plotly.v1+json": {
       "config": {
        "plotlyServerURL": "https://plot.ly"
       },
       "data": [
        {
         "domain": {
          "x": [
           0,
           1
          ],
          "y": [
           0,
           1
          ]
         },
         "hovertemplate": "situacao_estudante=%{label}<br>percent=%{value}<extra></extra>",
         "labels": [
          "Inativo",
          "Ativo"
         ],
         "legendgroup": "",
         "name": "",
         "showlegend": true,
         "type": "pie",
         "values": [
          11.266460851516579,
          88.73353914848342
         ]
        }
       ],
       "layout": {
        "legend": {
         "tracegroupgap": 0
        },
        "margin": {
         "t": 60
        },
        "template": {
         "data": {
          "bar": [
           {
            "error_x": {
             "color": "#2a3f5f"
            },
            "error_y": {
             "color": "#2a3f5f"
            },
            "marker": {
             "line": {
              "color": "#E5ECF6",
              "width": 0.5
             },
             "pattern": {
              "fillmode": "overlay",
              "size": 10,
              "solidity": 0.2
             }
            },
            "type": "bar"
           }
          ],
          "barpolar": [
           {
            "marker": {
             "line": {
              "color": "#E5ECF6",
              "width": 0.5
             },
             "pattern": {
              "fillmode": "overlay",
              "size": 10,
              "solidity": 0.2
             }
            },
            "type": "barpolar"
           }
          ],
          "carpet": [
           {
            "aaxis": {
             "endlinecolor": "#2a3f5f",
             "gridcolor": "white",
             "linecolor": "white",
             "minorgridcolor": "white",
             "startlinecolor": "#2a3f5f"
            },
            "baxis": {
             "endlinecolor": "#2a3f5f",
             "gridcolor": "white",
             "linecolor": "white",
             "minorgridcolor": "white",
             "startlinecolor": "#2a3f5f"
            },
            "type": "carpet"
           }
          ],
          "choropleth": [
           {
            "colorbar": {
             "outlinewidth": 0,
             "ticks": ""
            },
            "type": "choropleth"
           }
          ],
          "contour": [
           {
            "colorbar": {
             "outlinewidth": 0,
             "ticks": ""
            },
            "colorscale": [
             [
              0,
              "#0d0887"
             ],
             [
              0.1111111111111111,
              "#46039f"
             ],
             [
              0.2222222222222222,
              "#7201a8"
             ],
             [
              0.3333333333333333,
              "#9c179e"
             ],
             [
              0.4444444444444444,
              "#bd3786"
             ],
             [
              0.5555555555555556,
              "#d8576b"
             ],
             [
              0.6666666666666666,
              "#ed7953"
             ],
             [
              0.7777777777777778,
              "#fb9f3a"
             ],
             [
              0.8888888888888888,
              "#fdca26"
             ],
             [
              1,
              "#f0f921"
             ]
            ],
            "type": "contour"
           }
          ],
          "contourcarpet": [
           {
            "colorbar": {
             "outlinewidth": 0,
             "ticks": ""
            },
            "type": "contourcarpet"
           }
          ],
          "heatmap": [
           {
            "colorbar": {
             "outlinewidth": 0,
             "ticks": ""
            },
            "colorscale": [
             [
              0,
              "#0d0887"
             ],
             [
              0.1111111111111111,
              "#46039f"
             ],
             [
              0.2222222222222222,
              "#7201a8"
             ],
             [
              0.3333333333333333,
              "#9c179e"
             ],
             [
              0.4444444444444444,
              "#bd3786"
             ],
             [
              0.5555555555555556,
              "#d8576b"
             ],
             [
              0.6666666666666666,
              "#ed7953"
             ],
             [
              0.7777777777777778,
              "#fb9f3a"
             ],
             [
              0.8888888888888888,
              "#fdca26"
             ],
             [
              1,
              "#f0f921"
             ]
            ],
            "type": "heatmap"
           }
          ],
          "heatmapgl": [
           {
            "colorbar": {
             "outlinewidth": 0,
             "ticks": ""
            },
            "colorscale": [
             [
              0,
              "#0d0887"
             ],
             [
              0.1111111111111111,
              "#46039f"
             ],
             [
              0.2222222222222222,
              "#7201a8"
             ],
             [
              0.3333333333333333,
              "#9c179e"
             ],
             [
              0.4444444444444444,
              "#bd3786"
             ],
             [
              0.5555555555555556,
              "#d8576b"
             ],
             [
              0.6666666666666666,
              "#ed7953"
             ],
             [
              0.7777777777777778,
              "#fb9f3a"
             ],
             [
              0.8888888888888888,
              "#fdca26"
             ],
             [
              1,
              "#f0f921"
             ]
            ],
            "type": "heatmapgl"
           }
          ],
          "histogram": [
           {
            "marker": {
             "pattern": {
              "fillmode": "overlay",
              "size": 10,
              "solidity": 0.2
             }
            },
            "type": "histogram"
           }
          ],
          "histogram2d": [
           {
            "colorbar": {
             "outlinewidth": 0,
             "ticks": ""
            },
            "colorscale": [
             [
              0,
              "#0d0887"
             ],
             [
              0.1111111111111111,
              "#46039f"
             ],
             [
              0.2222222222222222,
              "#7201a8"
             ],
             [
              0.3333333333333333,
              "#9c179e"
             ],
             [
              0.4444444444444444,
              "#bd3786"
             ],
             [
              0.5555555555555556,
              "#d8576b"
             ],
             [
              0.6666666666666666,
              "#ed7953"
             ],
             [
              0.7777777777777778,
              "#fb9f3a"
             ],
             [
              0.8888888888888888,
              "#fdca26"
             ],
             [
              1,
              "#f0f921"
             ]
            ],
            "type": "histogram2d"
           }
          ],
          "histogram2dcontour": [
           {
            "colorbar": {
             "outlinewidth": 0,
             "ticks": ""
            },
            "colorscale": [
             [
              0,
              "#0d0887"
             ],
             [
              0.1111111111111111,
              "#46039f"
             ],
             [
              0.2222222222222222,
              "#7201a8"
             ],
             [
              0.3333333333333333,
              "#9c179e"
             ],
             [
              0.4444444444444444,
              "#bd3786"
             ],
             [
              0.5555555555555556,
              "#d8576b"
             ],
             [
              0.6666666666666666,
              "#ed7953"
             ],
             [
              0.7777777777777778,
              "#fb9f3a"
             ],
             [
              0.8888888888888888,
              "#fdca26"
             ],
             [
              1,
              "#f0f921"
             ]
            ],
            "type": "histogram2dcontour"
           }
          ],
          "mesh3d": [
           {
            "colorbar": {
             "outlinewidth": 0,
             "ticks": ""
            },
            "type": "mesh3d"
           }
          ],
          "parcoords": [
           {
            "line": {
             "colorbar": {
              "outlinewidth": 0,
              "ticks": ""
             }
            },
            "type": "parcoords"
           }
          ],
          "pie": [
           {
            "automargin": true,
            "type": "pie"
           }
          ],
          "scatter": [
           {
            "fillpattern": {
             "fillmode": "overlay",
             "size": 10,
             "solidity": 0.2
            },
            "type": "scatter"
           }
          ],
          "scatter3d": [
           {
            "line": {
             "colorbar": {
              "outlinewidth": 0,
              "ticks": ""
             }
            },
            "marker": {
             "colorbar": {
              "outlinewidth": 0,
              "ticks": ""
             }
            },
            "type": "scatter3d"
           }
          ],
          "scattercarpet": [
           {
            "marker": {
             "colorbar": {
              "outlinewidth": 0,
              "ticks": ""
             }
            },
            "type": "scattercarpet"
           }
          ],
          "scattergeo": [
           {
            "marker": {
             "colorbar": {
              "outlinewidth": 0,
              "ticks": ""
             }
            },
            "type": "scattergeo"
           }
          ],
          "scattergl": [
           {
            "marker": {
             "colorbar": {
              "outlinewidth": 0,
              "ticks": ""
             }
            },
            "type": "scattergl"
           }
          ],
          "scattermapbox": [
           {
            "marker": {
             "colorbar": {
              "outlinewidth": 0,
              "ticks": ""
             }
            },
            "type": "scattermapbox"
           }
          ],
          "scatterpolar": [
           {
            "marker": {
             "colorbar": {
              "outlinewidth": 0,
              "ticks": ""
             }
            },
            "type": "scatterpolar"
           }
          ],
          "scatterpolargl": [
           {
            "marker": {
             "colorbar": {
              "outlinewidth": 0,
              "ticks": ""
             }
            },
            "type": "scatterpolargl"
           }
          ],
          "scatterternary": [
           {
            "marker": {
             "colorbar": {
              "outlinewidth": 0,
              "ticks": ""
             }
            },
            "type": "scatterternary"
           }
          ],
          "surface": [
           {
            "colorbar": {
             "outlinewidth": 0,
             "ticks": ""
            },
            "colorscale": [
             [
              0,
              "#0d0887"
             ],
             [
              0.1111111111111111,
              "#46039f"
             ],
             [
              0.2222222222222222,
              "#7201a8"
             ],
             [
              0.3333333333333333,
              "#9c179e"
             ],
             [
              0.4444444444444444,
              "#bd3786"
             ],
             [
              0.5555555555555556,
              "#d8576b"
             ],
             [
              0.6666666666666666,
              "#ed7953"
             ],
             [
              0.7777777777777778,
              "#fb9f3a"
             ],
             [
              0.8888888888888888,
              "#fdca26"
             ],
             [
              1,
              "#f0f921"
             ]
            ],
            "type": "surface"
           }
          ],
          "table": [
           {
            "cells": {
             "fill": {
              "color": "#EBF0F8"
             },
             "line": {
              "color": "white"
             }
            },
            "header": {
             "fill": {
              "color": "#C8D4E3"
             },
             "line": {
              "color": "white"
             }
            },
            "type": "table"
           }
          ]
         },
         "layout": {
          "annotationdefaults": {
           "arrowcolor": "#2a3f5f",
           "arrowhead": 0,
           "arrowwidth": 1
          },
          "autotypenumbers": "strict",
          "coloraxis": {
           "colorbar": {
            "outlinewidth": 0,
            "ticks": ""
           }
          },
          "colorscale": {
           "diverging": [
            [
             0,
             "#8e0152"
            ],
            [
             0.1,
             "#c51b7d"
            ],
            [
             0.2,
             "#de77ae"
            ],
            [
             0.3,
             "#f1b6da"
            ],
            [
             0.4,
             "#fde0ef"
            ],
            [
             0.5,
             "#f7f7f7"
            ],
            [
             0.6,
             "#e6f5d0"
            ],
            [
             0.7,
             "#b8e186"
            ],
            [
             0.8,
             "#7fbc41"
            ],
            [
             0.9,
             "#4d9221"
            ],
            [
             1,
             "#276419"
            ]
           ],
           "sequential": [
            [
             0,
             "#0d0887"
            ],
            [
             0.1111111111111111,
             "#46039f"
            ],
            [
             0.2222222222222222,
             "#7201a8"
            ],
            [
             0.3333333333333333,
             "#9c179e"
            ],
            [
             0.4444444444444444,
             "#bd3786"
            ],
            [
             0.5555555555555556,
             "#d8576b"
            ],
            [
             0.6666666666666666,
             "#ed7953"
            ],
            [
             0.7777777777777778,
             "#fb9f3a"
            ],
            [
             0.8888888888888888,
             "#fdca26"
            ],
            [
             1,
             "#f0f921"
            ]
           ],
           "sequentialminus": [
            [
             0,
             "#0d0887"
            ],
            [
             0.1111111111111111,
             "#46039f"
            ],
            [
             0.2222222222222222,
             "#7201a8"
            ],
            [
             0.3333333333333333,
             "#9c179e"
            ],
            [
             0.4444444444444444,
             "#bd3786"
            ],
            [
             0.5555555555555556,
             "#d8576b"
            ],
            [
             0.6666666666666666,
             "#ed7953"
            ],
            [
             0.7777777777777778,
             "#fb9f3a"
            ],
            [
             0.8888888888888888,
             "#fdca26"
            ],
            [
             1,
             "#f0f921"
            ]
           ]
          },
          "colorway": [
           "#636efa",
           "#EF553B",
           "#00cc96",
           "#ab63fa",
           "#FFA15A",
           "#19d3f3",
           "#FF6692",
           "#B6E880",
           "#FF97FF",
           "#FECB52"
          ],
          "font": {
           "color": "#2a3f5f"
          },
          "geo": {
           "bgcolor": "white",
           "lakecolor": "white",
           "landcolor": "#E5ECF6",
           "showlakes": true,
           "showland": true,
           "subunitcolor": "white"
          },
          "hoverlabel": {
           "align": "left"
          },
          "hovermode": "closest",
          "mapbox": {
           "style": "light"
          },
          "paper_bgcolor": "white",
          "plot_bgcolor": "#E5ECF6",
          "polar": {
           "angularaxis": {
            "gridcolor": "white",
            "linecolor": "white",
            "ticks": ""
           },
           "bgcolor": "#E5ECF6",
           "radialaxis": {
            "gridcolor": "white",
            "linecolor": "white",
            "ticks": ""
           }
          },
          "scene": {
           "xaxis": {
            "backgroundcolor": "#E5ECF6",
            "gridcolor": "white",
            "gridwidth": 2,
            "linecolor": "white",
            "showbackground": true,
            "ticks": "",
            "zerolinecolor": "white"
           },
           "yaxis": {
            "backgroundcolor": "#E5ECF6",
            "gridcolor": "white",
            "gridwidth": 2,
            "linecolor": "white",
            "showbackground": true,
            "ticks": "",
            "zerolinecolor": "white"
           },
           "zaxis": {
            "backgroundcolor": "#E5ECF6",
            "gridcolor": "white",
            "gridwidth": 2,
            "linecolor": "white",
            "showbackground": true,
            "ticks": "",
            "zerolinecolor": "white"
           }
          },
          "shapedefaults": {
           "line": {
            "color": "#2a3f5f"
           }
          },
          "ternary": {
           "aaxis": {
            "gridcolor": "white",
            "linecolor": "white",
            "ticks": ""
           },
           "baxis": {
            "gridcolor": "white",
            "linecolor": "white",
            "ticks": ""
           },
           "bgcolor": "#E5ECF6",
           "caxis": {
            "gridcolor": "white",
            "linecolor": "white",
            "ticks": ""
           }
          },
          "title": {
           "x": 0.05
          },
          "xaxis": {
           "automargin": true,
           "gridcolor": "white",
           "linecolor": "white",
           "ticks": "",
           "title": {
            "standoff": 15
           },
           "zerolinecolor": "white",
           "zerolinewidth": 2
          },
          "yaxis": {
           "automargin": true,
           "gridcolor": "white",
           "linecolor": "white",
           "ticks": "",
           "title": {
            "standoff": 15
           },
           "zerolinecolor": "white",
           "zerolinewidth": 2
          }
         }
        }
       }
      }
     },
     "metadata": {},
     "output_type": "display_data"
    }
   ],
   "source": [
    "view_2 = data.groupBy('situacao_estudante').count()\n",
    "total = view_2.groupBy().agg(F.sum('count').alias('total')).collect()[0]['total']\n",
    "view_2 = view_2.withColumn('percent', (F.col('count') / total) * 100)\n",
    "\n",
    "view_2 = ps.DataFrame(view_2)\n",
    "view_2 = view_2.set_index('situacao_estudante')\n",
    "view_2.plot(kind='pie',y='percent')"
   ]
  },
  {
   "cell_type": "code",
   "execution_count": 38,
   "metadata": {},
   "outputs": [
    {
     "data": {
      "application/vnd.plotly.v1+json": {
       "config": {
        "plotlyServerURL": "https://plot.ly"
       },
       "data": [
        {
         "alignmentgroup": "True",
         "hovertemplate": "curso=ABI Educação Física<br>semestre_letivo_referencia=%{x}<br>value=%{y}<extra></extra>",
         "legendgroup": "ABI Educação Física",
         "marker": {
          "color": "#636efa",
          "pattern": {
           "shape": ""
          }
         },
         "name": "ABI Educação Física",
         "offsetgroup": "ABI Educação Física",
         "orientation": "v",
         "showlegend": true,
         "textposition": "auto",
         "type": "bar",
         "x": [
          "2010/1",
          "2010/2",
          "2011/1",
          "2011/2",
          "2012/1",
          "2012/2",
          "2013/1",
          "2013/2",
          "2014/1",
          "2014/2",
          "2015/1",
          "2015/2",
          "2016/1",
          "2016/2",
          "2017/1",
          "2017/2",
          "2018/1",
          "2018/2",
          "2019/1",
          "2019/2",
          "2020/1",
          "2020/2",
          "2021/1",
          "2021/2",
          "2022/1",
          "2022/2",
          "2023/1",
          "2023/2"
         ],
         "xaxis": "x",
         "y": [
          null,
          null,
          null,
          null,
          null,
          null,
          null,
          null,
          null,
          null,
          null,
          null,
          null,
          null,
          null,
          null,
          null,
          null,
          null,
          null,
          null,
          null,
          null,
          54,
          87,
          141,
          192,
          202
         ],
         "yaxis": "y"
        },
        {
         "alignmentgroup": "True",
         "hovertemplate": "curso=ABI Engenharia<br>semestre_letivo_referencia=%{x}<br>value=%{y}<extra></extra>",
         "legendgroup": "ABI Engenharia",
         "marker": {
          "color": "#EF553B",
          "pattern": {
           "shape": ""
          }
         },
         "name": "ABI Engenharia",
         "offsetgroup": "ABI Engenharia",
         "orientation": "v",
         "showlegend": true,
         "textposition": "auto",
         "type": "bar",
         "x": [
          "2010/1",
          "2010/2",
          "2011/1",
          "2011/2",
          "2012/1",
          "2012/2",
          "2013/1",
          "2013/2",
          "2014/1",
          "2014/2",
          "2015/1",
          "2015/2",
          "2016/1",
          "2016/2",
          "2017/1",
          "2017/2",
          "2018/1",
          "2018/2",
          "2019/1",
          "2019/2",
          "2020/1",
          "2020/2",
          "2021/1",
          "2021/2",
          "2022/1",
          "2022/2",
          "2023/1",
          "2023/2"
         ],
         "xaxis": "x",
         "y": [
          null,
          null,
          null,
          null,
          null,
          null,
          null,
          null,
          null,
          187,
          393,
          576,
          763,
          972,
          1160,
          1045,
          1019,
          1007,
          989,
          921,
          897,
          876,
          887,
          859,
          868,
          846,
          699,
          428
         ],
         "yaxis": "y"
        },
        {
         "alignmentgroup": "True",
         "hovertemplate": "curso=ABI Letras<br>semestre_letivo_referencia=%{x}<br>value=%{y}<extra></extra>",
         "legendgroup": "ABI Letras",
         "marker": {
          "color": "#00cc96",
          "pattern": {
           "shape": ""
          }
         },
         "name": "ABI Letras",
         "offsetgroup": "ABI Letras",
         "orientation": "v",
         "showlegend": true,
         "textposition": "auto",
         "type": "bar",
         "x": [
          "2010/1",
          "2010/2",
          "2011/1",
          "2011/2",
          "2012/1",
          "2012/2",
          "2013/1",
          "2013/2",
          "2014/1",
          "2014/2",
          "2015/1",
          "2015/2",
          "2016/1",
          "2016/2",
          "2017/1",
          "2017/2",
          "2018/1",
          "2018/2",
          "2019/1",
          "2019/2",
          "2020/1",
          "2020/2",
          "2021/1",
          "2021/2",
          "2022/1",
          "2022/2",
          "2023/1",
          "2023/2"
         ],
         "xaxis": "x",
         "y": [
          null,
          null,
          null,
          null,
          null,
          null,
          null,
          null,
          null,
          null,
          null,
          null,
          null,
          null,
          null,
          null,
          null,
          null,
          null,
          null,
          null,
          null,
          null,
          null,
          null,
          null,
          50,
          67
         ],
         "yaxis": "y"
        },
        {
         "alignmentgroup": "True",
         "hovertemplate": "curso=Administração<br>semestre_letivo_referencia=%{x}<br>value=%{y}<extra></extra>",
         "legendgroup": "Administração",
         "marker": {
          "color": "#ab63fa",
          "pattern": {
           "shape": ""
          }
         },
         "name": "Administração",
         "offsetgroup": "Administração",
         "orientation": "v",
         "showlegend": true,
         "textposition": "auto",
         "type": "bar",
         "x": [
          "2010/1",
          "2010/2",
          "2011/1",
          "2011/2",
          "2012/1",
          "2012/2",
          "2013/1",
          "2013/2",
          "2014/1",
          "2014/2",
          "2015/1",
          "2015/2",
          "2016/1",
          "2016/2",
          "2017/1",
          "2017/2",
          "2018/1",
          "2018/2",
          "2019/1",
          "2019/2",
          "2020/1",
          "2020/2",
          "2021/1",
          "2021/2",
          "2022/1",
          "2022/2",
          "2023/1",
          "2023/2"
         ],
         "xaxis": "x",
         "y": [
          273,
          287,
          301,
          320,
          325,
          330,
          321,
          344,
          339,
          338,
          314,
          323,
          320,
          338,
          334,
          320,
          334,
          337,
          348,
          328,
          310,
          309,
          319,
          315,
          328,
          341,
          331,
          313
         ],
         "yaxis": "y"
        },
        {
         "alignmentgroup": "True",
         "hovertemplate": "curso=Administração Piloto EAD<br>semestre_letivo_referencia=%{x}<br>value=%{y}<extra></extra>",
         "legendgroup": "Administração Piloto EAD",
         "marker": {
          "color": "#FFA15A",
          "pattern": {
           "shape": ""
          }
         },
         "name": "Administração Piloto EAD",
         "offsetgroup": "Administração Piloto EAD",
         "orientation": "v",
         "showlegend": true,
         "textposition": "auto",
         "type": "bar",
         "x": [
          "2010/1",
          "2010/2",
          "2011/1",
          "2011/2",
          "2012/1",
          "2012/2",
          "2013/1",
          "2013/2",
          "2014/1",
          "2014/2",
          "2015/1",
          "2015/2",
          "2016/1",
          "2016/2",
          "2017/1",
          "2017/2",
          "2018/1",
          "2018/2",
          "2019/1",
          "2019/2",
          "2020/1",
          "2020/2",
          "2021/1",
          "2021/2",
          "2022/1",
          "2022/2",
          "2023/1",
          "2023/2"
         ],
         "xaxis": "x",
         "y": [
          271,
          273,
          4,
          9,
          2,
          null,
          null,
          null,
          null,
          null,
          null,
          null,
          null,
          null,
          null,
          null,
          null,
          null,
          null,
          null,
          null,
          null,
          null,
          null,
          null,
          null,
          null,
          null
         ],
         "yaxis": "y"
        },
        {
         "alignmentgroup": "True",
         "hovertemplate": "curso=Administração Pública<br>semestre_letivo_referencia=%{x}<br>value=%{y}<extra></extra>",
         "legendgroup": "Administração Pública",
         "marker": {
          "color": "#19d3f3",
          "pattern": {
           "shape": ""
          }
         },
         "name": "Administração Pública",
         "offsetgroup": "Administração Pública",
         "orientation": "v",
         "showlegend": true,
         "textposition": "auto",
         "type": "bar",
         "x": [
          "2010/1",
          "2010/2",
          "2011/1",
          "2011/2",
          "2012/1",
          "2012/2",
          "2013/1",
          "2013/2",
          "2014/1",
          "2014/2",
          "2015/1",
          "2015/2",
          "2016/1",
          "2016/2",
          "2017/1",
          "2017/2",
          "2018/1",
          "2018/2",
          "2019/1",
          "2019/2",
          "2020/1",
          "2020/2",
          "2021/1",
          "2021/2",
          "2022/1",
          "2022/2",
          "2023/1",
          "2023/2"
         ],
         "xaxis": "x",
         "y": [
          125,
          294,
          561,
          611,
          564,
          530,
          846,
          824,
          804,
          1007,
          967,
          929,
          825,
          718,
          881,
          821,
          797,
          667,
          665,
          625,
          625,
          600,
          575,
          521,
          487,
          505,
          499,
          401
         ],
         "yaxis": "y"
        },
        {
         "alignmentgroup": "True",
         "hovertemplate": "curso=Agronomia<br>semestre_letivo_referencia=%{x}<br>value=%{y}<extra></extra>",
         "legendgroup": "Agronomia",
         "marker": {
          "color": "#FF6692",
          "pattern": {
           "shape": ""
          }
         },
         "name": "Agronomia",
         "offsetgroup": "Agronomia",
         "orientation": "v",
         "showlegend": true,
         "textposition": "auto",
         "type": "bar",
         "x": [
          "2010/1",
          "2010/2",
          "2011/1",
          "2011/2",
          "2012/1",
          "2012/2",
          "2013/1",
          "2013/2",
          "2014/1",
          "2014/2",
          "2015/1",
          "2015/2",
          "2016/1",
          "2016/2",
          "2017/1",
          "2017/2",
          "2018/1",
          "2018/2",
          "2019/1",
          "2019/2",
          "2020/1",
          "2020/2",
          "2021/1",
          "2021/2",
          "2022/1",
          "2022/2",
          "2023/1",
          "2023/2"
         ],
         "xaxis": "x",
         "y": [
          763,
          776,
          800,
          830,
          846,
          874,
          877,
          917,
          936,
          1026,
          1021,
          1031,
          1020,
          1040,
          999,
          1024,
          1013,
          1000,
          986,
          989,
          988,
          975,
          966,
          962,
          983,
          1016,
          1026,
          963
         ],
         "yaxis": "y"
        },
        {
         "alignmentgroup": "True",
         "hovertemplate": "curso=Bacharelado Interdisciplinar em Inovação, Ciência e Tecnologia (BICT)<br>semestre_letivo_referencia=%{x}<br>value=%{y}<extra></extra>",
         "legendgroup": "Bacharelado Interdisciplinar em Inovação, Ciência e Tecnologia (BICT)",
         "marker": {
          "color": "#B6E880",
          "pattern": {
           "shape": ""
          }
         },
         "name": "Bacharelado Interdisciplinar em Inovação, Ciência e Tecnologia (BICT)",
         "offsetgroup": "Bacharelado Interdisciplinar em Inovação, Ciência e Tecnologia (BICT)",
         "orientation": "v",
         "showlegend": true,
         "textposition": "auto",
         "type": "bar",
         "x": [
          "2010/1",
          "2010/2",
          "2011/1",
          "2011/2",
          "2012/1",
          "2012/2",
          "2013/1",
          "2013/2",
          "2014/1",
          "2014/2",
          "2015/1",
          "2015/2",
          "2016/1",
          "2016/2",
          "2017/1",
          "2017/2",
          "2018/1",
          "2018/2",
          "2019/1",
          "2019/2",
          "2020/1",
          "2020/2",
          "2021/1",
          "2021/2",
          "2022/1",
          "2022/2",
          "2023/1",
          "2023/2"
         ],
         "xaxis": "x",
         "y": [
          null,
          null,
          null,
          null,
          null,
          null,
          null,
          null,
          null,
          null,
          null,
          null,
          null,
          null,
          null,
          null,
          null,
          null,
          null,
          null,
          null,
          null,
          null,
          null,
          13,
          31,
          219,
          256
         ],
         "yaxis": "y"
        },
        {
         "alignmentgroup": "True",
         "hovertemplate": "curso=Ciência da Computação<br>semestre_letivo_referencia=%{x}<br>value=%{y}<extra></extra>",
         "legendgroup": "Ciência da Computação",
         "marker": {
          "color": "#FF97FF",
          "pattern": {
           "shape": ""
          }
         },
         "name": "Ciência da Computação",
         "offsetgroup": "Ciência da Computação",
         "orientation": "v",
         "showlegend": true,
         "textposition": "auto",
         "type": "bar",
         "x": [
          "2010/1",
          "2010/2",
          "2011/1",
          "2011/2",
          "2012/1",
          "2012/2",
          "2013/1",
          "2013/2",
          "2014/1",
          "2014/2",
          "2015/1",
          "2015/2",
          "2016/1",
          "2016/2",
          "2017/1",
          "2017/2",
          "2018/1",
          "2018/2",
          "2019/1",
          "2019/2",
          "2020/1",
          "2020/2",
          "2021/1",
          "2021/2",
          "2022/1",
          "2022/2",
          "2023/1",
          "2023/2"
         ],
         "xaxis": "x",
         "y": [
          256,
          267,
          290,
          303,
          322,
          335,
          332,
          343,
          341,
          344,
          344,
          340,
          306,
          310,
          298,
          301,
          325,
          333,
          337,
          337,
          334,
          331,
          334,
          335,
          347,
          358,
          370,
          360
         ],
         "yaxis": "y"
        },
        {
         "alignmentgroup": "True",
         "hovertemplate": "curso=Ciências Biológicas<br>semestre_letivo_referencia=%{x}<br>value=%{y}<extra></extra>",
         "legendgroup": "Ciências Biológicas",
         "marker": {
          "color": "#FECB52",
          "pattern": {
           "shape": ""
          }
         },
         "name": "Ciências Biológicas",
         "offsetgroup": "Ciências Biológicas",
         "orientation": "v",
         "showlegend": true,
         "textposition": "auto",
         "type": "bar",
         "x": [
          "2010/1",
          "2010/2",
          "2011/1",
          "2011/2",
          "2012/1",
          "2012/2",
          "2013/1",
          "2013/2",
          "2014/1",
          "2014/2",
          "2015/1",
          "2015/2",
          "2016/1",
          "2016/2",
          "2017/1",
          "2017/2",
          "2018/1",
          "2018/2",
          "2019/1",
          "2019/2",
          "2020/1",
          "2020/2",
          "2021/1",
          "2021/2",
          "2022/1",
          "2022/2",
          "2023/1",
          "2023/2"
         ],
         "xaxis": "x",
         "y": [
          268,
          306,
          325,
          347,
          368,
          401,
          408,
          422,
          423,
          425,
          425,
          420,
          404,
          412,
          399,
          416,
          422,
          414,
          398,
          397,
          395,
          394,
          383,
          400,
          418,
          440,
          446,
          417
         ],
         "yaxis": "y"
        },
        {
         "alignmentgroup": "True",
         "hovertemplate": "curso=Direito<br>semestre_letivo_referencia=%{x}<br>value=%{y}<extra></extra>",
         "legendgroup": "Direito",
         "marker": {
          "color": "#636efa",
          "pattern": {
           "shape": ""
          }
         },
         "name": "Direito",
         "offsetgroup": "Direito",
         "orientation": "v",
         "showlegend": true,
         "textposition": "auto",
         "type": "bar",
         "x": [
          "2010/1",
          "2010/2",
          "2011/1",
          "2011/2",
          "2012/1",
          "2012/2",
          "2013/1",
          "2013/2",
          "2014/1",
          "2014/2",
          "2015/1",
          "2015/2",
          "2016/1",
          "2016/2",
          "2017/1",
          "2017/2",
          "2018/1",
          "2018/2",
          "2019/1",
          "2019/2",
          "2020/1",
          "2020/2",
          "2021/1",
          "2021/2",
          "2022/1",
          "2022/2",
          "2023/1",
          "2023/2"
         ],
         "xaxis": "x",
         "y": [
          null,
          null,
          null,
          null,
          null,
          61,
          114,
          174,
          234,
          288,
          354,
          414,
          477,
          535,
          597,
          627,
          622,
          627,
          620,
          603,
          573,
          570,
          545,
          547,
          537,
          578,
          570,
          546
         ],
         "yaxis": "y"
        },
        {
         "alignmentgroup": "True",
         "hovertemplate": "curso=Educação Física<br>semestre_letivo_referencia=%{x}<br>value=%{y}<extra></extra>",
         "legendgroup": "Educação Física",
         "marker": {
          "color": "#EF553B",
          "pattern": {
           "shape": ""
          }
         },
         "name": "Educação Física",
         "offsetgroup": "Educação Física",
         "orientation": "v",
         "showlegend": true,
         "textposition": "auto",
         "type": "bar",
         "x": [
          "2010/1",
          "2010/2",
          "2011/1",
          "2011/2",
          "2012/1",
          "2012/2",
          "2013/1",
          "2013/2",
          "2014/1",
          "2014/2",
          "2015/1",
          "2015/2",
          "2016/1",
          "2016/2",
          "2017/1",
          "2017/2",
          "2018/1",
          "2018/2",
          "2019/1",
          "2019/2",
          "2020/1",
          "2020/2",
          "2021/1",
          "2021/2",
          "2022/1",
          "2022/2",
          "2023/1",
          "2023/2"
         ],
         "xaxis": "x",
         "y": [
          325,
          362,
          423,
          458,
          461,
          479,
          485,
          476,
          482,
          496,
          503,
          523,
          532,
          517,
          524,
          507,
          516,
          537,
          530,
          501,
          477,
          462,
          471,
          423,
          376,
          348,
          301,
          211
         ],
         "yaxis": "y"
        },
        {
         "alignmentgroup": "True",
         "hovertemplate": "curso=Engenharia Agrícola<br>semestre_letivo_referencia=%{x}<br>value=%{y}<extra></extra>",
         "legendgroup": "Engenharia Agrícola",
         "marker": {
          "color": "#00cc96",
          "pattern": {
           "shape": ""
          }
         },
         "name": "Engenharia Agrícola",
         "offsetgroup": "Engenharia Agrícola",
         "orientation": "v",
         "showlegend": true,
         "textposition": "auto",
         "type": "bar",
         "x": [
          "2010/1",
          "2010/2",
          "2011/1",
          "2011/2",
          "2012/1",
          "2012/2",
          "2013/1",
          "2013/2",
          "2014/1",
          "2014/2",
          "2015/1",
          "2015/2",
          "2016/1",
          "2016/2",
          "2017/1",
          "2017/2",
          "2018/1",
          "2018/2",
          "2019/1",
          "2019/2",
          "2020/1",
          "2020/2",
          "2021/1",
          "2021/2",
          "2022/1",
          "2022/2",
          "2023/1",
          "2023/2"
         ],
         "xaxis": "x",
         "y": [
          208,
          207,
          219,
          203,
          209,
          212,
          209,
          215,
          240,
          255,
          255,
          264,
          255,
          262,
          258,
          251,
          255,
          262,
          257,
          258,
          256,
          237,
          233,
          234,
          235,
          247,
          240,
          201
         ],
         "yaxis": "y"
        },
        {
         "alignmentgroup": "True",
         "hovertemplate": "curso=Engenharia Ambiental e Sanitária<br>semestre_letivo_referencia=%{x}<br>value=%{y}<extra></extra>",
         "legendgroup": "Engenharia Ambiental e Sanitária",
         "marker": {
          "color": "#ab63fa",
          "pattern": {
           "shape": ""
          }
         },
         "name": "Engenharia Ambiental e Sanitária",
         "offsetgroup": "Engenharia Ambiental e Sanitária",
         "orientation": "v",
         "showlegend": true,
         "textposition": "auto",
         "type": "bar",
         "x": [
          "2010/1",
          "2010/2",
          "2011/1",
          "2011/2",
          "2012/1",
          "2012/2",
          "2013/1",
          "2013/2",
          "2014/1",
          "2014/2",
          "2015/1",
          "2015/2",
          "2016/1",
          "2016/2",
          "2017/1",
          "2017/2",
          "2018/1",
          "2018/2",
          "2019/1",
          "2019/2",
          "2020/1",
          "2020/2",
          "2021/1",
          "2021/2",
          "2022/1",
          "2022/2",
          "2023/1",
          "2023/2"
         ],
         "xaxis": "x",
         "y": [
          49,
          72,
          123,
          171,
          226,
          271,
          320,
          367,
          420,
          459,
          485,
          500,
          514,
          511,
          502,
          497,
          499,
          509,
          525,
          503,
          487,
          472,
          454,
          429,
          428,
          418,
          420,
          344
         ],
         "yaxis": "y"
        },
        {
         "alignmentgroup": "True",
         "hovertemplate": "curso=Engenharia Civil<br>semestre_letivo_referencia=%{x}<br>value=%{y}<extra></extra>",
         "legendgroup": "Engenharia Civil",
         "marker": {
          "color": "#FFA15A",
          "pattern": {
           "shape": ""
          }
         },
         "name": "Engenharia Civil",
         "offsetgroup": "Engenharia Civil",
         "orientation": "v",
         "showlegend": true,
         "textposition": "auto",
         "type": "bar",
         "x": [
          "2010/1",
          "2010/2",
          "2011/1",
          "2011/2",
          "2012/1",
          "2012/2",
          "2013/1",
          "2013/2",
          "2014/1",
          "2014/2",
          "2015/1",
          "2015/2",
          "2016/1",
          "2016/2",
          "2017/1",
          "2017/2",
          "2018/1",
          "2018/2",
          "2019/1",
          "2019/2",
          "2020/1",
          "2020/2",
          "2021/1",
          "2021/2",
          "2022/1",
          "2022/2",
          "2023/1",
          "2023/2"
         ],
         "xaxis": "x",
         "y": [
          null,
          null,
          null,
          null,
          null,
          null,
          null,
          null,
          null,
          null,
          null,
          null,
          null,
          null,
          null,
          102,
          165,
          220,
          298,
          336,
          352,
          366,
          369,
          373,
          378,
          363,
          344,
          341
         ],
         "yaxis": "y"
        },
        {
         "alignmentgroup": "True",
         "hovertemplate": "curso=Engenharia Florestal<br>semestre_letivo_referencia=%{x}<br>value=%{y}<extra></extra>",
         "legendgroup": "Engenharia Florestal",
         "marker": {
          "color": "#19d3f3",
          "pattern": {
           "shape": ""
          }
         },
         "name": "Engenharia Florestal",
         "offsetgroup": "Engenharia Florestal",
         "orientation": "v",
         "showlegend": true,
         "textposition": "auto",
         "type": "bar",
         "x": [
          "2010/1",
          "2010/2",
          "2011/1",
          "2011/2",
          "2012/1",
          "2012/2",
          "2013/1",
          "2013/2",
          "2014/1",
          "2014/2",
          "2015/1",
          "2015/2",
          "2016/1",
          "2016/2",
          "2017/1",
          "2017/2",
          "2018/1",
          "2018/2",
          "2019/1",
          "2019/2",
          "2020/1",
          "2020/2",
          "2021/1",
          "2021/2",
          "2022/1",
          "2022/2",
          "2023/1",
          "2023/2"
         ],
         "xaxis": "x",
         "y": [
          272,
          291,
          311,
          332,
          349,
          380,
          385,
          440,
          459,
          510,
          526,
          524,
          518,
          524,
          504,
          525,
          521,
          525,
          497,
          482,
          486,
          492,
          488,
          472,
          489,
          493,
          489,
          410
         ],
         "yaxis": "y"
        },
        {
         "alignmentgroup": "True",
         "hovertemplate": "curso=Engenharia Física<br>semestre_letivo_referencia=%{x}<br>value=%{y}<extra></extra>",
         "legendgroup": "Engenharia Física",
         "marker": {
          "color": "#FF6692",
          "pattern": {
           "shape": ""
          }
         },
         "name": "Engenharia Física",
         "offsetgroup": "Engenharia Física",
         "orientation": "v",
         "showlegend": true,
         "textposition": "auto",
         "type": "bar",
         "x": [
          "2010/1",
          "2010/2",
          "2011/1",
          "2011/2",
          "2012/1",
          "2012/2",
          "2013/1",
          "2013/2",
          "2014/1",
          "2014/2",
          "2015/1",
          "2015/2",
          "2016/1",
          "2016/2",
          "2017/1",
          "2017/2",
          "2018/1",
          "2018/2",
          "2019/1",
          "2019/2",
          "2020/1",
          "2020/2",
          "2021/1",
          "2021/2",
          "2022/1",
          "2022/2",
          "2023/1",
          "2023/2"
         ],
         "xaxis": "x",
         "y": [
          null,
          null,
          null,
          null,
          null,
          null,
          null,
          null,
          null,
          null,
          null,
          null,
          null,
          null,
          null,
          null,
          null,
          null,
          null,
          null,
          3,
          2,
          12,
          20,
          22,
          32,
          46,
          57
         ],
         "yaxis": "y"
        },
        {
         "alignmentgroup": "True",
         "hovertemplate": "curso=Engenharia Mecânica<br>semestre_letivo_referencia=%{x}<br>value=%{y}<extra></extra>",
         "legendgroup": "Engenharia Mecânica",
         "marker": {
          "color": "#B6E880",
          "pattern": {
           "shape": ""
          }
         },
         "name": "Engenharia Mecânica",
         "offsetgroup": "Engenharia Mecânica",
         "orientation": "v",
         "showlegend": true,
         "textposition": "auto",
         "type": "bar",
         "x": [
          "2010/1",
          "2010/2",
          "2011/1",
          "2011/2",
          "2012/1",
          "2012/2",
          "2013/1",
          "2013/2",
          "2014/1",
          "2014/2",
          "2015/1",
          "2015/2",
          "2016/1",
          "2016/2",
          "2017/1",
          "2017/2",
          "2018/1",
          "2018/2",
          "2019/1",
          "2019/2",
          "2020/1",
          "2020/2",
          "2021/1",
          "2021/2",
          "2022/1",
          "2022/2",
          "2023/1",
          "2023/2"
         ],
         "xaxis": "x",
         "y": [
          null,
          null,
          null,
          null,
          null,
          null,
          null,
          null,
          null,
          null,
          null,
          null,
          null,
          null,
          null,
          48,
          88,
          113,
          160,
          205,
          253,
          276,
          297,
          302,
          331,
          323,
          310,
          297
         ],
         "yaxis": "y"
        },
        {
         "alignmentgroup": "True",
         "hovertemplate": "curso=Engenharia Química<br>semestre_letivo_referencia=%{x}<br>value=%{y}<extra></extra>",
         "legendgroup": "Engenharia Química",
         "marker": {
          "color": "#FF97FF",
          "pattern": {
           "shape": ""
          }
         },
         "name": "Engenharia Química",
         "offsetgroup": "Engenharia Química",
         "orientation": "v",
         "showlegend": true,
         "textposition": "auto",
         "type": "bar",
         "x": [
          "2010/1",
          "2010/2",
          "2011/1",
          "2011/2",
          "2012/1",
          "2012/2",
          "2013/1",
          "2013/2",
          "2014/1",
          "2014/2",
          "2015/1",
          "2015/2",
          "2016/1",
          "2016/2",
          "2017/1",
          "2017/2",
          "2018/1",
          "2018/2",
          "2019/1",
          "2019/2",
          "2020/1",
          "2020/2",
          "2021/1",
          "2021/2",
          "2022/1",
          "2022/2",
          "2023/1",
          "2023/2"
         ],
         "xaxis": "x",
         "y": [
          null,
          null,
          null,
          null,
          null,
          null,
          null,
          null,
          null,
          null,
          null,
          null,
          null,
          null,
          null,
          61,
          98,
          146,
          182,
          214,
          237,
          266,
          263,
          273,
          285,
          277,
          260,
          253
         ],
         "yaxis": "y"
        },
        {
         "alignmentgroup": "True",
         "hovertemplate": "curso=Engenharia de Alimentos<br>semestre_letivo_referencia=%{x}<br>value=%{y}<extra></extra>",
         "legendgroup": "Engenharia de Alimentos",
         "marker": {
          "color": "#FECB52",
          "pattern": {
           "shape": ""
          }
         },
         "name": "Engenharia de Alimentos",
         "offsetgroup": "Engenharia de Alimentos",
         "orientation": "v",
         "showlegend": true,
         "textposition": "auto",
         "type": "bar",
         "x": [
          "2010/1",
          "2010/2",
          "2011/1",
          "2011/2",
          "2012/1",
          "2012/2",
          "2013/1",
          "2013/2",
          "2014/1",
          "2014/2",
          "2015/1",
          "2015/2",
          "2016/1",
          "2016/2",
          "2017/1",
          "2017/2",
          "2018/1",
          "2018/2",
          "2019/1",
          "2019/2",
          "2020/1",
          "2020/2",
          "2021/1",
          "2021/2",
          "2022/1",
          "2022/2",
          "2023/1",
          "2023/2"
         ],
         "xaxis": "x",
         "y": [
          243,
          248,
          264,
          309,
          330,
          348,
          370,
          413,
          424,
          456,
          479,
          494,
          500,
          523,
          516,
          512,
          507,
          510,
          509,
          504,
          486,
          473,
          482,
          479,
          470,
          462,
          459,
          387
         ],
         "yaxis": "y"
        },
        {
         "alignmentgroup": "True",
         "hovertemplate": "curso=Engenharia de Controle e Automação<br>semestre_letivo_referencia=%{x}<br>value=%{y}<extra></extra>",
         "legendgroup": "Engenharia de Controle e Automação",
         "marker": {
          "color": "#636efa",
          "pattern": {
           "shape": ""
          }
         },
         "name": "Engenharia de Controle e Automação",
         "offsetgroup": "Engenharia de Controle e Automação",
         "orientation": "v",
         "showlegend": true,
         "textposition": "auto",
         "type": "bar",
         "x": [
          "2010/1",
          "2010/2",
          "2011/1",
          "2011/2",
          "2012/1",
          "2012/2",
          "2013/1",
          "2013/2",
          "2014/1",
          "2014/2",
          "2015/1",
          "2015/2",
          "2016/1",
          "2016/2",
          "2017/1",
          "2017/2",
          "2018/1",
          "2018/2",
          "2019/1",
          "2019/2",
          "2020/1",
          "2020/2",
          "2021/1",
          "2021/2",
          "2022/1",
          "2022/2",
          "2023/1",
          "2023/2"
         ],
         "xaxis": "x",
         "y": [
          44,
          72,
          123,
          175,
          223,
          276,
          323,
          370,
          418,
          478,
          499,
          513,
          531,
          548,
          544,
          541,
          528,
          544,
          525,
          504,
          476,
          472,
          470,
          470,
          490,
          499,
          501,
          448
         ],
         "yaxis": "y"
        },
        {
         "alignmentgroup": "True",
         "hovertemplate": "curso=Engenharia de Materiais<br>semestre_letivo_referencia=%{x}<br>value=%{y}<extra></extra>",
         "legendgroup": "Engenharia de Materiais",
         "marker": {
          "color": "#EF553B",
          "pattern": {
           "shape": ""
          }
         },
         "name": "Engenharia de Materiais",
         "offsetgroup": "Engenharia de Materiais",
         "orientation": "v",
         "showlegend": true,
         "textposition": "auto",
         "type": "bar",
         "x": [
          "2010/1",
          "2010/2",
          "2011/1",
          "2011/2",
          "2012/1",
          "2012/2",
          "2013/1",
          "2013/2",
          "2014/1",
          "2014/2",
          "2015/1",
          "2015/2",
          "2016/1",
          "2016/2",
          "2017/1",
          "2017/2",
          "2018/1",
          "2018/2",
          "2019/1",
          "2019/2",
          "2020/1",
          "2020/2",
          "2021/1",
          "2021/2",
          "2022/1",
          "2022/2",
          "2023/1",
          "2023/2"
         ],
         "xaxis": "x",
         "y": [
          null,
          null,
          null,
          null,
          null,
          null,
          null,
          null,
          null,
          null,
          null,
          null,
          null,
          null,
          null,
          23,
          24,
          31,
          43,
          55,
          59,
          58,
          59,
          62,
          65,
          58,
          71,
          69
         ],
         "yaxis": "y"
        },
        {
         "alignmentgroup": "True",
         "hovertemplate": "curso=Filosofia<br>semestre_letivo_referencia=%{x}<br>value=%{y}<extra></extra>",
         "legendgroup": "Filosofia",
         "marker": {
          "color": "#00cc96",
          "pattern": {
           "shape": ""
          }
         },
         "name": "Filosofia",
         "offsetgroup": "Filosofia",
         "orientation": "v",
         "showlegend": true,
         "textposition": "auto",
         "type": "bar",
         "x": [
          "2010/1",
          "2010/2",
          "2011/1",
          "2011/2",
          "2012/1",
          "2012/2",
          "2013/1",
          "2013/2",
          "2014/1",
          "2014/2",
          "2015/1",
          "2015/2",
          "2016/1",
          "2016/2",
          "2017/1",
          "2017/2",
          "2018/1",
          "2018/2",
          "2019/1",
          "2019/2",
          "2020/1",
          "2020/2",
          "2021/1",
          "2021/2",
          "2022/1",
          "2022/2",
          "2023/1",
          "2023/2"
         ],
         "xaxis": "x",
         "y": [
          null,
          50,
          98,
          398,
          405,
          629,
          536,
          449,
          448,
          411,
          412,
          363,
          349,
          306,
          304,
          251,
          263,
          229,
          212,
          197,
          207,
          215,
          222,
          217,
          230,
          234,
          237,
          169
         ],
         "yaxis": "y"
        },
        {
         "alignmentgroup": "True",
         "hovertemplate": "curso=Física<br>semestre_letivo_referencia=%{x}<br>value=%{y}<extra></extra>",
         "legendgroup": "Física",
         "marker": {
          "color": "#ab63fa",
          "pattern": {
           "shape": ""
          }
         },
         "name": "Física",
         "offsetgroup": "Física",
         "orientation": "v",
         "showlegend": true,
         "textposition": "auto",
         "type": "bar",
         "x": [
          "2010/1",
          "2010/2",
          "2011/1",
          "2011/2",
          "2012/1",
          "2012/2",
          "2013/1",
          "2013/2",
          "2014/1",
          "2014/2",
          "2015/1",
          "2015/2",
          "2016/1",
          "2016/2",
          "2017/1",
          "2017/2",
          "2018/1",
          "2018/2",
          "2019/1",
          "2019/2",
          "2020/1",
          "2020/2",
          "2021/1",
          "2021/2",
          "2022/1",
          "2022/2",
          "2023/1",
          "2023/2"
         ],
         "xaxis": "x",
         "y": [
          111,
          133,
          162,
          176,
          192,
          204,
          205,
          170,
          164,
          166,
          167,
          164,
          163,
          154,
          146,
          151,
          159,
          171,
          178,
          173,
          168,
          156,
          161,
          163,
          178,
          168,
          169,
          99
         ],
         "yaxis": "y"
        },
        {
         "alignmentgroup": "True",
         "hovertemplate": "curso=Letras<br>semestre_letivo_referencia=%{x}<br>value=%{y}<extra></extra>",
         "legendgroup": "Letras",
         "marker": {
          "color": "#FFA15A",
          "pattern": {
           "shape": ""
          }
         },
         "name": "Letras",
         "offsetgroup": "Letras",
         "orientation": "v",
         "showlegend": true,
         "textposition": "auto",
         "type": "bar",
         "x": [
          "2010/1",
          "2010/2",
          "2011/1",
          "2011/2",
          "2012/1",
          "2012/2",
          "2013/1",
          "2013/2",
          "2014/1",
          "2014/2",
          "2015/1",
          "2015/2",
          "2016/1",
          "2016/2",
          "2017/1",
          "2017/2",
          "2018/1",
          "2018/2",
          "2019/1",
          "2019/2",
          "2020/1",
          "2020/2",
          "2021/1",
          "2021/2",
          "2022/1",
          "2022/2",
          "2023/1",
          "2023/2"
         ],
         "xaxis": "x",
         "y": [
          null,
          51,
          98,
          143,
          198,
          241,
          293,
          334,
          376,
          400,
          411,
          427,
          414,
          381,
          384,
          374,
          379,
          411,
          432,
          413,
          416,
          419,
          410,
          406,
          412,
          412,
          388,
          287
         ],
         "yaxis": "y"
        },
        {
         "alignmentgroup": "True",
         "hovertemplate": "curso=Letras Português, Inglês e suas Literaturas<br>semestre_letivo_referencia=%{x}<br>value=%{y}<extra></extra>",
         "legendgroup": "Letras Português, Inglês e suas Literaturas",
         "marker": {
          "color": "#19d3f3",
          "pattern": {
           "shape": ""
          }
         },
         "name": "Letras Português, Inglês e suas Literaturas",
         "offsetgroup": "Letras Português, Inglês e suas Literaturas",
         "orientation": "v",
         "showlegend": true,
         "textposition": "auto",
         "type": "bar",
         "x": [
          "2010/1",
          "2010/2",
          "2011/1",
          "2011/2",
          "2012/1",
          "2012/2",
          "2013/1",
          "2013/2",
          "2014/1",
          "2014/2",
          "2015/1",
          "2015/2",
          "2016/1",
          "2016/2",
          "2017/1",
          "2017/2",
          "2018/1",
          "2018/2",
          "2019/1",
          "2019/2",
          "2020/1",
          "2020/2",
          "2021/1",
          "2021/2",
          "2022/1",
          "2022/2",
          "2023/1",
          "2023/2"
         ],
         "xaxis": "x",
         "y": [
          null,
          null,
          null,
          null,
          null,
          null,
          null,
          null,
          null,
          null,
          null,
          null,
          null,
          null,
          null,
          null,
          null,
          null,
          null,
          null,
          null,
          null,
          null,
          null,
          null,
          null,
          null,
          4
         ],
         "yaxis": "y"
        },
        {
         "alignmentgroup": "True",
         "hovertemplate": "curso=Letras/Inglês<br>semestre_letivo_referencia=%{x}<br>value=%{y}<extra></extra>",
         "legendgroup": "Letras/Inglês",
         "marker": {
          "color": "#FF6692",
          "pattern": {
           "shape": ""
          }
         },
         "name": "Letras/Inglês",
         "offsetgroup": "Letras/Inglês",
         "orientation": "v",
         "showlegend": true,
         "textposition": "auto",
         "type": "bar",
         "x": [
          "2010/1",
          "2010/2",
          "2011/1",
          "2011/2",
          "2012/1",
          "2012/2",
          "2013/1",
          "2013/2",
          "2014/1",
          "2014/2",
          "2015/1",
          "2015/2",
          "2016/1",
          "2016/2",
          "2017/1",
          "2017/2",
          "2018/1",
          "2018/2",
          "2019/1",
          "2019/2",
          "2020/1",
          "2020/2",
          "2021/1",
          "2021/2",
          "2022/1",
          "2022/2",
          "2023/1",
          "2023/2"
         ],
         "xaxis": "x",
         "y": [
          null,
          null,
          null,
          239,
          466,
          158,
          367,
          270,
          217,
          206,
          189,
          174,
          120,
          59,
          29,
          12,
          3,
          2,
          null,
          null,
          null,
          null,
          null,
          null,
          null,
          null,
          null,
          null
         ],
         "yaxis": "y"
        },
        {
         "alignmentgroup": "True",
         "hovertemplate": "curso=Letras/Português<br>semestre_letivo_referencia=%{x}<br>value=%{y}<extra></extra>",
         "legendgroup": "Letras/Português",
         "marker": {
          "color": "#B6E880",
          "pattern": {
           "shape": ""
          }
         },
         "name": "Letras/Português",
         "offsetgroup": "Letras/Português",
         "orientation": "v",
         "showlegend": true,
         "textposition": "auto",
         "type": "bar",
         "x": [
          "2010/1",
          "2010/2",
          "2011/1",
          "2011/2",
          "2012/1",
          "2012/2",
          "2013/1",
          "2013/2",
          "2014/1",
          "2014/2",
          "2015/1",
          "2015/2",
          "2016/1",
          "2016/2",
          "2017/1",
          "2017/2",
          "2018/1",
          "2018/2",
          "2019/1",
          "2019/2",
          "2020/1",
          "2020/2",
          "2021/1",
          "2021/2",
          "2022/1",
          "2022/2",
          "2023/1",
          "2023/2"
         ],
         "xaxis": "x",
         "y": [
          null,
          null,
          null,
          253,
          238,
          456,
          389,
          310,
          277,
          266,
          259,
          250,
          152,
          66,
          244,
          225,
          217,
          180,
          173,
          143,
          143,
          137,
          114,
          44,
          8,
          1,
          null,
          153
         ],
         "yaxis": "y"
        },
        {
         "alignmentgroup": "True",
         "hovertemplate": "curso=Matemática<br>semestre_letivo_referencia=%{x}<br>value=%{y}<extra></extra>",
         "legendgroup": "Matemática",
         "marker": {
          "color": "#FF97FF",
          "pattern": {
           "shape": ""
          }
         },
         "name": "Matemática",
         "offsetgroup": "Matemática",
         "orientation": "v",
         "showlegend": true,
         "textposition": "auto",
         "type": "bar",
         "x": [
          "2010/1",
          "2010/2",
          "2011/1",
          "2011/2",
          "2012/1",
          "2012/2",
          "2013/1",
          "2013/2",
          "2014/1",
          "2014/2",
          "2015/1",
          "2015/2",
          "2016/1",
          "2016/2",
          "2017/1",
          "2017/2",
          "2018/1",
          "2018/2",
          "2019/1",
          "2019/2",
          "2020/1",
          "2020/2",
          "2021/1",
          "2021/2",
          "2022/1",
          "2022/2",
          "2023/1",
          "2023/2"
         ],
         "xaxis": "x",
         "y": [
          179,
          207,
          241,
          240,
          239,
          249,
          234,
          194,
          186,
          189,
          189,
          180,
          182,
          181,
          179,
          179,
          188,
          199,
          202,
          195,
          186,
          194,
          199,
          186,
          186,
          190,
          186,
          120
         ],
         "yaxis": "y"
        },
        {
         "alignmentgroup": "True",
         "hovertemplate": "curso=Medicina<br>semestre_letivo_referencia=%{x}<br>value=%{y}<extra></extra>",
         "legendgroup": "Medicina",
         "marker": {
          "color": "#FECB52",
          "pattern": {
           "shape": ""
          }
         },
         "name": "Medicina",
         "offsetgroup": "Medicina",
         "orientation": "v",
         "showlegend": true,
         "textposition": "auto",
         "type": "bar",
         "x": [
          "2010/1",
          "2010/2",
          "2011/1",
          "2011/2",
          "2012/1",
          "2012/2",
          "2013/1",
          "2013/2",
          "2014/1",
          "2014/2",
          "2015/1",
          "2015/2",
          "2016/1",
          "2016/2",
          "2017/1",
          "2017/2",
          "2018/1",
          "2018/2",
          "2019/1",
          "2019/2",
          "2020/1",
          "2020/2",
          "2021/1",
          "2021/2",
          "2022/1",
          "2022/2",
          "2023/1",
          "2023/2"
         ],
         "xaxis": "x",
         "y": [
          null,
          null,
          null,
          null,
          null,
          null,
          null,
          null,
          null,
          null,
          30,
          58,
          89,
          118,
          148,
          171,
          206,
          240,
          268,
          292,
          313,
          337,
          335,
          364,
          371,
          391,
          360,
          356
         ],
         "yaxis": "y"
        },
        {
         "alignmentgroup": "True",
         "hovertemplate": "curso=Medicina Veterinária<br>semestre_letivo_referencia=%{x}<br>value=%{y}<extra></extra>",
         "legendgroup": "Medicina Veterinária",
         "marker": {
          "color": "#636efa",
          "pattern": {
           "shape": ""
          }
         },
         "name": "Medicina Veterinária",
         "offsetgroup": "Medicina Veterinária",
         "orientation": "v",
         "showlegend": true,
         "textposition": "auto",
         "type": "bar",
         "x": [
          "2010/1",
          "2010/2",
          "2011/1",
          "2011/2",
          "2012/1",
          "2012/2",
          "2013/1",
          "2013/2",
          "2014/1",
          "2014/2",
          "2015/1",
          "2015/2",
          "2016/1",
          "2016/2",
          "2017/1",
          "2017/2",
          "2018/1",
          "2018/2",
          "2019/1",
          "2019/2",
          "2020/1",
          "2020/2",
          "2021/1",
          "2021/2",
          "2022/1",
          "2022/2",
          "2023/1",
          "2023/2"
         ],
         "xaxis": "x",
         "y": [
          327,
          351,
          385,
          406,
          429,
          449,
          479,
          499,
          512,
          522,
          519,
          523,
          519,
          530,
          532,
          519,
          518,
          526,
          532,
          514,
          502,
          498,
          494,
          528,
          522,
          527,
          523,
          504
         ],
         "yaxis": "y"
        },
        {
         "alignmentgroup": "True",
         "hovertemplate": "curso=Nutrição<br>semestre_letivo_referencia=%{x}<br>value=%{y}<extra></extra>",
         "legendgroup": "Nutrição",
         "marker": {
          "color": "#EF553B",
          "pattern": {
           "shape": ""
          }
         },
         "name": "Nutrição",
         "offsetgroup": "Nutrição",
         "orientation": "v",
         "showlegend": true,
         "textposition": "auto",
         "type": "bar",
         "x": [
          "2010/1",
          "2010/2",
          "2011/1",
          "2011/2",
          "2012/1",
          "2012/2",
          "2013/1",
          "2013/2",
          "2014/1",
          "2014/2",
          "2015/1",
          "2015/2",
          "2016/1",
          "2016/2",
          "2017/1",
          "2017/2",
          "2018/1",
          "2018/2",
          "2019/1",
          "2019/2",
          "2020/1",
          "2020/2",
          "2021/1",
          "2021/2",
          "2022/1",
          "2022/2",
          "2023/1",
          "2023/2"
         ],
         "xaxis": "x",
         "y": [
          49,
          76,
          120,
          171,
          215,
          261,
          310,
          365,
          405,
          431,
          435,
          472,
          485,
          488,
          489,
          483,
          471,
          476,
          477,
          451,
          436,
          447,
          425,
          432,
          445,
          434,
          429,
          394
         ],
         "yaxis": "y"
        },
        {
         "alignmentgroup": "True",
         "hovertemplate": "curso=Pedagogia<br>semestre_letivo_referencia=%{x}<br>value=%{y}<extra></extra>",
         "legendgroup": "Pedagogia",
         "marker": {
          "color": "#00cc96",
          "pattern": {
           "shape": ""
          }
         },
         "name": "Pedagogia",
         "offsetgroup": "Pedagogia",
         "orientation": "v",
         "showlegend": true,
         "textposition": "auto",
         "type": "bar",
         "x": [
          "2010/1",
          "2010/2",
          "2011/1",
          "2011/2",
          "2012/1",
          "2012/2",
          "2013/1",
          "2013/2",
          "2014/1",
          "2014/2",
          "2015/1",
          "2015/2",
          "2016/1",
          "2016/2",
          "2017/1",
          "2017/2",
          "2018/1",
          "2018/2",
          "2019/1",
          "2019/2",
          "2020/1",
          "2020/2",
          "2021/1",
          "2021/2",
          "2022/1",
          "2022/2",
          "2023/1",
          "2023/2"
         ],
         "xaxis": "x",
         "y": [
          null,
          null,
          null,
          null,
          221,
          5,
          184,
          388,
          365,
          501,
          539,
          562,
          549,
          474,
          755,
          782,
          680,
          697,
          662,
          633,
          655,
          615,
          599,
          454,
          437,
          431,
          443,
          495
         ],
         "yaxis": "y"
        },
        {
         "alignmentgroup": "True",
         "hovertemplate": "curso=Química<br>semestre_letivo_referencia=%{x}<br>value=%{y}<extra></extra>",
         "legendgroup": "Química",
         "marker": {
          "color": "#ab63fa",
          "pattern": {
           "shape": ""
          }
         },
         "name": "Química",
         "offsetgroup": "Química",
         "orientation": "v",
         "showlegend": true,
         "textposition": "auto",
         "type": "bar",
         "x": [
          "2010/1",
          "2010/2",
          "2011/1",
          "2011/2",
          "2012/1",
          "2012/2",
          "2013/1",
          "2013/2",
          "2014/1",
          "2014/2",
          "2015/1",
          "2015/2",
          "2016/1",
          "2016/2",
          "2017/1",
          "2017/2",
          "2018/1",
          "2018/2",
          "2019/1",
          "2019/2",
          "2020/1",
          "2020/2",
          "2021/1",
          "2021/2",
          "2022/1",
          "2022/2",
          "2023/1",
          "2023/2"
         ],
         "xaxis": "x",
         "y": [
          204,
          202,
          229,
          253,
          275,
          303,
          308,
          340,
          351,
          369,
          367,
          379,
          357,
          340,
          320,
          297,
          286,
          296,
          314,
          309,
          320,
          326,
          320,
          331,
          344,
          357,
          350,
          274
         ],
         "yaxis": "y"
        },
        {
         "alignmentgroup": "True",
         "hovertemplate": "curso=Sistemas de Informação<br>semestre_letivo_referencia=%{x}<br>value=%{y}<extra></extra>",
         "legendgroup": "Sistemas de Informação",
         "marker": {
          "color": "#FFA15A",
          "pattern": {
           "shape": ""
          }
         },
         "name": "Sistemas de Informação",
         "offsetgroup": "Sistemas de Informação",
         "orientation": "v",
         "showlegend": true,
         "textposition": "auto",
         "type": "bar",
         "x": [
          "2010/1",
          "2010/2",
          "2011/1",
          "2011/2",
          "2012/1",
          "2012/2",
          "2013/1",
          "2013/2",
          "2014/1",
          "2014/2",
          "2015/1",
          "2015/2",
          "2016/1",
          "2016/2",
          "2017/1",
          "2017/2",
          "2018/1",
          "2018/2",
          "2019/1",
          "2019/2",
          "2020/1",
          "2020/2",
          "2021/1",
          "2021/2",
          "2022/1",
          "2022/2",
          "2023/1",
          "2023/2"
         ],
         "xaxis": "x",
         "y": [
          266,
          305,
          354,
          372,
          378,
          378,
          378,
          380,
          369,
          350,
          343,
          324,
          337,
          336,
          322,
          315,
          337,
          334,
          338,
          328,
          331,
          334,
          354,
          366,
          384,
          407,
          413,
          374
         ],
         "yaxis": "y"
        },
        {
         "alignmentgroup": "True",
         "hovertemplate": "curso=Zootecnia<br>semestre_letivo_referencia=%{x}<br>value=%{y}<extra></extra>",
         "legendgroup": "Zootecnia",
         "marker": {
          "color": "#19d3f3",
          "pattern": {
           "shape": ""
          }
         },
         "name": "Zootecnia",
         "offsetgroup": "Zootecnia",
         "orientation": "v",
         "showlegend": true,
         "textposition": "auto",
         "type": "bar",
         "x": [
          "2010/1",
          "2010/2",
          "2011/1",
          "2011/2",
          "2012/1",
          "2012/2",
          "2013/1",
          "2013/2",
          "2014/1",
          "2014/2",
          "2015/1",
          "2015/2",
          "2016/1",
          "2016/2",
          "2017/1",
          "2017/2",
          "2018/1",
          "2018/2",
          "2019/1",
          "2019/2",
          "2020/1",
          "2020/2",
          "2021/1",
          "2021/2",
          "2022/1",
          "2022/2",
          "2023/1",
          "2023/2"
         ],
         "xaxis": "x",
         "y": [
          309,
          326,
          354,
          383,
          410,
          415,
          441,
          463,
          474,
          493,
          503,
          492,
          483,
          502,
          523,
          527,
          526,
          528,
          519,
          491,
          496,
          483,
          467,
          463,
          453,
          487,
          489,
          456
         ],
         "yaxis": "y"
        }
       ],
       "layout": {
        "barmode": "relative",
        "legend": {
         "title": {
          "text": "curso"
         },
         "tracegroupgap": 0
        },
        "margin": {
         "t": 60
        },
        "template": {
         "data": {
          "bar": [
           {
            "error_x": {
             "color": "#2a3f5f"
            },
            "error_y": {
             "color": "#2a3f5f"
            },
            "marker": {
             "line": {
              "color": "#E5ECF6",
              "width": 0.5
             },
             "pattern": {
              "fillmode": "overlay",
              "size": 10,
              "solidity": 0.2
             }
            },
            "type": "bar"
           }
          ],
          "barpolar": [
           {
            "marker": {
             "line": {
              "color": "#E5ECF6",
              "width": 0.5
             },
             "pattern": {
              "fillmode": "overlay",
              "size": 10,
              "solidity": 0.2
             }
            },
            "type": "barpolar"
           }
          ],
          "carpet": [
           {
            "aaxis": {
             "endlinecolor": "#2a3f5f",
             "gridcolor": "white",
             "linecolor": "white",
             "minorgridcolor": "white",
             "startlinecolor": "#2a3f5f"
            },
            "baxis": {
             "endlinecolor": "#2a3f5f",
             "gridcolor": "white",
             "linecolor": "white",
             "minorgridcolor": "white",
             "startlinecolor": "#2a3f5f"
            },
            "type": "carpet"
           }
          ],
          "choropleth": [
           {
            "colorbar": {
             "outlinewidth": 0,
             "ticks": ""
            },
            "type": "choropleth"
           }
          ],
          "contour": [
           {
            "colorbar": {
             "outlinewidth": 0,
             "ticks": ""
            },
            "colorscale": [
             [
              0,
              "#0d0887"
             ],
             [
              0.1111111111111111,
              "#46039f"
             ],
             [
              0.2222222222222222,
              "#7201a8"
             ],
             [
              0.3333333333333333,
              "#9c179e"
             ],
             [
              0.4444444444444444,
              "#bd3786"
             ],
             [
              0.5555555555555556,
              "#d8576b"
             ],
             [
              0.6666666666666666,
              "#ed7953"
             ],
             [
              0.7777777777777778,
              "#fb9f3a"
             ],
             [
              0.8888888888888888,
              "#fdca26"
             ],
             [
              1,
              "#f0f921"
             ]
            ],
            "type": "contour"
           }
          ],
          "contourcarpet": [
           {
            "colorbar": {
             "outlinewidth": 0,
             "ticks": ""
            },
            "type": "contourcarpet"
           }
          ],
          "heatmap": [
           {
            "colorbar": {
             "outlinewidth": 0,
             "ticks": ""
            },
            "colorscale": [
             [
              0,
              "#0d0887"
             ],
             [
              0.1111111111111111,
              "#46039f"
             ],
             [
              0.2222222222222222,
              "#7201a8"
             ],
             [
              0.3333333333333333,
              "#9c179e"
             ],
             [
              0.4444444444444444,
              "#bd3786"
             ],
             [
              0.5555555555555556,
              "#d8576b"
             ],
             [
              0.6666666666666666,
              "#ed7953"
             ],
             [
              0.7777777777777778,
              "#fb9f3a"
             ],
             [
              0.8888888888888888,
              "#fdca26"
             ],
             [
              1,
              "#f0f921"
             ]
            ],
            "type": "heatmap"
           }
          ],
          "heatmapgl": [
           {
            "colorbar": {
             "outlinewidth": 0,
             "ticks": ""
            },
            "colorscale": [
             [
              0,
              "#0d0887"
             ],
             [
              0.1111111111111111,
              "#46039f"
             ],
             [
              0.2222222222222222,
              "#7201a8"
             ],
             [
              0.3333333333333333,
              "#9c179e"
             ],
             [
              0.4444444444444444,
              "#bd3786"
             ],
             [
              0.5555555555555556,
              "#d8576b"
             ],
             [
              0.6666666666666666,
              "#ed7953"
             ],
             [
              0.7777777777777778,
              "#fb9f3a"
             ],
             [
              0.8888888888888888,
              "#fdca26"
             ],
             [
              1,
              "#f0f921"
             ]
            ],
            "type": "heatmapgl"
           }
          ],
          "histogram": [
           {
            "marker": {
             "pattern": {
              "fillmode": "overlay",
              "size": 10,
              "solidity": 0.2
             }
            },
            "type": "histogram"
           }
          ],
          "histogram2d": [
           {
            "colorbar": {
             "outlinewidth": 0,
             "ticks": ""
            },
            "colorscale": [
             [
              0,
              "#0d0887"
             ],
             [
              0.1111111111111111,
              "#46039f"
             ],
             [
              0.2222222222222222,
              "#7201a8"
             ],
             [
              0.3333333333333333,
              "#9c179e"
             ],
             [
              0.4444444444444444,
              "#bd3786"
             ],
             [
              0.5555555555555556,
              "#d8576b"
             ],
             [
              0.6666666666666666,
              "#ed7953"
             ],
             [
              0.7777777777777778,
              "#fb9f3a"
             ],
             [
              0.8888888888888888,
              "#fdca26"
             ],
             [
              1,
              "#f0f921"
             ]
            ],
            "type": "histogram2d"
           }
          ],
          "histogram2dcontour": [
           {
            "colorbar": {
             "outlinewidth": 0,
             "ticks": ""
            },
            "colorscale": [
             [
              0,
              "#0d0887"
             ],
             [
              0.1111111111111111,
              "#46039f"
             ],
             [
              0.2222222222222222,
              "#7201a8"
             ],
             [
              0.3333333333333333,
              "#9c179e"
             ],
             [
              0.4444444444444444,
              "#bd3786"
             ],
             [
              0.5555555555555556,
              "#d8576b"
             ],
             [
              0.6666666666666666,
              "#ed7953"
             ],
             [
              0.7777777777777778,
              "#fb9f3a"
             ],
             [
              0.8888888888888888,
              "#fdca26"
             ],
             [
              1,
              "#f0f921"
             ]
            ],
            "type": "histogram2dcontour"
           }
          ],
          "mesh3d": [
           {
            "colorbar": {
             "outlinewidth": 0,
             "ticks": ""
            },
            "type": "mesh3d"
           }
          ],
          "parcoords": [
           {
            "line": {
             "colorbar": {
              "outlinewidth": 0,
              "ticks": ""
             }
            },
            "type": "parcoords"
           }
          ],
          "pie": [
           {
            "automargin": true,
            "type": "pie"
           }
          ],
          "scatter": [
           {
            "fillpattern": {
             "fillmode": "overlay",
             "size": 10,
             "solidity": 0.2
            },
            "type": "scatter"
           }
          ],
          "scatter3d": [
           {
            "line": {
             "colorbar": {
              "outlinewidth": 0,
              "ticks": ""
             }
            },
            "marker": {
             "colorbar": {
              "outlinewidth": 0,
              "ticks": ""
             }
            },
            "type": "scatter3d"
           }
          ],
          "scattercarpet": [
           {
            "marker": {
             "colorbar": {
              "outlinewidth": 0,
              "ticks": ""
             }
            },
            "type": "scattercarpet"
           }
          ],
          "scattergeo": [
           {
            "marker": {
             "colorbar": {
              "outlinewidth": 0,
              "ticks": ""
             }
            },
            "type": "scattergeo"
           }
          ],
          "scattergl": [
           {
            "marker": {
             "colorbar": {
              "outlinewidth": 0,
              "ticks": ""
             }
            },
            "type": "scattergl"
           }
          ],
          "scattermapbox": [
           {
            "marker": {
             "colorbar": {
              "outlinewidth": 0,
              "ticks": ""
             }
            },
            "type": "scattermapbox"
           }
          ],
          "scatterpolar": [
           {
            "marker": {
             "colorbar": {
              "outlinewidth": 0,
              "ticks": ""
             }
            },
            "type": "scatterpolar"
           }
          ],
          "scatterpolargl": [
           {
            "marker": {
             "colorbar": {
              "outlinewidth": 0,
              "ticks": ""
             }
            },
            "type": "scatterpolargl"
           }
          ],
          "scatterternary": [
           {
            "marker": {
             "colorbar": {
              "outlinewidth": 0,
              "ticks": ""
             }
            },
            "type": "scatterternary"
           }
          ],
          "surface": [
           {
            "colorbar": {
             "outlinewidth": 0,
             "ticks": ""
            },
            "colorscale": [
             [
              0,
              "#0d0887"
             ],
             [
              0.1111111111111111,
              "#46039f"
             ],
             [
              0.2222222222222222,
              "#7201a8"
             ],
             [
              0.3333333333333333,
              "#9c179e"
             ],
             [
              0.4444444444444444,
              "#bd3786"
             ],
             [
              0.5555555555555556,
              "#d8576b"
             ],
             [
              0.6666666666666666,
              "#ed7953"
             ],
             [
              0.7777777777777778,
              "#fb9f3a"
             ],
             [
              0.8888888888888888,
              "#fdca26"
             ],
             [
              1,
              "#f0f921"
             ]
            ],
            "type": "surface"
           }
          ],
          "table": [
           {
            "cells": {
             "fill": {
              "color": "#EBF0F8"
             },
             "line": {
              "color": "white"
             }
            },
            "header": {
             "fill": {
              "color": "#C8D4E3"
             },
             "line": {
              "color": "white"
             }
            },
            "type": "table"
           }
          ]
         },
         "layout": {
          "annotationdefaults": {
           "arrowcolor": "#2a3f5f",
           "arrowhead": 0,
           "arrowwidth": 1
          },
          "autotypenumbers": "strict",
          "coloraxis": {
           "colorbar": {
            "outlinewidth": 0,
            "ticks": ""
           }
          },
          "colorscale": {
           "diverging": [
            [
             0,
             "#8e0152"
            ],
            [
             0.1,
             "#c51b7d"
            ],
            [
             0.2,
             "#de77ae"
            ],
            [
             0.3,
             "#f1b6da"
            ],
            [
             0.4,
             "#fde0ef"
            ],
            [
             0.5,
             "#f7f7f7"
            ],
            [
             0.6,
             "#e6f5d0"
            ],
            [
             0.7,
             "#b8e186"
            ],
            [
             0.8,
             "#7fbc41"
            ],
            [
             0.9,
             "#4d9221"
            ],
            [
             1,
             "#276419"
            ]
           ],
           "sequential": [
            [
             0,
             "#0d0887"
            ],
            [
             0.1111111111111111,
             "#46039f"
            ],
            [
             0.2222222222222222,
             "#7201a8"
            ],
            [
             0.3333333333333333,
             "#9c179e"
            ],
            [
             0.4444444444444444,
             "#bd3786"
            ],
            [
             0.5555555555555556,
             "#d8576b"
            ],
            [
             0.6666666666666666,
             "#ed7953"
            ],
            [
             0.7777777777777778,
             "#fb9f3a"
            ],
            [
             0.8888888888888888,
             "#fdca26"
            ],
            [
             1,
             "#f0f921"
            ]
           ],
           "sequentialminus": [
            [
             0,
             "#0d0887"
            ],
            [
             0.1111111111111111,
             "#46039f"
            ],
            [
             0.2222222222222222,
             "#7201a8"
            ],
            [
             0.3333333333333333,
             "#9c179e"
            ],
            [
             0.4444444444444444,
             "#bd3786"
            ],
            [
             0.5555555555555556,
             "#d8576b"
            ],
            [
             0.6666666666666666,
             "#ed7953"
            ],
            [
             0.7777777777777778,
             "#fb9f3a"
            ],
            [
             0.8888888888888888,
             "#fdca26"
            ],
            [
             1,
             "#f0f921"
            ]
           ]
          },
          "colorway": [
           "#636efa",
           "#EF553B",
           "#00cc96",
           "#ab63fa",
           "#FFA15A",
           "#19d3f3",
           "#FF6692",
           "#B6E880",
           "#FF97FF",
           "#FECB52"
          ],
          "font": {
           "color": "#2a3f5f"
          },
          "geo": {
           "bgcolor": "white",
           "lakecolor": "white",
           "landcolor": "#E5ECF6",
           "showlakes": true,
           "showland": true,
           "subunitcolor": "white"
          },
          "hoverlabel": {
           "align": "left"
          },
          "hovermode": "closest",
          "mapbox": {
           "style": "light"
          },
          "paper_bgcolor": "white",
          "plot_bgcolor": "#E5ECF6",
          "polar": {
           "angularaxis": {
            "gridcolor": "white",
            "linecolor": "white",
            "ticks": ""
           },
           "bgcolor": "#E5ECF6",
           "radialaxis": {
            "gridcolor": "white",
            "linecolor": "white",
            "ticks": ""
           }
          },
          "scene": {
           "xaxis": {
            "backgroundcolor": "#E5ECF6",
            "gridcolor": "white",
            "gridwidth": 2,
            "linecolor": "white",
            "showbackground": true,
            "ticks": "",
            "zerolinecolor": "white"
           },
           "yaxis": {
            "backgroundcolor": "#E5ECF6",
            "gridcolor": "white",
            "gridwidth": 2,
            "linecolor": "white",
            "showbackground": true,
            "ticks": "",
            "zerolinecolor": "white"
           },
           "zaxis": {
            "backgroundcolor": "#E5ECF6",
            "gridcolor": "white",
            "gridwidth": 2,
            "linecolor": "white",
            "showbackground": true,
            "ticks": "",
            "zerolinecolor": "white"
           }
          },
          "shapedefaults": {
           "line": {
            "color": "#2a3f5f"
           }
          },
          "ternary": {
           "aaxis": {
            "gridcolor": "white",
            "linecolor": "white",
            "ticks": ""
           },
           "baxis": {
            "gridcolor": "white",
            "linecolor": "white",
            "ticks": ""
           },
           "bgcolor": "#E5ECF6",
           "caxis": {
            "gridcolor": "white",
            "linecolor": "white",
            "ticks": ""
           }
          },
          "title": {
           "x": 0.05
          },
          "xaxis": {
           "automargin": true,
           "gridcolor": "white",
           "linecolor": "white",
           "ticks": "",
           "title": {
            "standoff": 15
           },
           "zerolinecolor": "white",
           "zerolinewidth": 2
          },
          "yaxis": {
           "automargin": true,
           "gridcolor": "white",
           "linecolor": "white",
           "ticks": "",
           "title": {
            "standoff": 15
           },
           "zerolinecolor": "white",
           "zerolinewidth": 2
          }
         }
        },
        "xaxis": {
         "anchor": "y",
         "domain": [
          0,
          1
         ],
         "title": {
          "text": "semestre_letivo_referencia"
         }
        },
        "yaxis": {
         "anchor": "x",
         "domain": [
          0,
          1
         ],
         "title": {
          "text": "value"
         }
        }
       }
      }
     },
     "metadata": {},
     "output_type": "display_data"
    }
   ],
   "source": [
    "# Para melhor manipulação trasnforma o objeto em SparkPandas\n",
    "view_3 = ps.DataFrame(data.groupBy('semestre_letivo_referencia', 'curso')\n",
    "                      .count()\n",
    "                      .orderBy('semestre_letivo_referencia'))\n",
    "\n",
    "view_3_pivot = view_3.pivot(index='semestre_letivo_referencia', \n",
    "                            columns='curso', \n",
    "                            values='count')\n",
    "view_3_pivot.plot(kind='bar')"
   ]
  },
  {
   "cell_type": "code",
   "execution_count": 39,
   "metadata": {},
   "outputs": [
    {
     "data": {
      "application/vnd.plotly.v1+json": {
       "config": {
        "plotlyServerURL": "https://plot.ly"
       },
       "data": [
        {
         "alignmentgroup": "True",
         "hovertemplate": "curso_turno=Indefinido<br>value=%{x}<br>curso=%{y}<extra></extra>",
         "legendgroup": "Indefinido",
         "marker": {
          "color": "#636efa",
          "pattern": {
           "shape": ""
          }
         },
         "name": "Indefinido",
         "offsetgroup": "Indefinido",
         "orientation": "h",
         "showlegend": true,
         "textposition": "auto",
         "type": "bar",
         "x": [
          null,
          null,
          null,
          null,
          559,
          8042,
          null,
          null,
          null,
          null,
          null,
          null,
          null,
          null,
          null,
          null,
          null,
          null,
          null,
          null,
          null,
          null,
          2951,
          null,
          null,
          null,
          2511,
          4698,
          null,
          null,
          null,
          null,
          6134,
          null,
          null,
          null
         ],
         "xaxis": "x",
         "y": [
          "ABI Educação Física",
          "ABI Engenharia",
          "ABI Letras",
          "Administração",
          "Administração Piloto EAD",
          "Administração Pública",
          "Agronomia",
          "Bacharelado Interdisciplinar em Inovação, Ciência e Tecnologia (BICT)",
          "Ciência da Computação",
          "Ciências Biológicas",
          "Direito",
          "Educação Física",
          "Engenharia Agrícola",
          "Engenharia Ambiental e Sanitária",
          "Engenharia Civil",
          "Engenharia Florestal",
          "Engenharia Física",
          "Engenharia Mecânica",
          "Engenharia Química",
          "Engenharia de Alimentos",
          "Engenharia de Controle e Automação",
          "Engenharia de Materiais",
          "Filosofia",
          "Física",
          "Letras",
          "Letras Português, Inglês e suas Literaturas",
          "Letras/Inglês",
          "Letras/Português",
          "Matemática",
          "Medicina",
          "Medicina Veterinária",
          "Nutrição",
          "Pedagogia",
          "Química",
          "Sistemas de Informação",
          "Zootecnia"
         ],
         "yaxis": "y"
        },
        {
         "alignmentgroup": "True",
         "hovertemplate": "curso_turno=Integral<br>value=%{x}<br>curso=%{y}<extra></extra>",
         "legendgroup": "Integral",
         "marker": {
          "color": "#EF553B",
          "pattern": {
           "shape": ""
          }
         },
         "name": "Integral",
         "offsetgroup": "Integral",
         "orientation": "h",
         "showlegend": true,
         "textposition": "auto",
         "type": "bar",
         "x": [
          676,
          15392,
          null,
          9040,
          null,
          null,
          26647,
          519,
          9133,
          11093,
          null,
          9163,
          6637,
          10975,
          4007,
          12694,
          194,
          3003,
          2815,
          12157,
          11605,
          677,
          null,
          null,
          null,
          null,
          null,
          null,
          null,
          4447,
          13689,
          10572,
          null,
          8721,
          null,
          12956
         ],
         "xaxis": "x",
         "y": [
          "ABI Educação Física",
          "ABI Engenharia",
          "ABI Letras",
          "Administração",
          "Administração Piloto EAD",
          "Administração Pública",
          "Agronomia",
          "Bacharelado Interdisciplinar em Inovação, Ciência e Tecnologia (BICT)",
          "Ciência da Computação",
          "Ciências Biológicas",
          "Direito",
          "Educação Física",
          "Engenharia Agrícola",
          "Engenharia Ambiental e Sanitária",
          "Engenharia Civil",
          "Engenharia Florestal",
          "Engenharia Física",
          "Engenharia Mecânica",
          "Engenharia Química",
          "Engenharia de Alimentos",
          "Engenharia de Controle e Automação",
          "Engenharia de Materiais",
          "Filosofia",
          "Física",
          "Letras",
          "Letras Português, Inglês e suas Literaturas",
          "Letras/Inglês",
          "Letras/Português",
          "Matemática",
          "Medicina",
          "Medicina Veterinária",
          "Nutrição",
          "Pedagogia",
          "Química",
          "Sistemas de Informação",
          "Zootecnia"
         ],
         "yaxis": "y"
        },
        {
         "alignmentgroup": "True",
         "hovertemplate": "curso_turno=Noturno<br>value=%{x}<br>curso=%{y}<extra></extra>",
         "legendgroup": "Noturno",
         "marker": {
          "color": "#00cc96",
          "pattern": {
           "shape": ""
          }
         },
         "name": "Noturno",
         "offsetgroup": "Noturno",
         "orientation": "h",
         "showlegend": true,
         "textposition": "auto",
         "type": "bar",
         "x": [
          null,
          null,
          117,
          null,
          null,
          10232,
          null,
          null,
          null,
          null,
          10813,
          3543,
          null,
          null,
          null,
          null,
          null,
          null,
          null,
          null,
          null,
          null,
          5090,
          4571,
          9310,
          4,
          null,
          null,
          5479,
          null,
          null,
          null,
          5992,
          null,
          9807,
          null
         ],
         "xaxis": "x",
         "y": [
          "ABI Educação Física",
          "ABI Engenharia",
          "ABI Letras",
          "Administração",
          "Administração Piloto EAD",
          "Administração Pública",
          "Agronomia",
          "Bacharelado Interdisciplinar em Inovação, Ciência e Tecnologia (BICT)",
          "Ciência da Computação",
          "Ciências Biológicas",
          "Direito",
          "Educação Física",
          "Engenharia Agrícola",
          "Engenharia Ambiental e Sanitária",
          "Engenharia Civil",
          "Engenharia Florestal",
          "Engenharia Física",
          "Engenharia Mecânica",
          "Engenharia Química",
          "Engenharia de Alimentos",
          "Engenharia de Controle e Automação",
          "Engenharia de Materiais",
          "Filosofia",
          "Física",
          "Letras",
          "Letras Português, Inglês e suas Literaturas",
          "Letras/Inglês",
          "Letras/Português",
          "Matemática",
          "Medicina",
          "Medicina Veterinária",
          "Nutrição",
          "Pedagogia",
          "Química",
          "Sistemas de Informação",
          "Zootecnia"
         ],
         "yaxis": "y"
        }
       ],
       "layout": {
        "barmode": "relative",
        "legend": {
         "title": {
          "text": "curso_turno"
         },
         "tracegroupgap": 0
        },
        "margin": {
         "t": 60
        },
        "template": {
         "data": {
          "bar": [
           {
            "error_x": {
             "color": "#2a3f5f"
            },
            "error_y": {
             "color": "#2a3f5f"
            },
            "marker": {
             "line": {
              "color": "#E5ECF6",
              "width": 0.5
             },
             "pattern": {
              "fillmode": "overlay",
              "size": 10,
              "solidity": 0.2
             }
            },
            "type": "bar"
           }
          ],
          "barpolar": [
           {
            "marker": {
             "line": {
              "color": "#E5ECF6",
              "width": 0.5
             },
             "pattern": {
              "fillmode": "overlay",
              "size": 10,
              "solidity": 0.2
             }
            },
            "type": "barpolar"
           }
          ],
          "carpet": [
           {
            "aaxis": {
             "endlinecolor": "#2a3f5f",
             "gridcolor": "white",
             "linecolor": "white",
             "minorgridcolor": "white",
             "startlinecolor": "#2a3f5f"
            },
            "baxis": {
             "endlinecolor": "#2a3f5f",
             "gridcolor": "white",
             "linecolor": "white",
             "minorgridcolor": "white",
             "startlinecolor": "#2a3f5f"
            },
            "type": "carpet"
           }
          ],
          "choropleth": [
           {
            "colorbar": {
             "outlinewidth": 0,
             "ticks": ""
            },
            "type": "choropleth"
           }
          ],
          "contour": [
           {
            "colorbar": {
             "outlinewidth": 0,
             "ticks": ""
            },
            "colorscale": [
             [
              0,
              "#0d0887"
             ],
             [
              0.1111111111111111,
              "#46039f"
             ],
             [
              0.2222222222222222,
              "#7201a8"
             ],
             [
              0.3333333333333333,
              "#9c179e"
             ],
             [
              0.4444444444444444,
              "#bd3786"
             ],
             [
              0.5555555555555556,
              "#d8576b"
             ],
             [
              0.6666666666666666,
              "#ed7953"
             ],
             [
              0.7777777777777778,
              "#fb9f3a"
             ],
             [
              0.8888888888888888,
              "#fdca26"
             ],
             [
              1,
              "#f0f921"
             ]
            ],
            "type": "contour"
           }
          ],
          "contourcarpet": [
           {
            "colorbar": {
             "outlinewidth": 0,
             "ticks": ""
            },
            "type": "contourcarpet"
           }
          ],
          "heatmap": [
           {
            "colorbar": {
             "outlinewidth": 0,
             "ticks": ""
            },
            "colorscale": [
             [
              0,
              "#0d0887"
             ],
             [
              0.1111111111111111,
              "#46039f"
             ],
             [
              0.2222222222222222,
              "#7201a8"
             ],
             [
              0.3333333333333333,
              "#9c179e"
             ],
             [
              0.4444444444444444,
              "#bd3786"
             ],
             [
              0.5555555555555556,
              "#d8576b"
             ],
             [
              0.6666666666666666,
              "#ed7953"
             ],
             [
              0.7777777777777778,
              "#fb9f3a"
             ],
             [
              0.8888888888888888,
              "#fdca26"
             ],
             [
              1,
              "#f0f921"
             ]
            ],
            "type": "heatmap"
           }
          ],
          "heatmapgl": [
           {
            "colorbar": {
             "outlinewidth": 0,
             "ticks": ""
            },
            "colorscale": [
             [
              0,
              "#0d0887"
             ],
             [
              0.1111111111111111,
              "#46039f"
             ],
             [
              0.2222222222222222,
              "#7201a8"
             ],
             [
              0.3333333333333333,
              "#9c179e"
             ],
             [
              0.4444444444444444,
              "#bd3786"
             ],
             [
              0.5555555555555556,
              "#d8576b"
             ],
             [
              0.6666666666666666,
              "#ed7953"
             ],
             [
              0.7777777777777778,
              "#fb9f3a"
             ],
             [
              0.8888888888888888,
              "#fdca26"
             ],
             [
              1,
              "#f0f921"
             ]
            ],
            "type": "heatmapgl"
           }
          ],
          "histogram": [
           {
            "marker": {
             "pattern": {
              "fillmode": "overlay",
              "size": 10,
              "solidity": 0.2
             }
            },
            "type": "histogram"
           }
          ],
          "histogram2d": [
           {
            "colorbar": {
             "outlinewidth": 0,
             "ticks": ""
            },
            "colorscale": [
             [
              0,
              "#0d0887"
             ],
             [
              0.1111111111111111,
              "#46039f"
             ],
             [
              0.2222222222222222,
              "#7201a8"
             ],
             [
              0.3333333333333333,
              "#9c179e"
             ],
             [
              0.4444444444444444,
              "#bd3786"
             ],
             [
              0.5555555555555556,
              "#d8576b"
             ],
             [
              0.6666666666666666,
              "#ed7953"
             ],
             [
              0.7777777777777778,
              "#fb9f3a"
             ],
             [
              0.8888888888888888,
              "#fdca26"
             ],
             [
              1,
              "#f0f921"
             ]
            ],
            "type": "histogram2d"
           }
          ],
          "histogram2dcontour": [
           {
            "colorbar": {
             "outlinewidth": 0,
             "ticks": ""
            },
            "colorscale": [
             [
              0,
              "#0d0887"
             ],
             [
              0.1111111111111111,
              "#46039f"
             ],
             [
              0.2222222222222222,
              "#7201a8"
             ],
             [
              0.3333333333333333,
              "#9c179e"
             ],
             [
              0.4444444444444444,
              "#bd3786"
             ],
             [
              0.5555555555555556,
              "#d8576b"
             ],
             [
              0.6666666666666666,
              "#ed7953"
             ],
             [
              0.7777777777777778,
              "#fb9f3a"
             ],
             [
              0.8888888888888888,
              "#fdca26"
             ],
             [
              1,
              "#f0f921"
             ]
            ],
            "type": "histogram2dcontour"
           }
          ],
          "mesh3d": [
           {
            "colorbar": {
             "outlinewidth": 0,
             "ticks": ""
            },
            "type": "mesh3d"
           }
          ],
          "parcoords": [
           {
            "line": {
             "colorbar": {
              "outlinewidth": 0,
              "ticks": ""
             }
            },
            "type": "parcoords"
           }
          ],
          "pie": [
           {
            "automargin": true,
            "type": "pie"
           }
          ],
          "scatter": [
           {
            "fillpattern": {
             "fillmode": "overlay",
             "size": 10,
             "solidity": 0.2
            },
            "type": "scatter"
           }
          ],
          "scatter3d": [
           {
            "line": {
             "colorbar": {
              "outlinewidth": 0,
              "ticks": ""
             }
            },
            "marker": {
             "colorbar": {
              "outlinewidth": 0,
              "ticks": ""
             }
            },
            "type": "scatter3d"
           }
          ],
          "scattercarpet": [
           {
            "marker": {
             "colorbar": {
              "outlinewidth": 0,
              "ticks": ""
             }
            },
            "type": "scattercarpet"
           }
          ],
          "scattergeo": [
           {
            "marker": {
             "colorbar": {
              "outlinewidth": 0,
              "ticks": ""
             }
            },
            "type": "scattergeo"
           }
          ],
          "scattergl": [
           {
            "marker": {
             "colorbar": {
              "outlinewidth": 0,
              "ticks": ""
             }
            },
            "type": "scattergl"
           }
          ],
          "scattermapbox": [
           {
            "marker": {
             "colorbar": {
              "outlinewidth": 0,
              "ticks": ""
             }
            },
            "type": "scattermapbox"
           }
          ],
          "scatterpolar": [
           {
            "marker": {
             "colorbar": {
              "outlinewidth": 0,
              "ticks": ""
             }
            },
            "type": "scatterpolar"
           }
          ],
          "scatterpolargl": [
           {
            "marker": {
             "colorbar": {
              "outlinewidth": 0,
              "ticks": ""
             }
            },
            "type": "scatterpolargl"
           }
          ],
          "scatterternary": [
           {
            "marker": {
             "colorbar": {
              "outlinewidth": 0,
              "ticks": ""
             }
            },
            "type": "scatterternary"
           }
          ],
          "surface": [
           {
            "colorbar": {
             "outlinewidth": 0,
             "ticks": ""
            },
            "colorscale": [
             [
              0,
              "#0d0887"
             ],
             [
              0.1111111111111111,
              "#46039f"
             ],
             [
              0.2222222222222222,
              "#7201a8"
             ],
             [
              0.3333333333333333,
              "#9c179e"
             ],
             [
              0.4444444444444444,
              "#bd3786"
             ],
             [
              0.5555555555555556,
              "#d8576b"
             ],
             [
              0.6666666666666666,
              "#ed7953"
             ],
             [
              0.7777777777777778,
              "#fb9f3a"
             ],
             [
              0.8888888888888888,
              "#fdca26"
             ],
             [
              1,
              "#f0f921"
             ]
            ],
            "type": "surface"
           }
          ],
          "table": [
           {
            "cells": {
             "fill": {
              "color": "#EBF0F8"
             },
             "line": {
              "color": "white"
             }
            },
            "header": {
             "fill": {
              "color": "#C8D4E3"
             },
             "line": {
              "color": "white"
             }
            },
            "type": "table"
           }
          ]
         },
         "layout": {
          "annotationdefaults": {
           "arrowcolor": "#2a3f5f",
           "arrowhead": 0,
           "arrowwidth": 1
          },
          "autotypenumbers": "strict",
          "coloraxis": {
           "colorbar": {
            "outlinewidth": 0,
            "ticks": ""
           }
          },
          "colorscale": {
           "diverging": [
            [
             0,
             "#8e0152"
            ],
            [
             0.1,
             "#c51b7d"
            ],
            [
             0.2,
             "#de77ae"
            ],
            [
             0.3,
             "#f1b6da"
            ],
            [
             0.4,
             "#fde0ef"
            ],
            [
             0.5,
             "#f7f7f7"
            ],
            [
             0.6,
             "#e6f5d0"
            ],
            [
             0.7,
             "#b8e186"
            ],
            [
             0.8,
             "#7fbc41"
            ],
            [
             0.9,
             "#4d9221"
            ],
            [
             1,
             "#276419"
            ]
           ],
           "sequential": [
            [
             0,
             "#0d0887"
            ],
            [
             0.1111111111111111,
             "#46039f"
            ],
            [
             0.2222222222222222,
             "#7201a8"
            ],
            [
             0.3333333333333333,
             "#9c179e"
            ],
            [
             0.4444444444444444,
             "#bd3786"
            ],
            [
             0.5555555555555556,
             "#d8576b"
            ],
            [
             0.6666666666666666,
             "#ed7953"
            ],
            [
             0.7777777777777778,
             "#fb9f3a"
            ],
            [
             0.8888888888888888,
             "#fdca26"
            ],
            [
             1,
             "#f0f921"
            ]
           ],
           "sequentialminus": [
            [
             0,
             "#0d0887"
            ],
            [
             0.1111111111111111,
             "#46039f"
            ],
            [
             0.2222222222222222,
             "#7201a8"
            ],
            [
             0.3333333333333333,
             "#9c179e"
            ],
            [
             0.4444444444444444,
             "#bd3786"
            ],
            [
             0.5555555555555556,
             "#d8576b"
            ],
            [
             0.6666666666666666,
             "#ed7953"
            ],
            [
             0.7777777777777778,
             "#fb9f3a"
            ],
            [
             0.8888888888888888,
             "#fdca26"
            ],
            [
             1,
             "#f0f921"
            ]
           ]
          },
          "colorway": [
           "#636efa",
           "#EF553B",
           "#00cc96",
           "#ab63fa",
           "#FFA15A",
           "#19d3f3",
           "#FF6692",
           "#B6E880",
           "#FF97FF",
           "#FECB52"
          ],
          "font": {
           "color": "#2a3f5f"
          },
          "geo": {
           "bgcolor": "white",
           "lakecolor": "white",
           "landcolor": "#E5ECF6",
           "showlakes": true,
           "showland": true,
           "subunitcolor": "white"
          },
          "hoverlabel": {
           "align": "left"
          },
          "hovermode": "closest",
          "mapbox": {
           "style": "light"
          },
          "paper_bgcolor": "white",
          "plot_bgcolor": "#E5ECF6",
          "polar": {
           "angularaxis": {
            "gridcolor": "white",
            "linecolor": "white",
            "ticks": ""
           },
           "bgcolor": "#E5ECF6",
           "radialaxis": {
            "gridcolor": "white",
            "linecolor": "white",
            "ticks": ""
           }
          },
          "scene": {
           "xaxis": {
            "backgroundcolor": "#E5ECF6",
            "gridcolor": "white",
            "gridwidth": 2,
            "linecolor": "white",
            "showbackground": true,
            "ticks": "",
            "zerolinecolor": "white"
           },
           "yaxis": {
            "backgroundcolor": "#E5ECF6",
            "gridcolor": "white",
            "gridwidth": 2,
            "linecolor": "white",
            "showbackground": true,
            "ticks": "",
            "zerolinecolor": "white"
           },
           "zaxis": {
            "backgroundcolor": "#E5ECF6",
            "gridcolor": "white",
            "gridwidth": 2,
            "linecolor": "white",
            "showbackground": true,
            "ticks": "",
            "zerolinecolor": "white"
           }
          },
          "shapedefaults": {
           "line": {
            "color": "#2a3f5f"
           }
          },
          "ternary": {
           "aaxis": {
            "gridcolor": "white",
            "linecolor": "white",
            "ticks": ""
           },
           "baxis": {
            "gridcolor": "white",
            "linecolor": "white",
            "ticks": ""
           },
           "bgcolor": "#E5ECF6",
           "caxis": {
            "gridcolor": "white",
            "linecolor": "white",
            "ticks": ""
           }
          },
          "title": {
           "x": 0.05
          },
          "xaxis": {
           "automargin": true,
           "gridcolor": "white",
           "linecolor": "white",
           "ticks": "",
           "title": {
            "standoff": 15
           },
           "zerolinecolor": "white",
           "zerolinewidth": 2
          },
          "yaxis": {
           "automargin": true,
           "gridcolor": "white",
           "linecolor": "white",
           "ticks": "",
           "title": {
            "standoff": 15
           },
           "zerolinecolor": "white",
           "zerolinewidth": 2
          }
         }
        },
        "xaxis": {
         "anchor": "y",
         "domain": [
          0,
          1
         ],
         "title": {
          "text": "value"
         }
        },
        "yaxis": {
         "anchor": "x",
         "domain": [
          0,
          1
         ],
         "title": {
          "text": "curso"
         }
        }
       }
      }
     },
     "metadata": {},
     "output_type": "display_data"
    }
   ],
   "source": [
    "# Para melhor manipulação trasnforma o objeto em SparkPandas\n",
    "view_4 = ps.DataFrame(data.groupBy('curso', 'curso_turno')\n",
    "                      .count()\n",
    "                      .orderBy('curso'))\n",
    "\n",
    "view_4_pivot = view_4.pivot(index='curso', \n",
    "                            columns='curso_turno', \n",
    "                            values='count')\n",
    "view_4_pivot.plot(kind='barh')"
   ]
  },
  {
   "cell_type": "code",
   "execution_count": 40,
   "metadata": {},
   "outputs": [
    {
     "data": {
      "application/vnd.plotly.v1+json": {
       "config": {
        "plotlyServerURL": "https://plot.ly"
       },
       "data": [
        {
         "alignmentgroup": "True",
         "hovertemplate": "curso_turno=Indefinido<br>semestre_letivo_referencia=%{x}<br>value=%{y}<extra></extra>",
         "legendgroup": "Indefinido",
         "marker": {
          "color": "#636efa",
          "pattern": {
           "shape": ""
          }
         },
         "name": "Indefinido",
         "offsetgroup": "Indefinido",
         "orientation": "v",
         "showlegend": true,
         "textposition": "auto",
         "type": "bar",
         "x": [
          "2010/1",
          "2010/2",
          "2011/1",
          "2011/2",
          "2012/1",
          "2012/2",
          "2013/1",
          "2013/2",
          "2014/1",
          "2014/2",
          "2015/1",
          "2015/2",
          "2016/1",
          "2016/2",
          "2017/1",
          "2017/2",
          "2018/1",
          "2018/2",
          "2019/1",
          "2019/2",
          "2020/1",
          "2020/2",
          "2021/1",
          "2021/2",
          "2022/1",
          "2022/2",
          "2023/1",
          "2023/2"
         ],
         "xaxis": "x",
         "y": [
          396,
          516,
          463,
          1218,
          1522,
          1312,
          1777,
          1692,
          1483,
          1760,
          1673,
          1569,
          1217,
          845,
          1379,
          1241,
          1028,
          786,
          633,
          524,
          509,
          468,
          386,
          132,
          45,
          17,
          15,
          289
         ],
         "yaxis": "y"
        },
        {
         "alignmentgroup": "True",
         "hovertemplate": "curso_turno=Integral<br>semestre_letivo_referencia=%{x}<br>value=%{y}<extra></extra>",
         "legendgroup": "Integral",
         "marker": {
          "color": "#EF553B",
          "pattern": {
           "shape": ""
          }
         },
         "name": "Integral",
         "offsetgroup": "Integral",
         "orientation": "v",
         "showlegend": true,
         "textposition": "auto",
         "type": "bar",
         "x": [
          "2010/1",
          "2010/2",
          "2011/1",
          "2011/2",
          "2012/1",
          "2012/2",
          "2013/1",
          "2013/2",
          "2014/1",
          "2014/2",
          "2015/1",
          "2015/2",
          "2016/1",
          "2016/2",
          "2017/1",
          "2017/2",
          "2018/1",
          "2018/2",
          "2019/1",
          "2019/2",
          "2020/1",
          "2020/2",
          "2021/1",
          "2021/2",
          "2022/1",
          "2022/2",
          "2023/1",
          "2023/2"
         ],
         "xaxis": "x",
         "y": [
          3265,
          3481,
          3844,
          4203,
          4598,
          4986,
          5276,
          5733,
          6033,
          6631,
          6982,
          7345,
          7537,
          7898,
          8023,
          8157,
          8314,
          8548,
          8691,
          8591,
          8563,
          8552,
          8528,
          8580,
          8748,
          8889,
          8875,
          7941
         ],
         "yaxis": "y"
        },
        {
         "alignmentgroup": "True",
         "hovertemplate": "curso_turno=Noturno<br>semestre_letivo_referencia=%{x}<br>value=%{y}<extra></extra>",
         "legendgroup": "Noturno",
         "marker": {
          "color": "#00cc96",
          "pattern": {
           "shape": ""
          }
         },
         "name": "Noturno",
         "offsetgroup": "Noturno",
         "orientation": "v",
         "showlegend": true,
         "textposition": "auto",
         "type": "bar",
         "x": [
          "2010/1",
          "2010/2",
          "2011/1",
          "2011/2",
          "2012/1",
          "2012/2",
          "2013/1",
          "2013/2",
          "2014/1",
          "2014/2",
          "2015/1",
          "2015/2",
          "2016/1",
          "2016/2",
          "2017/1",
          "2017/2",
          "2018/1",
          "2018/2",
          "2019/1",
          "2019/2",
          "2020/1",
          "2020/2",
          "2021/1",
          "2021/2",
          "2022/1",
          "2022/2",
          "2023/1",
          "2023/2"
         ],
         "xaxis": "x",
         "y": [
          881,
          1159,
          1478,
          1681,
          1771,
          1947,
          2061,
          2042,
          2148,
          2182,
          2273,
          2305,
          2410,
          2402,
          2489,
          2509,
          2624,
          2737,
          2852,
          2786,
          2795,
          2772,
          2793,
          2772,
          2814,
          2909,
          2940,
          2426
         ],
         "yaxis": "y"
        }
       ],
       "layout": {
        "barmode": "relative",
        "legend": {
         "title": {
          "text": "curso_turno"
         },
         "tracegroupgap": 0
        },
        "margin": {
         "t": 60
        },
        "template": {
         "data": {
          "bar": [
           {
            "error_x": {
             "color": "#2a3f5f"
            },
            "error_y": {
             "color": "#2a3f5f"
            },
            "marker": {
             "line": {
              "color": "#E5ECF6",
              "width": 0.5
             },
             "pattern": {
              "fillmode": "overlay",
              "size": 10,
              "solidity": 0.2
             }
            },
            "type": "bar"
           }
          ],
          "barpolar": [
           {
            "marker": {
             "line": {
              "color": "#E5ECF6",
              "width": 0.5
             },
             "pattern": {
              "fillmode": "overlay",
              "size": 10,
              "solidity": 0.2
             }
            },
            "type": "barpolar"
           }
          ],
          "carpet": [
           {
            "aaxis": {
             "endlinecolor": "#2a3f5f",
             "gridcolor": "white",
             "linecolor": "white",
             "minorgridcolor": "white",
             "startlinecolor": "#2a3f5f"
            },
            "baxis": {
             "endlinecolor": "#2a3f5f",
             "gridcolor": "white",
             "linecolor": "white",
             "minorgridcolor": "white",
             "startlinecolor": "#2a3f5f"
            },
            "type": "carpet"
           }
          ],
          "choropleth": [
           {
            "colorbar": {
             "outlinewidth": 0,
             "ticks": ""
            },
            "type": "choropleth"
           }
          ],
          "contour": [
           {
            "colorbar": {
             "outlinewidth": 0,
             "ticks": ""
            },
            "colorscale": [
             [
              0,
              "#0d0887"
             ],
             [
              0.1111111111111111,
              "#46039f"
             ],
             [
              0.2222222222222222,
              "#7201a8"
             ],
             [
              0.3333333333333333,
              "#9c179e"
             ],
             [
              0.4444444444444444,
              "#bd3786"
             ],
             [
              0.5555555555555556,
              "#d8576b"
             ],
             [
              0.6666666666666666,
              "#ed7953"
             ],
             [
              0.7777777777777778,
              "#fb9f3a"
             ],
             [
              0.8888888888888888,
              "#fdca26"
             ],
             [
              1,
              "#f0f921"
             ]
            ],
            "type": "contour"
           }
          ],
          "contourcarpet": [
           {
            "colorbar": {
             "outlinewidth": 0,
             "ticks": ""
            },
            "type": "contourcarpet"
           }
          ],
          "heatmap": [
           {
            "colorbar": {
             "outlinewidth": 0,
             "ticks": ""
            },
            "colorscale": [
             [
              0,
              "#0d0887"
             ],
             [
              0.1111111111111111,
              "#46039f"
             ],
             [
              0.2222222222222222,
              "#7201a8"
             ],
             [
              0.3333333333333333,
              "#9c179e"
             ],
             [
              0.4444444444444444,
              "#bd3786"
             ],
             [
              0.5555555555555556,
              "#d8576b"
             ],
             [
              0.6666666666666666,
              "#ed7953"
             ],
             [
              0.7777777777777778,
              "#fb9f3a"
             ],
             [
              0.8888888888888888,
              "#fdca26"
             ],
             [
              1,
              "#f0f921"
             ]
            ],
            "type": "heatmap"
           }
          ],
          "heatmapgl": [
           {
            "colorbar": {
             "outlinewidth": 0,
             "ticks": ""
            },
            "colorscale": [
             [
              0,
              "#0d0887"
             ],
             [
              0.1111111111111111,
              "#46039f"
             ],
             [
              0.2222222222222222,
              "#7201a8"
             ],
             [
              0.3333333333333333,
              "#9c179e"
             ],
             [
              0.4444444444444444,
              "#bd3786"
             ],
             [
              0.5555555555555556,
              "#d8576b"
             ],
             [
              0.6666666666666666,
              "#ed7953"
             ],
             [
              0.7777777777777778,
              "#fb9f3a"
             ],
             [
              0.8888888888888888,
              "#fdca26"
             ],
             [
              1,
              "#f0f921"
             ]
            ],
            "type": "heatmapgl"
           }
          ],
          "histogram": [
           {
            "marker": {
             "pattern": {
              "fillmode": "overlay",
              "size": 10,
              "solidity": 0.2
             }
            },
            "type": "histogram"
           }
          ],
          "histogram2d": [
           {
            "colorbar": {
             "outlinewidth": 0,
             "ticks": ""
            },
            "colorscale": [
             [
              0,
              "#0d0887"
             ],
             [
              0.1111111111111111,
              "#46039f"
             ],
             [
              0.2222222222222222,
              "#7201a8"
             ],
             [
              0.3333333333333333,
              "#9c179e"
             ],
             [
              0.4444444444444444,
              "#bd3786"
             ],
             [
              0.5555555555555556,
              "#d8576b"
             ],
             [
              0.6666666666666666,
              "#ed7953"
             ],
             [
              0.7777777777777778,
              "#fb9f3a"
             ],
             [
              0.8888888888888888,
              "#fdca26"
             ],
             [
              1,
              "#f0f921"
             ]
            ],
            "type": "histogram2d"
           }
          ],
          "histogram2dcontour": [
           {
            "colorbar": {
             "outlinewidth": 0,
             "ticks": ""
            },
            "colorscale": [
             [
              0,
              "#0d0887"
             ],
             [
              0.1111111111111111,
              "#46039f"
             ],
             [
              0.2222222222222222,
              "#7201a8"
             ],
             [
              0.3333333333333333,
              "#9c179e"
             ],
             [
              0.4444444444444444,
              "#bd3786"
             ],
             [
              0.5555555555555556,
              "#d8576b"
             ],
             [
              0.6666666666666666,
              "#ed7953"
             ],
             [
              0.7777777777777778,
              "#fb9f3a"
             ],
             [
              0.8888888888888888,
              "#fdca26"
             ],
             [
              1,
              "#f0f921"
             ]
            ],
            "type": "histogram2dcontour"
           }
          ],
          "mesh3d": [
           {
            "colorbar": {
             "outlinewidth": 0,
             "ticks": ""
            },
            "type": "mesh3d"
           }
          ],
          "parcoords": [
           {
            "line": {
             "colorbar": {
              "outlinewidth": 0,
              "ticks": ""
             }
            },
            "type": "parcoords"
           }
          ],
          "pie": [
           {
            "automargin": true,
            "type": "pie"
           }
          ],
          "scatter": [
           {
            "fillpattern": {
             "fillmode": "overlay",
             "size": 10,
             "solidity": 0.2
            },
            "type": "scatter"
           }
          ],
          "scatter3d": [
           {
            "line": {
             "colorbar": {
              "outlinewidth": 0,
              "ticks": ""
             }
            },
            "marker": {
             "colorbar": {
              "outlinewidth": 0,
              "ticks": ""
             }
            },
            "type": "scatter3d"
           }
          ],
          "scattercarpet": [
           {
            "marker": {
             "colorbar": {
              "outlinewidth": 0,
              "ticks": ""
             }
            },
            "type": "scattercarpet"
           }
          ],
          "scattergeo": [
           {
            "marker": {
             "colorbar": {
              "outlinewidth": 0,
              "ticks": ""
             }
            },
            "type": "scattergeo"
           }
          ],
          "scattergl": [
           {
            "marker": {
             "colorbar": {
              "outlinewidth": 0,
              "ticks": ""
             }
            },
            "type": "scattergl"
           }
          ],
          "scattermapbox": [
           {
            "marker": {
             "colorbar": {
              "outlinewidth": 0,
              "ticks": ""
             }
            },
            "type": "scattermapbox"
           }
          ],
          "scatterpolar": [
           {
            "marker": {
             "colorbar": {
              "outlinewidth": 0,
              "ticks": ""
             }
            },
            "type": "scatterpolar"
           }
          ],
          "scatterpolargl": [
           {
            "marker": {
             "colorbar": {
              "outlinewidth": 0,
              "ticks": ""
             }
            },
            "type": "scatterpolargl"
           }
          ],
          "scatterternary": [
           {
            "marker": {
             "colorbar": {
              "outlinewidth": 0,
              "ticks": ""
             }
            },
            "type": "scatterternary"
           }
          ],
          "surface": [
           {
            "colorbar": {
             "outlinewidth": 0,
             "ticks": ""
            },
            "colorscale": [
             [
              0,
              "#0d0887"
             ],
             [
              0.1111111111111111,
              "#46039f"
             ],
             [
              0.2222222222222222,
              "#7201a8"
             ],
             [
              0.3333333333333333,
              "#9c179e"
             ],
             [
              0.4444444444444444,
              "#bd3786"
             ],
             [
              0.5555555555555556,
              "#d8576b"
             ],
             [
              0.6666666666666666,
              "#ed7953"
             ],
             [
              0.7777777777777778,
              "#fb9f3a"
             ],
             [
              0.8888888888888888,
              "#fdca26"
             ],
             [
              1,
              "#f0f921"
             ]
            ],
            "type": "surface"
           }
          ],
          "table": [
           {
            "cells": {
             "fill": {
              "color": "#EBF0F8"
             },
             "line": {
              "color": "white"
             }
            },
            "header": {
             "fill": {
              "color": "#C8D4E3"
             },
             "line": {
              "color": "white"
             }
            },
            "type": "table"
           }
          ]
         },
         "layout": {
          "annotationdefaults": {
           "arrowcolor": "#2a3f5f",
           "arrowhead": 0,
           "arrowwidth": 1
          },
          "autotypenumbers": "strict",
          "coloraxis": {
           "colorbar": {
            "outlinewidth": 0,
            "ticks": ""
           }
          },
          "colorscale": {
           "diverging": [
            [
             0,
             "#8e0152"
            ],
            [
             0.1,
             "#c51b7d"
            ],
            [
             0.2,
             "#de77ae"
            ],
            [
             0.3,
             "#f1b6da"
            ],
            [
             0.4,
             "#fde0ef"
            ],
            [
             0.5,
             "#f7f7f7"
            ],
            [
             0.6,
             "#e6f5d0"
            ],
            [
             0.7,
             "#b8e186"
            ],
            [
             0.8,
             "#7fbc41"
            ],
            [
             0.9,
             "#4d9221"
            ],
            [
             1,
             "#276419"
            ]
           ],
           "sequential": [
            [
             0,
             "#0d0887"
            ],
            [
             0.1111111111111111,
             "#46039f"
            ],
            [
             0.2222222222222222,
             "#7201a8"
            ],
            [
             0.3333333333333333,
             "#9c179e"
            ],
            [
             0.4444444444444444,
             "#bd3786"
            ],
            [
             0.5555555555555556,
             "#d8576b"
            ],
            [
             0.6666666666666666,
             "#ed7953"
            ],
            [
             0.7777777777777778,
             "#fb9f3a"
            ],
            [
             0.8888888888888888,
             "#fdca26"
            ],
            [
             1,
             "#f0f921"
            ]
           ],
           "sequentialminus": [
            [
             0,
             "#0d0887"
            ],
            [
             0.1111111111111111,
             "#46039f"
            ],
            [
             0.2222222222222222,
             "#7201a8"
            ],
            [
             0.3333333333333333,
             "#9c179e"
            ],
            [
             0.4444444444444444,
             "#bd3786"
            ],
            [
             0.5555555555555556,
             "#d8576b"
            ],
            [
             0.6666666666666666,
             "#ed7953"
            ],
            [
             0.7777777777777778,
             "#fb9f3a"
            ],
            [
             0.8888888888888888,
             "#fdca26"
            ],
            [
             1,
             "#f0f921"
            ]
           ]
          },
          "colorway": [
           "#636efa",
           "#EF553B",
           "#00cc96",
           "#ab63fa",
           "#FFA15A",
           "#19d3f3",
           "#FF6692",
           "#B6E880",
           "#FF97FF",
           "#FECB52"
          ],
          "font": {
           "color": "#2a3f5f"
          },
          "geo": {
           "bgcolor": "white",
           "lakecolor": "white",
           "landcolor": "#E5ECF6",
           "showlakes": true,
           "showland": true,
           "subunitcolor": "white"
          },
          "hoverlabel": {
           "align": "left"
          },
          "hovermode": "closest",
          "mapbox": {
           "style": "light"
          },
          "paper_bgcolor": "white",
          "plot_bgcolor": "#E5ECF6",
          "polar": {
           "angularaxis": {
            "gridcolor": "white",
            "linecolor": "white",
            "ticks": ""
           },
           "bgcolor": "#E5ECF6",
           "radialaxis": {
            "gridcolor": "white",
            "linecolor": "white",
            "ticks": ""
           }
          },
          "scene": {
           "xaxis": {
            "backgroundcolor": "#E5ECF6",
            "gridcolor": "white",
            "gridwidth": 2,
            "linecolor": "white",
            "showbackground": true,
            "ticks": "",
            "zerolinecolor": "white"
           },
           "yaxis": {
            "backgroundcolor": "#E5ECF6",
            "gridcolor": "white",
            "gridwidth": 2,
            "linecolor": "white",
            "showbackground": true,
            "ticks": "",
            "zerolinecolor": "white"
           },
           "zaxis": {
            "backgroundcolor": "#E5ECF6",
            "gridcolor": "white",
            "gridwidth": 2,
            "linecolor": "white",
            "showbackground": true,
            "ticks": "",
            "zerolinecolor": "white"
           }
          },
          "shapedefaults": {
           "line": {
            "color": "#2a3f5f"
           }
          },
          "ternary": {
           "aaxis": {
            "gridcolor": "white",
            "linecolor": "white",
            "ticks": ""
           },
           "baxis": {
            "gridcolor": "white",
            "linecolor": "white",
            "ticks": ""
           },
           "bgcolor": "#E5ECF6",
           "caxis": {
            "gridcolor": "white",
            "linecolor": "white",
            "ticks": ""
           }
          },
          "title": {
           "x": 0.05
          },
          "xaxis": {
           "automargin": true,
           "gridcolor": "white",
           "linecolor": "white",
           "ticks": "",
           "title": {
            "standoff": 15
           },
           "zerolinecolor": "white",
           "zerolinewidth": 2
          },
          "yaxis": {
           "automargin": true,
           "gridcolor": "white",
           "linecolor": "white",
           "ticks": "",
           "title": {
            "standoff": 15
           },
           "zerolinecolor": "white",
           "zerolinewidth": 2
          }
         }
        },
        "xaxis": {
         "anchor": "y",
         "domain": [
          0,
          1
         ],
         "title": {
          "text": "semestre_letivo_referencia"
         }
        },
        "yaxis": {
         "anchor": "x",
         "domain": [
          0,
          1
         ],
         "title": {
          "text": "value"
         }
        }
       }
      }
     },
     "metadata": {},
     "output_type": "display_data"
    }
   ],
   "source": [
    "# Para melhor manipulação trasnforma o objeto em SparkPandas\n",
    "view_5 = ps.DataFrame(data.groupBy('semestre_letivo_referencia', 'curso_turno')\n",
    "                      .count()\n",
    "                      .orderBy('semestre_letivo_referencia'))\n",
    "\n",
    "view_5_pivot = view_5.pivot(index='semestre_letivo_referencia', \n",
    "                            columns='curso_turno', \n",
    "                            values='count')\n",
    "view_5_pivot.plot(kind='bar')"
   ]
  },
  {
   "cell_type": "markdown",
   "metadata": {},
   "source": [
    "### Tratamento dos dados:"
   ]
  },
  {
   "cell_type": "code",
   "execution_count": 41,
   "metadata": {},
   "outputs": [],
   "source": [
    "valores_unicos_lista = data.select(\"situacao_descricao\").distinct().collect()\n",
    "valores_unicos_lista = [row[\"situacao_descricao\"] for row in valores_unicos_lista]"
   ]
  },
  {
   "cell_type": "code",
   "execution_count": 42,
   "metadata": {},
   "outputs": [],
   "source": [
    "situacao_descricao_to_pop = ['Discente trancou o curso por um período',\n",
    "                            'Conclusão dos requisitos acadêmicos ou titulação',\n",
    "                            'Aluno vinculado a UFLA, sem cursar disciplinas.',\n",
    "                            'Discente transferido para outra instituição',\n",
    "                            'Saiu do curso em função de desligamento por insuficiência ou outros',\n",
    "                            'Discente solicitou explicitamente a saída do curso',\n",
    "                            'Discente não compareceu ao curso por um período e, com isso, perdeu a vaga',\n",
    "                            'Discente realizando Atividade Acadêmica Internacional, regulamentada pela Resolução CEPE 121/2014',\n",
    "                            'Falecimento do discente',\n",
    "                            'Programa de Mobilidade Estudantil',\n",
    "                            'Discente desligado por não renovação de matrícula',\n",
    "                            'Saiu do curso em função de desligamento por tempo (não concluiu o curso no tempo previsto)',\n",
    "                            'Encerrou o período de trancamento geral no curso',\n",
    "                            'Mudança do discente de um curso para uma habilitação ou de uma área básica para um curso/habilitação relacionados',\n",
    "                            'Conclusão dos requisitos acadêmicos ou titulação com apostilamento',\n",
    "                            ]"
   ]
  },
  {
   "cell_type": "code",
   "execution_count": 43,
   "metadata": {},
   "outputs": [],
   "source": [
    "#Tratamento #1: Remoção de alunos com perfil inadequado\n",
    "data = data.filter(~data[\"situacao_descricao\"].isin(situacao_descricao_to_pop))"
   ]
  },
  {
   "cell_type": "code",
   "execution_count": 44,
   "metadata": {},
   "outputs": [
    {
     "name": "stdout",
     "output_type": "stream",
     "text": [
      "+------------------+--------------------+--------------------------+---------------------+------------------+------------------------+--------------+-------------------+-------------------+-----------+-----------+----------------------+--------------------+----------------+-------------+--------------------+--------------+--------------+--------------+--------------------+\n",
      "|registro_academico|               curso|semestre_letivo_referencia|ano_letivo_referencia|situacao_estudante|semestre_letivo_ingresso|forma_ingresso|forma_ingresso_tipo|codigo_oferta_curso|codigo_inep|curso_turno|nome_matriz_curricular|    titulo_academico|curso_modalidade|situacao_nome|  situacao_descricao|situacao_censo|        campus|sistema_origem| data_atualizacao_dw|\n",
      "+------------------+--------------------+--------------------------+---------------------+------------------+------------------------+--------------+-------------------+-------------------+-----------+-----------+----------------------+--------------------+----------------+-------------+--------------------+--------------+--------------+--------------+--------------------+\n",
      "|         202325010|Bacharelado Inter...|                    2023/2|           2023-01-01|             Ativo|                  2023/2|   SiSU (Enem)|            Regular|             GCT039|    1598889|   Integral|                202302|         Bacharelado|      Presencial|  Matriculado|Discente matricul...|      Cursando|Campus Paraíso|      SIG-UFLA|2024-02-22 02:06:...|\n",
      "|         202325009|Bacharelado Inter...|                    2023/2|           2023-01-01|             Ativo|                  2023/2|   SiSU (Enem)|            Regular|             GCT039|    1598889|   Integral|                202302|         Bacharelado|      Presencial|  Matriculado|Discente matricul...|      Cursando|Campus Paraíso|      SIG-UFLA|2024-02-22 02:06:...|\n",
      "|         202325007|Bacharelado Inter...|                    2023/2|           2023-01-01|             Ativo|                  2023/2|   SiSU (Enem)|            Regular|             GCT039|    1598889|   Integral|                202302|         Bacharelado|      Presencial|  Matriculado|Discente matricul...|      Cursando|Campus Paraíso|      SIG-UFLA|2024-02-22 02:06:...|\n",
      "|         202325006|Bacharelado Inter...|                    2023/2|           2023-01-01|             Ativo|                  2023/2|   SiSU (Enem)|            Regular|             GCT039|    1598889|   Integral|                202302|         Bacharelado|      Presencial|  Matriculado|Discente matricul...|      Cursando|Campus Paraíso|      SIG-UFLA|2024-02-22 02:06:...|\n",
      "|         202325005|Bacharelado Inter...|                    2023/2|           2023-01-01|             Ativo|                  2023/2|   SiSU (Enem)|            Regular|             GCT039|    1598889|   Integral|                202302|         Bacharelado|      Presencial|  Matriculado|Discente matricul...|      Cursando|Campus Paraíso|      SIG-UFLA|2024-02-22 02:06:...|\n",
      "|         202325004|Bacharelado Inter...|                    2023/2|           2023-01-01|             Ativo|                  2023/2|   SiSU (Enem)|            Regular|             GCT039|    1598889|   Integral|                202302|         Bacharelado|      Presencial|  Matriculado|Discente matricul...|      Cursando|Campus Paraíso|      SIG-UFLA|2024-02-22 02:06:...|\n",
      "|         202325003|Bacharelado Inter...|                    2023/2|           2023-01-01|             Ativo|                  2023/2|   SiSU (Enem)|            Regular|             GCT039|    1598889|   Integral|                202302|         Bacharelado|      Presencial|  Matriculado|Discente matricul...|      Cursando|Campus Paraíso|      SIG-UFLA|2024-02-22 02:06:...|\n",
      "|         202325002|Bacharelado Inter...|                    2023/2|           2023-01-01|             Ativo|                  2023/2|   SiSU (Enem)|            Regular|             GCT039|    1598889|   Integral|                202302|         Bacharelado|      Presencial|  Matriculado|Discente matricul...|      Cursando|Campus Paraíso|      SIG-UFLA|2024-02-22 02:06:...|\n",
      "|         202325001|Bacharelado Inter...|                    2023/2|           2023-01-01|             Ativo|                  2023/2|   SiSU (Enem)|            Regular|             GCT039|    1598889|   Integral|                202302|         Bacharelado|      Presencial|  Matriculado|Discente matricul...|      Cursando|Campus Paraíso|      SIG-UFLA|2024-02-22 02:06:...|\n",
      "|         202321153|Administração Púb...|                    2023/2|           2023-01-01|             Ativo|                  2023/2|   SiSU (Enem)|            Regular|               G026|     150124|    Noturno|                202301|         Bacharelado|      Presencial|  Matriculado|Discente matricul...|      Cursando|   Campus Sede|      SIG-UFLA|2024-02-22 02:06:...|\n",
      "|         202321152|Administração Púb...|                    2023/2|           2023-01-01|             Ativo|                  2023/2|   SiSU (Enem)|            Regular|               G026|     150124|    Noturno|                202301|         Bacharelado|      Presencial|  Matriculado|Discente matricul...|      Cursando|   Campus Sede|      SIG-UFLA|2024-02-22 02:06:...|\n",
      "|         202321150| Ciências Biológicas|                    2023/2|           2023-01-01|             Ativo|                  2023/2|   SiSU (Enem)|            Regular|               G012|      63838|   Integral|                202301|         Bacharelado|      Presencial|  Matriculado|Discente matricul...|      Cursando|   Campus Sede|      SIG-UFLA|2024-02-22 02:06:...|\n",
      "|         202321149|       Administração|                    2023/2|           2023-01-01|             Ativo|                  2023/2|   SiSU (Enem)|            Regular|               G009|      53522|   Integral|                202301|         Bacharelado|      Presencial|  Matriculado|Discente matricul...|      Cursando|   Campus Sede|      SIG-UFLA|2024-02-22 02:06:...|\n",
      "|         202321148|           Zootecnia|                    2023/2|           2023-01-01|             Ativo|                  2023/2|   SiSU (Enem)|            Regular|               G002|      14577|   Integral|                202301|         Bacharelado|      Presencial|  Matriculado|Discente matricul...|      Cursando|   Campus Sede|      SIG-UFLA|2024-02-22 02:06:...|\n",
      "|         202321147|Bacharelado Inter...|                    2023/2|           2023-01-01|             Ativo|                  2023/2|   SiSU (Enem)|            Regular|               G046|    1616694|   Integral|                202301|         Bacharelado|      Presencial|  Matriculado|Discente matricul...|      Cursando|   Campus Sede|      SIG-UFLA|2024-02-22 02:06:...|\n",
      "|         202321146|Bacharelado Inter...|                    2023/2|           2023-01-01|             Ativo|                  2023/2|   SiSU (Enem)|            Regular|               G046|    1616694|   Integral|                202301|         Bacharelado|      Presencial|  Matriculado|Discente matricul...|      Cursando|   Campus Sede|      SIG-UFLA|2024-02-22 02:06:...|\n",
      "|         202321145| Ciências Biológicas|                    2023/2|           2023-01-01|             Ativo|                  2023/2|   SiSU (Enem)|            Regular|               G020|     122662|   Integral|                202401|  Licenciatura Plena|      Presencial|  Matriculado|Discente matricul...|      Cursando|   Campus Sede|      SIG-UFLA|2024-02-22 02:06:...|\n",
      "|         202321144|Engenharia Florestal|                    2023/2|           2023-01-01|             Ativo|                  2023/2|   SiSU (Enem)|            Regular|               G005|      14580|   Integral|                202301|         Bacharelado|      Presencial|  Matriculado|Discente matricul...|      Cursando|   Campus Sede|      SIG-UFLA|2024-02-22 02:06:...|\n",
      "|         202321143| ABI Educação Física|                    2023/2|           2023-01-01|             Ativo|                  2023/2|   SiSU (Enem)|            Regular|               G043|   50017032|   Integral|                202102|Área Básica de In...|      Presencial|  Matriculado|Discente matricul...|      Cursando|   Campus Sede|      SIG-UFLA|2024-02-22 02:06:...|\n",
      "|         202321142| ABI Educação Física|                    2023/2|           2023-01-01|             Ativo|                  2023/2|   SiSU (Enem)|            Regular|               G043|   50017032|   Integral|                202102|Área Básica de In...|      Presencial|  Matriculado|Discente matricul...|      Cursando|   Campus Sede|      SIG-UFLA|2024-02-22 02:06:...|\n",
      "+------------------+--------------------+--------------------------+---------------------+------------------+------------------------+--------------+-------------------+-------------------+-----------+-----------+----------------------+--------------------+----------------+-------------+--------------------+--------------+--------------+--------------+--------------------+\n",
      "only showing top 20 rows\n",
      "\n"
     ]
    }
   ],
   "source": [
    "data.show()"
   ]
  },
  {
   "cell_type": "code",
   "execution_count": 45,
   "metadata": {},
   "outputs": [
    {
     "name": "stdout",
     "output_type": "stream",
     "text": [
      "+------------------+--------------------+--------------------------+---------------------+------------------+------------------------+--------------+-------------------+-------------------+-----------+-----------+----------------------+--------------------+----------------+-------------+--------------------+--------------+--------------+--------------+--------------------+\n",
      "|registro_academico|               curso|semestre_letivo_referencia|ano_letivo_referencia|situacao_estudante|semestre_letivo_ingresso|forma_ingresso|forma_ingresso_tipo|codigo_oferta_curso|codigo_inep|curso_turno|nome_matriz_curricular|    titulo_academico|curso_modalidade|situacao_nome|  situacao_descricao|situacao_censo|        campus|sistema_origem| data_atualizacao_dw|\n",
      "+------------------+--------------------+--------------------------+---------------------+------------------+------------------------+--------------+-------------------+-------------------+-----------+-----------+----------------------+--------------------+----------------+-------------+--------------------+--------------+--------------+--------------+--------------------+\n",
      "|         202325010|Bacharelado Inter...|                    2023/2|           2023-01-01|             Ativo|                  2023/2|   SiSU (Enem)|            Regular|             GCT039|    1598889|   Integral|                202302|         Bacharelado|      Presencial|  Matriculado|Discente matricul...|      Cursando|Campus Paraíso|      SIG-UFLA|2024-02-22 02:06:...|\n",
      "|         202325009|Bacharelado Inter...|                    2023/2|           2023-01-01|             Ativo|                  2023/2|   SiSU (Enem)|            Regular|             GCT039|    1598889|   Integral|                202302|         Bacharelado|      Presencial|  Matriculado|Discente matricul...|      Cursando|Campus Paraíso|      SIG-UFLA|2024-02-22 02:06:...|\n",
      "|         202325007|Bacharelado Inter...|                    2023/2|           2023-01-01|             Ativo|                  2023/2|   SiSU (Enem)|            Regular|             GCT039|    1598889|   Integral|                202302|         Bacharelado|      Presencial|  Matriculado|Discente matricul...|      Cursando|Campus Paraíso|      SIG-UFLA|2024-02-22 02:06:...|\n",
      "|         202325006|Bacharelado Inter...|                    2023/2|           2023-01-01|             Ativo|                  2023/2|   SiSU (Enem)|            Regular|             GCT039|    1598889|   Integral|                202302|         Bacharelado|      Presencial|  Matriculado|Discente matricul...|      Cursando|Campus Paraíso|      SIG-UFLA|2024-02-22 02:06:...|\n",
      "|         202325005|Bacharelado Inter...|                    2023/2|           2023-01-01|             Ativo|                  2023/2|   SiSU (Enem)|            Regular|             GCT039|    1598889|   Integral|                202302|         Bacharelado|      Presencial|  Matriculado|Discente matricul...|      Cursando|Campus Paraíso|      SIG-UFLA|2024-02-22 02:06:...|\n",
      "|         202325004|Bacharelado Inter...|                    2023/2|           2023-01-01|             Ativo|                  2023/2|   SiSU (Enem)|            Regular|             GCT039|    1598889|   Integral|                202302|         Bacharelado|      Presencial|  Matriculado|Discente matricul...|      Cursando|Campus Paraíso|      SIG-UFLA|2024-02-22 02:06:...|\n",
      "|         202325003|Bacharelado Inter...|                    2023/2|           2023-01-01|             Ativo|                  2023/2|   SiSU (Enem)|            Regular|             GCT039|    1598889|   Integral|                202302|         Bacharelado|      Presencial|  Matriculado|Discente matricul...|      Cursando|Campus Paraíso|      SIG-UFLA|2024-02-22 02:06:...|\n",
      "|         202325002|Bacharelado Inter...|                    2023/2|           2023-01-01|             Ativo|                  2023/2|   SiSU (Enem)|            Regular|             GCT039|    1598889|   Integral|                202302|         Bacharelado|      Presencial|  Matriculado|Discente matricul...|      Cursando|Campus Paraíso|      SIG-UFLA|2024-02-22 02:06:...|\n",
      "|         202325001|Bacharelado Inter...|                    2023/2|           2023-01-01|             Ativo|                  2023/2|   SiSU (Enem)|            Regular|             GCT039|    1598889|   Integral|                202302|         Bacharelado|      Presencial|  Matriculado|Discente matricul...|      Cursando|Campus Paraíso|      SIG-UFLA|2024-02-22 02:06:...|\n",
      "|         202321153|Administração Púb...|                    2023/2|           2023-01-01|             Ativo|                  2023/2|   SiSU (Enem)|            Regular|               G026|     150124|    Noturno|                202301|         Bacharelado|      Presencial|  Matriculado|Discente matricul...|      Cursando|   Campus Sede|      SIG-UFLA|2024-02-22 02:06:...|\n",
      "|         202321152|Administração Púb...|                    2023/2|           2023-01-01|             Ativo|                  2023/2|   SiSU (Enem)|            Regular|               G026|     150124|    Noturno|                202301|         Bacharelado|      Presencial|  Matriculado|Discente matricul...|      Cursando|   Campus Sede|      SIG-UFLA|2024-02-22 02:06:...|\n",
      "|         202321150| Ciências Biológicas|                    2023/2|           2023-01-01|             Ativo|                  2023/2|   SiSU (Enem)|            Regular|               G012|      63838|   Integral|                202301|         Bacharelado|      Presencial|  Matriculado|Discente matricul...|      Cursando|   Campus Sede|      SIG-UFLA|2024-02-22 02:06:...|\n",
      "|         202321149|       Administração|                    2023/2|           2023-01-01|             Ativo|                  2023/2|   SiSU (Enem)|            Regular|               G009|      53522|   Integral|                202301|         Bacharelado|      Presencial|  Matriculado|Discente matricul...|      Cursando|   Campus Sede|      SIG-UFLA|2024-02-22 02:06:...|\n",
      "|         202321148|           Zootecnia|                    2023/2|           2023-01-01|             Ativo|                  2023/2|   SiSU (Enem)|            Regular|               G002|      14577|   Integral|                202301|         Bacharelado|      Presencial|  Matriculado|Discente matricul...|      Cursando|   Campus Sede|      SIG-UFLA|2024-02-22 02:06:...|\n",
      "|         202321147|Bacharelado Inter...|                    2023/2|           2023-01-01|             Ativo|                  2023/2|   SiSU (Enem)|            Regular|               G046|    1616694|   Integral|                202301|         Bacharelado|      Presencial|  Matriculado|Discente matricul...|      Cursando|   Campus Sede|      SIG-UFLA|2024-02-22 02:06:...|\n",
      "|         202321146|Bacharelado Inter...|                    2023/2|           2023-01-01|             Ativo|                  2023/2|   SiSU (Enem)|            Regular|               G046|    1616694|   Integral|                202301|         Bacharelado|      Presencial|  Matriculado|Discente matricul...|      Cursando|   Campus Sede|      SIG-UFLA|2024-02-22 02:06:...|\n",
      "|         202321145| Ciências Biológicas|                    2023/2|           2023-01-01|             Ativo|                  2023/2|   SiSU (Enem)|            Regular|               G020|     122662|   Integral|                202401|  Licenciatura Plena|      Presencial|  Matriculado|Discente matricul...|      Cursando|   Campus Sede|      SIG-UFLA|2024-02-22 02:06:...|\n",
      "|         202321144|Engenharia Florestal|                    2023/2|           2023-01-01|             Ativo|                  2023/2|   SiSU (Enem)|            Regular|               G005|      14580|   Integral|                202301|         Bacharelado|      Presencial|  Matriculado|Discente matricul...|      Cursando|   Campus Sede|      SIG-UFLA|2024-02-22 02:06:...|\n",
      "|         202321143| ABI Educação Física|                    2023/2|           2023-01-01|             Ativo|                  2023/2|   SiSU (Enem)|            Regular|               G043|   50017032|   Integral|                202102|Área Básica de In...|      Presencial|  Matriculado|Discente matricul...|      Cursando|   Campus Sede|      SIG-UFLA|2024-02-22 02:06:...|\n",
      "|         202321142| ABI Educação Física|                    2023/2|           2023-01-01|             Ativo|                  2023/2|   SiSU (Enem)|            Regular|               G043|   50017032|   Integral|                202102|Área Básica de In...|      Presencial|  Matriculado|Discente matricul...|      Cursando|   Campus Sede|      SIG-UFLA|2024-02-22 02:06:...|\n",
      "+------------------+--------------------+--------------------------+---------------------+------------------+------------------------+--------------+-------------------+-------------------+-----------+-----------+----------------------+--------------------+----------------+-------------+--------------------+--------------+--------------+--------------+--------------------+\n",
      "only showing top 20 rows\n",
      "\n"
     ]
    }
   ],
   "source": [
    "situacao_estudante_to_pop = ['Inativo']\n",
    "data = data.filter(~data[\"situacao_estudante\"].isin(situacao_estudante_to_pop))\n",
    "data.show()"
   ]
  },
  {
   "cell_type": "code",
   "execution_count": 46,
   "metadata": {},
   "outputs": [
    {
     "name": "stdout",
     "output_type": "stream",
     "text": [
      "root\n",
      " |-- registro_academico: integer (nullable = true)\n",
      " |-- curso: string (nullable = true)\n",
      " |-- semestre_letivo_referencia: string (nullable = true)\n",
      " |-- ano_letivo_referencia: date (nullable = true)\n",
      " |-- situacao_estudante: string (nullable = true)\n",
      " |-- semestre_letivo_ingresso: string (nullable = true)\n",
      " |-- forma_ingresso: string (nullable = true)\n",
      " |-- forma_ingresso_tipo: string (nullable = true)\n",
      " |-- codigo_oferta_curso: string (nullable = true)\n",
      " |-- codigo_inep: integer (nullable = true)\n",
      " |-- curso_turno: string (nullable = true)\n",
      " |-- nome_matriz_curricular: integer (nullable = true)\n",
      " |-- titulo_academico: string (nullable = true)\n",
      " |-- curso_modalidade: string (nullable = true)\n",
      " |-- situacao_nome: string (nullable = true)\n",
      " |-- situacao_descricao: string (nullable = true)\n",
      " |-- situacao_censo: string (nullable = true)\n",
      " |-- campus: string (nullable = true)\n",
      " |-- sistema_origem: string (nullable = true)\n",
      " |-- data_atualizacao_dw: timestamp (nullable = true)\n",
      "\n"
     ]
    }
   ],
   "source": [
    "# Schema dos dados\n",
    "data.printSchema()"
   ]
  },
  {
   "cell_type": "code",
   "execution_count": 47,
   "metadata": {},
   "outputs": [
    {
     "name": "stdout",
     "output_type": "stream",
     "text": [
      "+------------------+--------------------+--------------------------+---------------------+------------------------+--------------+-------------------+-----------+----------------+--------------+--------------+\n",
      "|registro_academico|               curso|semestre_letivo_referencia|ano_letivo_referencia|semestre_letivo_ingresso|forma_ingresso|forma_ingresso_tipo|curso_turno|curso_modalidade|situacao_censo|        campus|\n",
      "+------------------+--------------------+--------------------------+---------------------+------------------------+--------------+-------------------+-----------+----------------+--------------+--------------+\n",
      "|         202325010|Bacharelado Inter...|                    2023/2|           2023-01-01|                  2023/2|   SiSU (Enem)|            Regular|   Integral|      Presencial|      Cursando|Campus Paraíso|\n",
      "|         202325009|Bacharelado Inter...|                    2023/2|           2023-01-01|                  2023/2|   SiSU (Enem)|            Regular|   Integral|      Presencial|      Cursando|Campus Paraíso|\n",
      "|         202325007|Bacharelado Inter...|                    2023/2|           2023-01-01|                  2023/2|   SiSU (Enem)|            Regular|   Integral|      Presencial|      Cursando|Campus Paraíso|\n",
      "|         202325006|Bacharelado Inter...|                    2023/2|           2023-01-01|                  2023/2|   SiSU (Enem)|            Regular|   Integral|      Presencial|      Cursando|Campus Paraíso|\n",
      "|         202325005|Bacharelado Inter...|                    2023/2|           2023-01-01|                  2023/2|   SiSU (Enem)|            Regular|   Integral|      Presencial|      Cursando|Campus Paraíso|\n",
      "|         202325004|Bacharelado Inter...|                    2023/2|           2023-01-01|                  2023/2|   SiSU (Enem)|            Regular|   Integral|      Presencial|      Cursando|Campus Paraíso|\n",
      "|         202325003|Bacharelado Inter...|                    2023/2|           2023-01-01|                  2023/2|   SiSU (Enem)|            Regular|   Integral|      Presencial|      Cursando|Campus Paraíso|\n",
      "|         202325002|Bacharelado Inter...|                    2023/2|           2023-01-01|                  2023/2|   SiSU (Enem)|            Regular|   Integral|      Presencial|      Cursando|Campus Paraíso|\n",
      "|         202325001|Bacharelado Inter...|                    2023/2|           2023-01-01|                  2023/2|   SiSU (Enem)|            Regular|   Integral|      Presencial|      Cursando|Campus Paraíso|\n",
      "|         202321153|Administração Púb...|                    2023/2|           2023-01-01|                  2023/2|   SiSU (Enem)|            Regular|    Noturno|      Presencial|      Cursando|   Campus Sede|\n",
      "|         202321152|Administração Púb...|                    2023/2|           2023-01-01|                  2023/2|   SiSU (Enem)|            Regular|    Noturno|      Presencial|      Cursando|   Campus Sede|\n",
      "|         202321150| Ciências Biológicas|                    2023/2|           2023-01-01|                  2023/2|   SiSU (Enem)|            Regular|   Integral|      Presencial|      Cursando|   Campus Sede|\n",
      "|         202321149|       Administração|                    2023/2|           2023-01-01|                  2023/2|   SiSU (Enem)|            Regular|   Integral|      Presencial|      Cursando|   Campus Sede|\n",
      "|         202321148|           Zootecnia|                    2023/2|           2023-01-01|                  2023/2|   SiSU (Enem)|            Regular|   Integral|      Presencial|      Cursando|   Campus Sede|\n",
      "|         202321147|Bacharelado Inter...|                    2023/2|           2023-01-01|                  2023/2|   SiSU (Enem)|            Regular|   Integral|      Presencial|      Cursando|   Campus Sede|\n",
      "|         202321146|Bacharelado Inter...|                    2023/2|           2023-01-01|                  2023/2|   SiSU (Enem)|            Regular|   Integral|      Presencial|      Cursando|   Campus Sede|\n",
      "|         202321145| Ciências Biológicas|                    2023/2|           2023-01-01|                  2023/2|   SiSU (Enem)|            Regular|   Integral|      Presencial|      Cursando|   Campus Sede|\n",
      "|         202321144|Engenharia Florestal|                    2023/2|           2023-01-01|                  2023/2|   SiSU (Enem)|            Regular|   Integral|      Presencial|      Cursando|   Campus Sede|\n",
      "|         202321143| ABI Educação Física|                    2023/2|           2023-01-01|                  2023/2|   SiSU (Enem)|            Regular|   Integral|      Presencial|      Cursando|   Campus Sede|\n",
      "|         202321142| ABI Educação Física|                    2023/2|           2023-01-01|                  2023/2|   SiSU (Enem)|            Regular|   Integral|      Presencial|      Cursando|   Campus Sede|\n",
      "+------------------+--------------------+--------------------------+---------------------+------------------------+--------------+-------------------+-----------+----------------+--------------+--------------+\n",
      "only showing top 20 rows\n",
      "\n"
     ]
    }
   ],
   "source": [
    "#Remoção de variáveis fora do contexto\n",
    "columns_to_drop = ['situacao_estudante', \n",
    "                   'codigo_oferta_curso', \n",
    "                   'codigo_inep',\n",
    "                   'nome_matriz_curricular', \n",
    "                   'titulo_academico', \n",
    "                   'situacao_nome', \n",
    "                   'situacao_descricao', \n",
    "                   'data_atualizacao_dw',\n",
    "                   'sistema_origem']\n",
    "\n",
    "data_cleaned = data.drop(*columns_to_drop)\n",
    "data_cleaned.show()"
   ]
  },
  {
   "cell_type": "markdown",
   "metadata": {},
   "source": [
    "### ADIÇÃO DE DADOS SINTÉTICOS:"
   ]
  },
  {
   "cell_type": "code",
   "execution_count": 48,
   "metadata": {},
   "outputs": [],
   "source": [
    "random.seed(0)"
   ]
  },
  {
   "cell_type": "code",
   "execution_count": 49,
   "metadata": {},
   "outputs": [],
   "source": [
    "# Carregando os valores sintéticos\n",
    "from course_mappings import course_skills, course_interests"
   ]
  },
  {
   "cell_type": "code",
   "execution_count": 50,
   "metadata": {},
   "outputs": [],
   "source": [
    "def get_random_skills(course):\n",
    "    skills = course_skills.get(course, [])\n",
    "    return random.sample(skills, min(len(skills), 3))\n",
    "\n",
    "def get_random_interests(course):\n",
    "    interests = course_interests.get(course, [])\n",
    "    return random.sample(interests, min(len(interests), 3))\n",
    "\n",
    "get_random_skills_udf = udf(get_random_skills, ArrayType(StringType()))\n",
    "get_random_interests_udf = udf(get_random_interests, ArrayType(StringType()))"
   ]
  },
  {
   "cell_type": "code",
   "execution_count": 51,
   "metadata": {},
   "outputs": [],
   "source": [
    "# Aplicar as UDFs para adicionar os campos 'habilidades' e 'interesse'\n",
    "data_cleaned = data_cleaned.withColumn('habilidades', get_random_skills_udf(data_cleaned['curso']))\n",
    "data_cleaned = data_cleaned.withColumn('interesses', get_random_interests_udf(data_cleaned['curso']))\n",
    "\n",
    "# Adição da flag de de estágio com 1 ou 0\n",
    "data_cleaned = data_cleaned.withColumn('estagiando', when(rand() < 0.3, 1).otherwise(0))"
   ]
  },
  {
   "cell_type": "code",
   "execution_count": 52,
   "metadata": {},
   "outputs": [
    {
     "name": "stdout",
     "output_type": "stream",
     "text": [
      "+------------------+--------------------+--------------------------+---------------------+------------------------+--------------+-------------------+-----------+----------------+--------------+--------------+--------------------+--------------------+----------+\n",
      "|registro_academico|               curso|semestre_letivo_referencia|ano_letivo_referencia|semestre_letivo_ingresso|forma_ingresso|forma_ingresso_tipo|curso_turno|curso_modalidade|situacao_censo|        campus|         habilidades|          interesses|estagiando|\n",
      "+------------------+--------------------+--------------------------+---------------------+------------------------+--------------+-------------------+-----------+----------------+--------------+--------------+--------------------+--------------------+----------+\n",
      "|         202325010|Bacharelado Inter...|                    2023/2|           2023-01-01|                  2023/2|   SiSU (Enem)|            Regular|   Integral|      Presencial|      Cursando|Campus Paraíso|[Pensamento Inova...|[Empreendedorismo...|         0|\n",
      "|         202325009|Bacharelado Inter...|                    2023/2|           2023-01-01|                  2023/2|   SiSU (Enem)|            Regular|   Integral|      Presencial|      Cursando|Campus Paraíso|[Empreendedorismo...|[Inovação Tecnoló...|         1|\n",
      "|         202325007|Bacharelado Inter...|                    2023/2|           2023-01-01|                  2023/2|   SiSU (Enem)|            Regular|   Integral|      Presencial|      Cursando|Campus Paraíso|[Pensamento Inova...|[Empreendedorismo...|         0|\n",
      "|         202325006|Bacharelado Inter...|                    2023/2|           2023-01-01|                  2023/2|   SiSU (Enem)|            Regular|   Integral|      Presencial|      Cursando|Campus Paraíso|[Empreendedorismo...|[Gestão da Inovaç...|         0|\n",
      "|         202325005|Bacharelado Inter...|                    2023/2|           2023-01-01|                  2023/2|   SiSU (Enem)|            Regular|   Integral|      Presencial|      Cursando|Campus Paraíso|[Gestão de Projet...|[Inovação Tecnoló...|         1|\n",
      "|         202325004|Bacharelado Inter...|                    2023/2|           2023-01-01|                  2023/2|   SiSU (Enem)|            Regular|   Integral|      Presencial|      Cursando|Campus Paraíso|[Gestão de Projet...|[Inovação Tecnoló...|         1|\n",
      "|         202325003|Bacharelado Inter...|                    2023/2|           2023-01-01|                  2023/2|   SiSU (Enem)|            Regular|   Integral|      Presencial|      Cursando|Campus Paraíso|[Pensamento Inova...|[Gestão da Inovaç...|         1|\n",
      "|         202325002|Bacharelado Inter...|                    2023/2|           2023-01-01|                  2023/2|   SiSU (Enem)|            Regular|   Integral|      Presencial|      Cursando|Campus Paraíso|[Pensamento Inova...|[Empreendedorismo...|         1|\n",
      "|         202325001|Bacharelado Inter...|                    2023/2|           2023-01-01|                  2023/2|   SiSU (Enem)|            Regular|   Integral|      Presencial|      Cursando|Campus Paraíso|[Empreendedorismo...|[Inovação Tecnoló...|         0|\n",
      "|         202321153|Administração Púb...|                    2023/2|           2023-01-01|                  2023/2|   SiSU (Enem)|            Regular|    Noturno|      Presencial|      Cursando|   Campus Sede|[Políticas Públic...|[Gestão Pública, ...|         0|\n",
      "|         202321152|Administração Púb...|                    2023/2|           2023-01-01|                  2023/2|   SiSU (Enem)|            Regular|    Noturno|      Presencial|      Cursando|   Campus Sede|[Políticas Públic...|[Orçamento e Fina...|         0|\n",
      "|         202321150| Ciências Biológicas|                    2023/2|           2023-01-01|                  2023/2|   SiSU (Enem)|            Regular|   Integral|      Presencial|      Cursando|   Campus Sede|[Biologia Molecul...|[Biologia Molecul...|         0|\n",
      "|         202321149|       Administração|                    2023/2|           2023-01-01|                  2023/2|   SiSU (Enem)|            Regular|   Integral|      Presencial|      Cursando|   Campus Sede|[Marketing, Gestã...|[Finanças Corpora...|         0|\n",
      "|         202321148|           Zootecnia|                    2023/2|           2023-01-01|                  2023/2|   SiSU (Enem)|            Regular|   Integral|      Presencial|      Cursando|   Campus Sede|[Genética Animal,...|[Nutrição Animal,...|         1|\n",
      "|         202321147|Bacharelado Inter...|                    2023/2|           2023-01-01|                  2023/2|   SiSU (Enem)|            Regular|   Integral|      Presencial|      Cursando|   Campus Sede|[Gestão de Projet...|[Empreendedorismo...|         0|\n",
      "|         202321146|Bacharelado Inter...|                    2023/2|           2023-01-01|                  2023/2|   SiSU (Enem)|            Regular|   Integral|      Presencial|      Cursando|   Campus Sede|[Empreendedorismo...|[Empreendedorismo...|         1|\n",
      "|         202321145| Ciências Biológicas|                    2023/2|           2023-01-01|                  2023/2|   SiSU (Enem)|            Regular|   Integral|      Presencial|      Cursando|   Campus Sede|[Biologia Molecul...|[Biologia Molecul...|         0|\n",
      "|         202321144|Engenharia Florestal|                    2023/2|           2023-01-01|                  2023/2|   SiSU (Enem)|            Regular|   Integral|      Presencial|      Cursando|   Campus Sede|[Conservação da N...|[Conservação de E...|         0|\n",
      "|         202321143| ABI Educação Física|                    2023/2|           2023-01-01|                  2023/2|   SiSU (Enem)|            Regular|   Integral|      Presencial|      Cursando|   Campus Sede|[Anatomia do Movi...|[Treinamento Físi...|         0|\n",
      "|         202321142| ABI Educação Física|                    2023/2|           2023-01-01|                  2023/2|   SiSU (Enem)|            Regular|   Integral|      Presencial|      Cursando|   Campus Sede|[Nutrição Esporti...|[Esportes Coletiv...|         0|\n",
      "+------------------+--------------------+--------------------------+---------------------+------------------------+--------------+-------------------+-----------+----------------+--------------+--------------+--------------------+--------------------+----------+\n",
      "only showing top 20 rows\n",
      "\n"
     ]
    }
   ],
   "source": [
    "data_cleaned.show()"
   ]
  },
  {
   "cell_type": "code",
   "execution_count": 53,
   "metadata": {},
   "outputs": [
    {
     "name": "stdout",
     "output_type": "stream",
     "text": [
      "+------------------+--------------------------------------+--------------------------+---------------------+------------------------+--------------+-------------------+-----------+----------------+--------------+--------------+--------------------------------------+--------------------------------------+----------+\n",
      "|registro_academico|                                 curso|semestre_letivo_referencia|ano_letivo_referencia|semestre_letivo_ingresso|forma_ingresso|forma_ingresso_tipo|curso_turno|curso_modalidade|situacao_censo|        campus|                           habilidades|                            interesses|estagiando|\n",
      "+------------------+--------------------------------------+--------------------------+---------------------+------------------------+--------------+-------------------+-----------+----------------+--------------+--------------+--------------------------------------+--------------------------------------+----------+\n",
      "|         202325010|Bacharelado Interdisciplinar em Ino...|                    2023/2|           2023-01-01|                  2023/2|   SiSU (Enem)|            Regular|   Integral|      Presencial|      Cursando|Campus Paraíso|[Gestão de Projetos, Pensamento Ino...|[Empreendedorismo em Tecnologia, Ge...|         0|\n",
      "|         202325009|Bacharelado Interdisciplinar em Ino...|                    2023/2|           2023-01-01|                  2023/2|   SiSU (Enem)|            Regular|   Integral|      Presencial|      Cursando|Campus Paraíso|[Empreendedorismo, Gestão de Projet...|[Gestão da Inovação, Inovação Tecno...|         1|\n",
      "|         202325007|Bacharelado Interdisciplinar em Ino...|                    2023/2|           2023-01-01|                  2023/2|   SiSU (Enem)|            Regular|   Integral|      Presencial|      Cursando|Campus Paraíso|[Gestão de Projetos, Pensamento Ino...|[Inovação Tecnológica, Gestão da In...|         0|\n",
      "|         202325006|Bacharelado Interdisciplinar em Ino...|                    2023/2|           2023-01-01|                  2023/2|   SiSU (Enem)|            Regular|   Integral|      Presencial|      Cursando|Campus Paraíso|[Pensamento Inovador, Gestão de Pro...|[Gestão da Inovação, Empreendedoris...|         0|\n",
      "|         202325005|Bacharelado Interdisciplinar em Ino...|                    2023/2|           2023-01-01|                  2023/2|   SiSU (Enem)|            Regular|   Integral|      Presencial|      Cursando|Campus Paraíso|[Pensamento Inovador, Empreendedori...|[Empreendedorismo em Tecnologia, In...|         1|\n",
      "|         202325004|Bacharelado Interdisciplinar em Ino...|                    2023/2|           2023-01-01|                  2023/2|   SiSU (Enem)|            Regular|   Integral|      Presencial|      Cursando|Campus Paraíso|[Pensamento Inovador, Empreendedori...|[Empreendedorismo em Tecnologia, Ge...|         1|\n",
      "|         202325003|Bacharelado Interdisciplinar em Ino...|                    2023/2|           2023-01-01|                  2023/2|   SiSU (Enem)|            Regular|   Integral|      Presencial|      Cursando|Campus Paraíso|[Empreendedorismo, Pensamento Inova...|[Gestão da Inovação, Empreendedoris...|         1|\n",
      "|         202325002|Bacharelado Interdisciplinar em Ino...|                    2023/2|           2023-01-01|                  2023/2|   SiSU (Enem)|            Regular|   Integral|      Presencial|      Cursando|Campus Paraíso|[Empreendedorismo, Pensamento Inova...|[Empreendedorismo em Tecnologia, In...|         1|\n",
      "|         202325001|Bacharelado Interdisciplinar em Ino...|                    2023/2|           2023-01-01|                  2023/2|   SiSU (Enem)|            Regular|   Integral|      Presencial|      Cursando|Campus Paraíso|[Empreendedorismo, Pensamento Inova...|[Empreendedorismo em Tecnologia, Ge...|         0|\n",
      "|         202321153|                 Administração Pública|                    2023/2|           2023-01-01|                  2023/2|   SiSU (Enem)|            Regular|    Noturno|      Presencial|      Cursando|   Campus Sede|[Orçamento Público, Políticas Públi...|[Orçamento e Finanças Públicas, Ges...|         0|\n",
      "|         202321152|                 Administração Pública|                    2023/2|           2023-01-01|                  2023/2|   SiSU (Enem)|            Regular|    Noturno|      Presencial|      Cursando|   Campus Sede|[Gestão Pública, Orçamento Público,...|[Gestão Pública, Políticas Públicas...|         0|\n",
      "|         202321150|                   Ciências Biológicas|                    2023/2|           2023-01-01|                  2023/2|   SiSU (Enem)|            Regular|   Integral|      Presencial|      Cursando|   Campus Sede|[Genética, Ecologia, Biologia Molec...|[Ecologia, Biologia Molecular, Biod...|         0|\n",
      "|         202321149|                         Administração|                    2023/2|           2023-01-01|                  2023/2|   SiSU (Enem)|            Regular|   Integral|      Presencial|      Cursando|   Campus Sede|[Recursos Humanos, Marketing, Gestã...|[Gestão Empresarial, Marketing, Fin...|         0|\n",
      "|         202321148|                             Zootecnia|                    2023/2|           2023-01-01|                  2023/2|   SiSU (Enem)|            Regular|   Integral|      Presencial|      Cursando|   Campus Sede|[Nutrição Animal, Produção Animal, ...|[Nutrição Animal, Produção Animal, ...|         1|\n",
      "|         202321147|Bacharelado Interdisciplinar em Ino...|                    2023/2|           2023-01-01|                  2023/2|   SiSU (Enem)|            Regular|   Integral|      Presencial|      Cursando|   Campus Sede|[Empreendedorismo, Gestão de Projet...|[Inovação Tecnológica, Empreendedor...|         0|\n",
      "|         202321146|Bacharelado Interdisciplinar em Ino...|                    2023/2|           2023-01-01|                  2023/2|   SiSU (Enem)|            Regular|   Integral|      Presencial|      Cursando|   Campus Sede|[Gestão de Projetos, Empreendedoris...|[Gestão da Inovação, Inovação Tecno...|         1|\n",
      "|         202321145|                   Ciências Biológicas|                    2023/2|           2023-01-01|                  2023/2|   SiSU (Enem)|            Regular|   Integral|      Presencial|      Cursando|   Campus Sede|[Biologia Molecular, Genética, Ecol...|[Biodiversidade, Biologia Molecular...|         0|\n",
      "|         202321144|                  Engenharia Florestal|                    2023/2|           2023-01-01|                  2023/2|   SiSU (Enem)|            Regular|   Integral|      Presencial|      Cursando|   Campus Sede|[Manejo Florestal, Conservação da N...|[Silvicultura, Conservação de Ecoss...|         0|\n",
      "|         202321143|                   ABI Educação Física|                    2023/2|           2023-01-01|                  2023/2|   SiSU (Enem)|            Regular|   Integral|      Presencial|      Cursando|   Campus Sede|[Treinamento Desportivo, Anatomia d...|[Esportes Coletivos, Recreação e La...|         0|\n",
      "|         202321142|                   ABI Educação Física|                    2023/2|           2023-01-01|                  2023/2|   SiSU (Enem)|            Regular|   Integral|      Presencial|      Cursando|   Campus Sede|[Treinamento Desportivo, Nutrição E...|[Treinamento Físico, Esportes Colet...|         0|\n",
      "+------------------+--------------------------------------+--------------------------+---------------------+------------------------+--------------+-------------------+-----------+----------------+--------------+--------------+--------------------------------------+--------------------------------------+----------+\n",
      "only showing top 20 rows\n",
      "\n"
     ]
    }
   ],
   "source": [
    "data_cleaned.show(truncate=38)"
   ]
  },
  {
   "cell_type": "code",
   "execution_count": 73,
   "metadata": {},
   "outputs": [
    {
     "ename": "NameError",
     "evalue": "name 'split' is not defined",
     "output_type": "error",
     "traceback": [
      "\u001b[0;31m---------------------------------------------------------------------------\u001b[0m",
      "\u001b[0;31mNameError\u001b[0m                                 Traceback (most recent call last)",
      "Cell \u001b[0;32mIn[73], line 3\u001b[0m\n\u001b[1;32m      1\u001b[0m \u001b[38;5;66;03m# Tokenização pode não ser necessária se as colunas já estão como listas de palavras\u001b[39;00m\n\u001b[1;32m      2\u001b[0m \u001b[38;5;66;03m# Mas se estiverem como strings, você precisa dividir a string em palavras\u001b[39;00m\n\u001b[0;32m----> 3\u001b[0m data_cleaned \u001b[38;5;241m=\u001b[39m data_cleaned\u001b[38;5;241m.\u001b[39mwithColumn(\u001b[38;5;124m\"\u001b[39m\u001b[38;5;124mhabilidades\u001b[39m\u001b[38;5;124m\"\u001b[39m, \u001b[43msplit\u001b[49m(col(\u001b[38;5;124m\"\u001b[39m\u001b[38;5;124mhabilidades\u001b[39m\u001b[38;5;124m\"\u001b[39m), \u001b[38;5;124m\"\u001b[39m\u001b[38;5;124m,\u001b[39m\u001b[38;5;124m\\\u001b[39m\u001b[38;5;124ms*\u001b[39m\u001b[38;5;124m\"\u001b[39m))\n\u001b[1;32m      4\u001b[0m data_cleaned \u001b[38;5;241m=\u001b[39m data_cleaned\u001b[38;5;241m.\u001b[39mwithColumn(\u001b[38;5;124m\"\u001b[39m\u001b[38;5;124minteresses\u001b[39m\u001b[38;5;124m\"\u001b[39m, split(col(\u001b[38;5;124m\"\u001b[39m\u001b[38;5;124minteresses\u001b[39m\u001b[38;5;124m\"\u001b[39m), \u001b[38;5;124m\"\u001b[39m\u001b[38;5;124m,\u001b[39m\u001b[38;5;124m\\\u001b[39m\u001b[38;5;124ms*\u001b[39m\u001b[38;5;124m\"\u001b[39m))\n",
      "\u001b[0;31mNameError\u001b[0m: name 'split' is not defined"
     ]
    }
   ],
   "source": []
  },
  {
   "cell_type": "code",
   "execution_count": null,
   "metadata": {},
   "outputs": [],
   "source": [
    "from pyspark.ml.feature import Word2Vec\n",
    "from pyspark.ml import Pipeline\n",
    "from pyspark.sql.functions import col, split\n",
    "\n",
    "\n",
    "# Inicialize o Word2Vec\n",
    "word2Vec_habilidades = Word2Vec(vectorSize=3, minCount=0, inputCol=\"habilidades\", outputCol=\"habilidades_vec\")\n",
    "word2Vec_interesses = Word2Vec(vectorSize=3, minCount=0, inputCol=\"interesses\", outputCol=\"interesses_vec\")\n",
    "\n",
    "# Construa o pipeline\n",
    "pipeline = Pipeline(stages=[word2Vec_habilidades, word2Vec_interesses])\n",
    "\n",
    "# Treine o modelo\n",
    "model = pipeline.fit(data_cleaned)\n",
    "\n",
    "# Transforme os dados\n",
    "data_transformed = model.transform(data_cleaned)\n",
    "\n",
    "# Mostrar os resultados\n",
    "data_transformed.select(\"habilidades_vec\", \"interesses_vec\").show()\n"
   ]
  },
  {
   "cell_type": "markdown",
   "metadata": {},
   "source": [
    "### CLUSTERIZAÇÃO DOS DADOS:"
   ]
  },
  {
   "cell_type": "code",
   "execution_count": 81,
   "metadata": {},
   "outputs": [
    {
     "name": "stderr",
     "output_type": "stream",
     "text": [
      "                                                                                \r"
     ]
    },
    {
     "name": "stdout",
     "output_type": "stream",
     "text": [
      "+------------------+--------------------+--------------------------+---------------------+------------------------+--------------+-------------------+-----------+----------------+--------------+--------------+--------------------+--------------------+----------+--------------------+--------------------+\n",
      "|registro_academico|               curso|semestre_letivo_referencia|ano_letivo_referencia|semestre_letivo_ingresso|forma_ingresso|forma_ingresso_tipo|curso_turno|curso_modalidade|situacao_censo|        campus|         habilidades|          interesses|estagiando|     habilidades_vec|      interesses_vec|\n",
      "+------------------+--------------------+--------------------------+---------------------+------------------------+--------------+-------------------+-----------+----------------+--------------+--------------+--------------------+--------------------+----------+--------------------+--------------------+\n",
      "|         202325010|Bacharelado Inter...|                    2023/2|           2023-01-01|                  2023/2|   SiSU (Enem)|            Regular|   Integral|      Presencial|      Cursando|Campus Paraíso|[Pensamento Inova...|[Gestão da Inovaç...|         0|[-0.5417621719340...|[0.87665052215258...|\n",
      "|         202325009|Bacharelado Inter...|                    2023/2|           2023-01-01|                  2023/2|   SiSU (Enem)|            Regular|   Integral|      Presencial|      Cursando|Campus Paraíso|[Gestão de Projet...|[Inovação Tecnoló...|         1|[-0.5417621719340...|[0.87665052215258...|\n",
      "|         202325007|Bacharelado Inter...|                    2023/2|           2023-01-01|                  2023/2|   SiSU (Enem)|            Regular|   Integral|      Presencial|      Cursando|Campus Paraíso|[Gestão de Projet...|[Inovação Tecnoló...|         0|[-0.5417621719340...|[0.87665052215258...|\n",
      "|         202325006|Bacharelado Inter...|                    2023/2|           2023-01-01|                  2023/2|   SiSU (Enem)|            Regular|   Integral|      Presencial|      Cursando|Campus Paraíso|[Gestão de Projet...|[Inovação Tecnoló...|         0|[-0.5417621719340...|[0.87665052215258...|\n",
      "|         202325005|Bacharelado Inter...|                    2023/2|           2023-01-01|                  2023/2|   SiSU (Enem)|            Regular|   Integral|      Presencial|      Cursando|Campus Paraíso|[Gestão de Projet...|[Gestão da Inovaç...|         1|[-0.5417621719340...|[0.87665052215258...|\n",
      "|         202325004|Bacharelado Inter...|                    2023/2|           2023-01-01|                  2023/2|   SiSU (Enem)|            Regular|   Integral|      Presencial|      Cursando|Campus Paraíso|[Gestão de Projet...|[Empreendedorismo...|         1|[-0.5417621719340...|[0.87665052215258...|\n",
      "|         202325003|Bacharelado Inter...|                    2023/2|           2023-01-01|                  2023/2|   SiSU (Enem)|            Regular|   Integral|      Presencial|      Cursando|Campus Paraíso|[Gestão de Projet...|[Gestão da Inovaç...|         1|[-0.5417621719340...|[0.87665052215258...|\n",
      "|         202325002|Bacharelado Inter...|                    2023/2|           2023-01-01|                  2023/2|   SiSU (Enem)|            Regular|   Integral|      Presencial|      Cursando|Campus Paraíso|[Empreendedorismo...|[Gestão da Inovaç...|         1|[-0.5417621719340...|[0.87665052215258...|\n",
      "|         202325001|Bacharelado Inter...|                    2023/2|           2023-01-01|                  2023/2|   SiSU (Enem)|            Regular|   Integral|      Presencial|      Cursando|Campus Paraíso|[Empreendedorismo...|[Inovação Tecnoló...|         0|[-0.5417621719340...|[0.87665052215258...|\n",
      "|         202321153|Administração Púb...|                    2023/2|           2023-01-01|                  2023/2|   SiSU (Enem)|            Regular|    Noturno|      Presencial|      Cursando|   Campus Sede|[Gestão Pública, ...|[Gestão Pública, ...|         0|[-4.5625398953755...|[-4.4293532371521...|\n",
      "|         202321152|Administração Púb...|                    2023/2|           2023-01-01|                  2023/2|   SiSU (Enem)|            Regular|    Noturno|      Presencial|      Cursando|   Campus Sede|[Gestão Pública, ...|[Políticas Públic...|         0|[-4.5625398953755...|[-4.4293532371521...|\n",
      "|         202321150| Ciências Biológicas|                    2023/2|           2023-01-01|                  2023/2|   SiSU (Enem)|            Regular|   Integral|      Presencial|      Cursando|   Campus Sede|[Biologia Molecul...|[Biodiversidade, ...|         0|[-0.9773843487103...|[-0.5472217102845...|\n",
      "|         202321149|       Administração|                    2023/2|           2023-01-01|                  2023/2|   SiSU (Enem)|            Regular|   Integral|      Presencial|      Cursando|   Campus Sede|[Marketing, Recur...|[Finanças Corpora...|         0|[-6.3160969416300...|[-3.4910886287689...|\n",
      "|         202321148|           Zootecnia|                    2023/2|           2023-01-01|                  2023/2|   SiSU (Enem)|            Regular|   Integral|      Presencial|      Cursando|   Campus Sede|[Produção Animal,...|[Genética Animal,...|         1|[3.45907688140869...|[3.58913763364156...|\n",
      "|         202321147|Bacharelado Inter...|                    2023/2|           2023-01-01|                  2023/2|   SiSU (Enem)|            Regular|   Integral|      Presencial|      Cursando|   Campus Sede|[Empreendedorismo...|[Gestão da Inovaç...|         0|[-0.5417621719340...|[0.87665052215258...|\n",
      "|         202321146|Bacharelado Inter...|                    2023/2|           2023-01-01|                  2023/2|   SiSU (Enem)|            Regular|   Integral|      Presencial|      Cursando|   Campus Sede|[Gestão de Projet...|[Gestão da Inovaç...|         1|[-0.5417621719340...|[0.87665052215258...|\n",
      "|         202321145| Ciências Biológicas|                    2023/2|           2023-01-01|                  2023/2|   SiSU (Enem)|            Regular|   Integral|      Presencial|      Cursando|   Campus Sede|[Ecologia, Biolog...|[Biodiversidade, ...|         0|[-0.9773843487103...|[-0.5472217102845...|\n",
      "|         202321144|Engenharia Florestal|                    2023/2|           2023-01-01|                  2023/2|   SiSU (Enem)|            Regular|   Integral|      Presencial|      Cursando|   Campus Sede|[Silvicultura, Co...|[Manejo Florestal...|         0|[3.37315797805786...|[4.59830617904663...|\n",
      "|         202321143| ABI Educação Física|                    2023/2|           2023-01-01|                  2023/2|   SiSU (Enem)|            Regular|   Integral|      Presencial|      Cursando|   Campus Sede|[Treinamento Desp...|[Esportes Coletiv...|         0|[2.50961927572886...|[-2.2737882932027...|\n",
      "|         202321142| ABI Educação Física|                    2023/2|           2023-01-01|                  2023/2|   SiSU (Enem)|            Regular|   Integral|      Presencial|      Cursando|   Campus Sede|[Treinamento Desp...|[Treinamento Físi...|         0|[2.50961927572886...|[-2.2737882932027...|\n",
      "+------------------+--------------------+--------------------------+---------------------+------------------------+--------------+-------------------+-----------+----------------+--------------+--------------+--------------------+--------------------+----------+--------------------+--------------------+\n",
      "only showing top 20 rows\n",
      "\n"
     ]
    }
   ],
   "source": [
    "from pyspark.ml.feature import Word2Vec\n",
    "from pyspark.ml import Pipeline\n",
    "from pyspark.sql.functions import col, split\n",
    "\n",
    "# Inicialize o Word2Vec\n",
    "word2Vec_habilidades = Word2Vec(vectorSize=3, minCount=0, inputCol=\"habilidades\", outputCol=\"habilidades_vec\")\n",
    "word2Vec_interesses = Word2Vec(vectorSize=3, minCount=0, inputCol=\"interesses\", outputCol=\"interesses_vec\")\n",
    "\n",
    "# Construa o pipeline\n",
    "pipeline = Pipeline(stages=[word2Vec_habilidades, word2Vec_interesses])\n",
    "\n",
    "# Treine o modelo\n",
    "model = pipeline.fit(data_cleaned)\n",
    "\n",
    "# Transforme os dados\n",
    "data_transformed = model.transform(data_cleaned)\n",
    "\n",
    "# Mostrar os resultados\n",
    "data_transformed.show()"
   ]
  },
  {
   "cell_type": "code",
   "execution_count": 82,
   "metadata": {},
   "outputs": [],
   "source": [
    "from pyspark.ml.feature import VectorAssembler, OneHotEncoder, StringIndexer, StandardScaler\n",
    "from pyspark.ml.clustering import KMeans\n",
    "from pyspark.ml import Pipeline"
   ]
  },
  {
   "cell_type": "code",
   "execution_count": 83,
   "metadata": {},
   "outputs": [],
   "source": [
    "# Inicialize os encoders para as variáveis categóricas\n",
    "categorical_columns = ['curso', 'forma_ingresso', 'curso_turno', 'curso_modalidade', 'campus']\n",
    "indexers = [StringIndexer(inputCol=column, outputCol=column+\"_index\").setHandleInvalid(\"keep\") for column in categorical_columns]\n",
    "encoders = [OneHotEncoder(inputCol=indexer.getOutputCol(), outputCol=indexer.getOutputCol()+\"_ohe\") for indexer in indexers]"
   ]
  },
  {
   "cell_type": "code",
   "execution_count": 84,
   "metadata": {},
   "outputs": [],
   "source": [
    "# Assemble todas as colunas de features em um único vetor\n",
    "assembler_inputs = [encoder.getOutputCol() for encoder in encoders] + ['habilidades_vec', 'interesses_vec']\n",
    "assembler = VectorAssembler(inputCols=assembler_inputs, outputCol=\"features\")"
   ]
  },
  {
   "cell_type": "code",
   "execution_count": 85,
   "metadata": {},
   "outputs": [],
   "source": [
    "# Escalonar as features\n",
    "scaler = StandardScaler(inputCol=\"features\", outputCol=\"scaledFeatures\", withStd=True, withMean=False)"
   ]
  },
  {
   "cell_type": "code",
   "execution_count": 86,
   "metadata": {},
   "outputs": [],
   "source": [
    "# Inicializar o KMeans\n",
    "kmeans = KMeans(featuresCol=\"scaledFeatures\", k=10)"
   ]
  },
  {
   "cell_type": "code",
   "execution_count": 87,
   "metadata": {},
   "outputs": [],
   "source": [
    "# Construir o pipeline\n",
    "pipeline = Pipeline(stages=indexers + encoders + [assembler, scaler, kmeans])"
   ]
  },
  {
   "cell_type": "code",
   "execution_count": 89,
   "metadata": {},
   "outputs": [
    {
     "name": "stderr",
     "output_type": "stream",
     "text": [
      "                                                                                \r"
     ]
    }
   ],
   "source": [
    "# Treinar o modelo\n",
    "model = pipeline.fit(data_transformed)"
   ]
  },
  {
   "cell_type": "code",
   "execution_count": 90,
   "metadata": {},
   "outputs": [],
   "source": [
    "# Fazer previsões\n",
    "predictions = model.transform(data_transformed)"
   ]
  },
  {
   "cell_type": "code",
   "execution_count": 93,
   "metadata": {},
   "outputs": [
    {
     "name": "stdout",
     "output_type": "stream",
     "text": [
      "+------------------+--------------------+--------------------------+---------------------+------------------------+--------------+-------------------+-----------+----------------+--------------+--------------+--------------------+--------------------+----------+--------------------+--------------------+-----------+--------------------+-----------------+----------------------+------------+---------------+------------------------+---------------------+--------------------------+----------------+--------------------+--------------------+----------+\n",
      "|registro_academico|               curso|semestre_letivo_referencia|ano_letivo_referencia|semestre_letivo_ingresso|forma_ingresso|forma_ingresso_tipo|curso_turno|curso_modalidade|situacao_censo|        campus|         habilidades|          interesses|estagiando|     habilidades_vec|      interesses_vec|curso_index|forma_ingresso_index|curso_turno_index|curso_modalidade_index|campus_index|curso_index_ohe|forma_ingresso_index_ohe|curso_turno_index_ohe|curso_modalidade_index_ohe|campus_index_ohe|            features|      scaledFeatures|prediction|\n",
      "+------------------+--------------------+--------------------------+---------------------+------------------------+--------------+-------------------+-----------+----------------+--------------+--------------+--------------------+--------------------+----------+--------------------+--------------------+-----------+--------------------+-----------------+----------------------+------------+---------------+------------------------+---------------------+--------------------------+----------------+--------------------+--------------------+----------+\n",
      "|         202325010|Bacharelado Inter...|                    2023/2|           2023-01-01|                  2023/2|   SiSU (Enem)|            Regular|   Integral|      Presencial|      Cursando|Campus Paraíso|[Empreendedorismo...|[Inovação Tecnoló...|         0|[-0.5417621719340...|[0.87665052215258...|       31.0|                 0.0|              0.0|                   0.0|         1.0|(36,[31],[1.0])|          (17,[0],[1.0])|        (3,[0],[1.0])|             (2,[0],[1.0])|   (2,[1],[1.0])|(66,[31,36,53,56,...|(66,[31,36,53,56,...|         1|\n",
      "|         202325009|Bacharelado Inter...|                    2023/2|           2023-01-01|                  2023/2|   SiSU (Enem)|            Regular|   Integral|      Presencial|      Cursando|Campus Paraíso|[Gestão de Projet...|[Gestão da Inovaç...|         1|[-0.5417621719340...|[0.87665052215258...|       31.0|                 0.0|              0.0|                   0.0|         1.0|(36,[31],[1.0])|          (17,[0],[1.0])|        (3,[0],[1.0])|             (2,[0],[1.0])|   (2,[1],[1.0])|(66,[31,36,53,56,...|(66,[31,36,53,56,...|         1|\n",
      "|         202325007|Bacharelado Inter...|                    2023/2|           2023-01-01|                  2023/2|   SiSU (Enem)|            Regular|   Integral|      Presencial|      Cursando|Campus Paraíso|[Gestão de Projet...|[Inovação Tecnoló...|         0|[-0.5417621719340...|[0.87665052215258...|       31.0|                 0.0|              0.0|                   0.0|         1.0|(36,[31],[1.0])|          (17,[0],[1.0])|        (3,[0],[1.0])|             (2,[0],[1.0])|   (2,[1],[1.0])|(66,[31,36,53,56,...|(66,[31,36,53,56,...|         1|\n",
      "|         202325006|Bacharelado Inter...|                    2023/2|           2023-01-01|                  2023/2|   SiSU (Enem)|            Regular|   Integral|      Presencial|      Cursando|Campus Paraíso|[Empreendedorismo...|[Gestão da Inovaç...|         0|[-0.5417621719340...|[0.87665052215258...|       31.0|                 0.0|              0.0|                   0.0|         1.0|(36,[31],[1.0])|          (17,[0],[1.0])|        (3,[0],[1.0])|             (2,[0],[1.0])|   (2,[1],[1.0])|(66,[31,36,53,56,...|(66,[31,36,53,56,...|         1|\n",
      "|         202325005|Bacharelado Inter...|                    2023/2|           2023-01-01|                  2023/2|   SiSU (Enem)|            Regular|   Integral|      Presencial|      Cursando|Campus Paraíso|[Pensamento Inova...|[Empreendedorismo...|         1|[-0.5417621719340...|[0.87665052215258...|       31.0|                 0.0|              0.0|                   0.0|         1.0|(36,[31],[1.0])|          (17,[0],[1.0])|        (3,[0],[1.0])|             (2,[0],[1.0])|   (2,[1],[1.0])|(66,[31,36,53,56,...|(66,[31,36,53,56,...|         1|\n",
      "|         202325004|Bacharelado Inter...|                    2023/2|           2023-01-01|                  2023/2|   SiSU (Enem)|            Regular|   Integral|      Presencial|      Cursando|Campus Paraíso|[Empreendedorismo...|[Inovação Tecnoló...|         1|[-0.5417621719340...|[0.87665052215258...|       31.0|                 0.0|              0.0|                   0.0|         1.0|(36,[31],[1.0])|          (17,[0],[1.0])|        (3,[0],[1.0])|             (2,[0],[1.0])|   (2,[1],[1.0])|(66,[31,36,53,56,...|(66,[31,36,53,56,...|         1|\n",
      "|         202325003|Bacharelado Inter...|                    2023/2|           2023-01-01|                  2023/2|   SiSU (Enem)|            Regular|   Integral|      Presencial|      Cursando|Campus Paraíso|[Empreendedorismo...|[Inovação Tecnoló...|         1|[-0.5417621719340...|[0.87665052215258...|       31.0|                 0.0|              0.0|                   0.0|         1.0|(36,[31],[1.0])|          (17,[0],[1.0])|        (3,[0],[1.0])|             (2,[0],[1.0])|   (2,[1],[1.0])|(66,[31,36,53,56,...|(66,[31,36,53,56,...|         1|\n",
      "|         202325002|Bacharelado Inter...|                    2023/2|           2023-01-01|                  2023/2|   SiSU (Enem)|            Regular|   Integral|      Presencial|      Cursando|Campus Paraíso|[Empreendedorismo...|[Empreendedorismo...|         1|[-0.5417621719340...|[0.87665052215258...|       31.0|                 0.0|              0.0|                   0.0|         1.0|(36,[31],[1.0])|          (17,[0],[1.0])|        (3,[0],[1.0])|             (2,[0],[1.0])|   (2,[1],[1.0])|(66,[31,36,53,56,...|(66,[31,36,53,56,...|         1|\n",
      "|         202325001|Bacharelado Inter...|                    2023/2|           2023-01-01|                  2023/2|   SiSU (Enem)|            Regular|   Integral|      Presencial|      Cursando|Campus Paraíso|[Gestão de Projet...|[Empreendedorismo...|         0|[-0.5417621719340...|[0.87665052215258...|       31.0|                 0.0|              0.0|                   0.0|         1.0|(36,[31],[1.0])|          (17,[0],[1.0])|        (3,[0],[1.0])|             (2,[0],[1.0])|   (2,[1],[1.0])|(66,[31,36,53,56,...|(66,[31,36,53,56,...|         1|\n",
      "|         202321153|Administração Púb...|                    2023/2|           2023-01-01|                  2023/2|   SiSU (Enem)|            Regular|    Noturno|      Presencial|      Cursando|   Campus Sede|[Orçamento Públic...|[Gestão Pública, ...|         0|[-4.5625398953755...|[-4.4293532371521...|        1.0|                 0.0|              1.0|                   0.0|         0.0| (36,[1],[1.0])|          (17,[0],[1.0])|        (3,[1],[1.0])|             (2,[0],[1.0])|   (2,[0],[1.0])|(66,[1,36,54,56,5...|(66,[1,36,54,56,5...|         8|\n",
      "|         202321152|Administração Púb...|                    2023/2|           2023-01-01|                  2023/2|   SiSU (Enem)|            Regular|    Noturno|      Presencial|      Cursando|   Campus Sede|[Orçamento Públic...|[Políticas Públic...|         0|[-4.5625398953755...|[-4.4293532371521...|        1.0|                 0.0|              1.0|                   0.0|         0.0| (36,[1],[1.0])|          (17,[0],[1.0])|        (3,[1],[1.0])|             (2,[0],[1.0])|   (2,[0],[1.0])|(66,[1,36,54,56,5...|(66,[1,36,54,56,5...|         8|\n",
      "|         202321150| Ciências Biológicas|                    2023/2|           2023-01-01|                  2023/2|   SiSU (Enem)|            Regular|   Integral|      Presencial|      Cursando|   Campus Sede|[Genética, Ecolog...|[Biologia Molecul...|         0|[-0.9773843487103...|[-0.5472217102845...|       11.0|                 0.0|              0.0|                   0.0|         0.0|(36,[11],[1.0])|          (17,[0],[1.0])|        (3,[0],[1.0])|             (2,[0],[1.0])|   (2,[0],[1.0])|(66,[11,36,53,56,...|(66,[11,36,53,56,...|         1|\n",
      "|         202321149|       Administração|                    2023/2|           2023-01-01|                  2023/2|   SiSU (Enem)|            Regular|   Integral|      Presencial|      Cursando|   Campus Sede|[Gestão Financeir...|[Gestão Empresari...|         0|[-6.3160969416300...|[-3.4910886287689...|       14.0|                 0.0|              0.0|                   0.0|         0.0|(36,[14],[1.0])|          (17,[0],[1.0])|        (3,[0],[1.0])|             (2,[0],[1.0])|   (2,[0],[1.0])|(66,[14,36,53,56,...|(66,[14,36,53,56,...|         1|\n",
      "|         202321148|           Zootecnia|                    2023/2|           2023-01-01|                  2023/2|   SiSU (Enem)|            Regular|   Integral|      Presencial|      Cursando|   Campus Sede|[Genética Animal,...|[Genética Animal,...|         1|[3.45907688140869...|[3.58913763364156...|        4.0|                 0.0|              0.0|                   0.0|         0.0| (36,[4],[1.0])|          (17,[0],[1.0])|        (3,[0],[1.0])|             (2,[0],[1.0])|   (2,[0],[1.0])|(66,[4,36,53,56,5...|(66,[4,36,53,56,5...|         1|\n",
      "|         202321147|Bacharelado Inter...|                    2023/2|           2023-01-01|                  2023/2|   SiSU (Enem)|            Regular|   Integral|      Presencial|      Cursando|   Campus Sede|[Gestão de Projet...|[Gestão da Inovaç...|         0|[-0.5417621719340...|[0.87665052215258...|       31.0|                 0.0|              0.0|                   0.0|         0.0|(36,[31],[1.0])|          (17,[0],[1.0])|        (3,[0],[1.0])|             (2,[0],[1.0])|   (2,[0],[1.0])|(66,[31,36,53,56,...|(66,[31,36,53,56,...|         1|\n",
      "|         202321146|Bacharelado Inter...|                    2023/2|           2023-01-01|                  2023/2|   SiSU (Enem)|            Regular|   Integral|      Presencial|      Cursando|   Campus Sede|[Pensamento Inova...|[Inovação Tecnoló...|         1|[-0.5417621719340...|[0.87665052215258...|       31.0|                 0.0|              0.0|                   0.0|         0.0|(36,[31],[1.0])|          (17,[0],[1.0])|        (3,[0],[1.0])|             (2,[0],[1.0])|   (2,[0],[1.0])|(66,[31,36,53,56,...|(66,[31,36,53,56,...|         1|\n",
      "|         202321145| Ciências Biológicas|                    2023/2|           2023-01-01|                  2023/2|   SiSU (Enem)|            Regular|   Integral|      Presencial|      Cursando|   Campus Sede|[Ecologia, Genéti...|[Biologia Molecul...|         0|[-0.9773843487103...|[-0.5472217102845...|       11.0|                 0.0|              0.0|                   0.0|         0.0|(36,[11],[1.0])|          (17,[0],[1.0])|        (3,[0],[1.0])|             (2,[0],[1.0])|   (2,[0],[1.0])|(66,[11,36,53,56,...|(66,[11,36,53,56,...|         1|\n",
      "|         202321144|Engenharia Florestal|                    2023/2|           2023-01-01|                  2023/2|   SiSU (Enem)|            Regular|   Integral|      Presencial|      Cursando|   Campus Sede|[Manejo Florestal...|[Conservação de E...|         0|[3.37315797805786...|[4.59830617904663...|        5.0|                 0.0|              0.0|                   0.0|         0.0| (36,[5],[1.0])|          (17,[0],[1.0])|        (3,[0],[1.0])|             (2,[0],[1.0])|   (2,[0],[1.0])|(66,[5,36,53,56,5...|(66,[5,36,53,56,5...|         1|\n",
      "|         202321143| ABI Educação Física|                    2023/2|           2023-01-01|                  2023/2|   SiSU (Enem)|            Regular|   Integral|      Presencial|      Cursando|   Campus Sede|[Anatomia do Movi...|[Esportes Coletiv...|         0|[2.50961927572886...|[-2.2737882932027...|       29.0|                 0.0|              0.0|                   0.0|         0.0|(36,[29],[1.0])|          (17,[0],[1.0])|        (3,[0],[1.0])|             (2,[0],[1.0])|   (2,[0],[1.0])|(66,[29,36,53,56,...|(66,[29,36,53,56,...|         1|\n",
      "|         202321142| ABI Educação Física|                    2023/2|           2023-01-01|                  2023/2|   SiSU (Enem)|            Regular|   Integral|      Presencial|      Cursando|   Campus Sede|[Anatomia do Movi...|[Esportes Coletiv...|         0|[2.50961927572886...|[-2.2737882932027...|       29.0|                 0.0|              0.0|                   0.0|         0.0|(36,[29],[1.0])|          (17,[0],[1.0])|        (3,[0],[1.0])|             (2,[0],[1.0])|   (2,[0],[1.0])|(66,[29,36,53,56,...|(66,[29,36,53,56,...|         1|\n",
      "+------------------+--------------------+--------------------------+---------------------+------------------------+--------------+-------------------+-----------+----------------+--------------+--------------+--------------------+--------------------+----------+--------------------+--------------------+-----------+--------------------+-----------------+----------------------+------------+---------------+------------------------+---------------------+--------------------------+----------------+--------------------+--------------------+----------+\n",
      "only showing top 20 rows\n",
      "\n"
     ]
    }
   ],
   "source": [
    "predictions.show()"
   ]
  },
  {
   "cell_type": "code",
   "execution_count": 97,
   "metadata": {},
   "outputs": [
    {
     "name": "stderr",
     "output_type": "stream",
     "text": [
      "                                                                                \r"
     ]
    },
    {
     "data": {
      "image/png": "[encoded data removed]",
      "text/plain": [
       "<Figure size 800x600 with 1 Axes>"
      ]
     },
     "metadata": {},
     "output_type": "display_data"
    }
   ],
   "source": [
    "from pyspark.ml.feature import PCA\n",
    "from pyspark.sql.functions import col\n",
    "import pandas as pd\n",
    "import matplotlib.pyplot as plt\n",
    "\n",
    "\n",
    "pca = PCA(k=3, inputCol=\"scaledFeatures\", outputCol=\"pcaFeatures\")\n",
    "model_pca = pca.fit(predictions)\n",
    "result_pca = model_pca.transform(predictions)\n",
    "\n",
    "result_pca = result_pca.select(col(\"pcaFeatures\"), col(\"prediction\").alias(\"cluster\"))\n",
    "\n",
    "pandas_df = result_pca.toPandas()\n",
    "\n",
    "pandas_df['pca_x'] = pandas_df['pcaFeatures'].apply(lambda x: x[0])\n",
    "pandas_df['pca_y'] = pandas_df['pcaFeatures'].apply(lambda x: x[1])\n",
    "\n",
    "plt.figure(figsize=(8, 6))\n",
    "for cluster in pandas_df['cluster'].unique():\n",
    "    cluster_df = pandas_df[pandas_df['cluster'] == cluster]\n",
    "    plt.scatter(cluster_df['pca_x'], cluster_df['pca_y'], label=f'Cluster {cluster}')\n",
    "\n",
    "plt.legend()\n",
    "plt.xlabel('PCA 1')\n",
    "plt.ylabel('PCA 2')\n",
    "plt.title('Visualização dos Clusters')\n",
    "plt.show()"
   ]
  },
  {
   "cell_type": "code",
   "execution_count": 99,
   "metadata": {},
   "outputs": [
    {
     "name": "stderr",
     "output_type": "stream",
     "text": [
      "                                                                                \r"
     ]
    },
    {
     "data": {
      "image/png": "[encoded data removed]",
      "text/plain": [
       "<Figure size 1000x800 with 1 Axes>"
      ]
     },
     "metadata": {},
     "output_type": "display_data"
    }
   ],
   "source": [
    "from pyspark.ml.feature import PCA\n",
    "from pyspark.sql.functions import udf\n",
    "from pyspark.sql.types import FloatType\n",
    "import pandas as pd\n",
    "import matplotlib.pyplot as plt\n",
    "from mpl_toolkits.mplot3d import Axes3D\n",
    "\n",
    "# Assumindo que 'predictions' é o seu DataFrame com as previsões do KMeans\n",
    "\n",
    "# Reduzir a dimensionalidade para 3D para visualização usando PCA\n",
    "pca = PCA(k=3, inputCol=\"scaledFeatures\", outputCol=\"pcaFeatures\")\n",
    "model_pca = pca.fit(predictions)\n",
    "result_pca = model_pca.transform(predictions)\n",
    "\n",
    "# Selecionar apenas as features reduzidas e a coluna de previsão\n",
    "result_pca = result_pca.select(\"pcaFeatures\", \"prediction\")\n",
    "\n",
    "# Converter para Pandas DataFrame\n",
    "pandas_df = result_pca.toPandas()\n",
    "\n",
    "# Extrair as componentes principais\n",
    "def extract_pca_features_udf(vec, i):\n",
    "    try:\n",
    "        return float(vec[i])\n",
    "    except IndexError:\n",
    "        return None\n",
    "\n",
    "extract_pca_features = udf(extract_pca_features_udf, FloatType())\n",
    "\n",
    "pandas_df['pca_x'] = pandas_df['pcaFeatures'].apply(lambda x: extract_pca_features_udf(x, 0))\n",
    "pandas_df['pca_y'] = pandas_df['pcaFeatures'].apply(lambda x: extract_pca_features_udf(x, 1))\n",
    "pandas_df['pca_z'] = pandas_df['pcaFeatures'].apply(lambda x: extract_pca_features_udf(x, 2))\n",
    "\n",
    "# Plotar o gráfico 3D de dispersão\n",
    "fig = plt.figure(figsize=(10, 8))\n",
    "ax = fig.add_subplot(111, projection='3d')\n",
    "\n",
    "for cluster in pandas_df['prediction'].unique():\n",
    "    cluster_df = pandas_df[pandas_df['prediction'] == cluster]\n",
    "    ax.scatter(cluster_df['pca_x'], cluster_df['pca_y'], cluster_df['pca_z'], label=f'Cluster {cluster}')\n",
    "\n",
    "ax.set_xlabel('PCA 1')\n",
    "ax.set_ylabel('PCA 2')\n",
    "ax.set_zlabel('PCA 3')\n",
    "ax.legend()\n",
    "plt.title('Visualização 3D dos Clusters')\n",
    "plt.show()"
   ]
  },
  {
   "cell_type": "code",
   "execution_count": null,
   "metadata": {},
   "outputs": [],
   "source": [
    "# Encerra a sessão spark\n",
    "spark.stop()"
   ]
  }
 ],
 "metadata": {
  "kernelspec": {
   "display_name": "Python 3",
   "language": "python",
   "name": "python3"
  },
  "language_info": {
   "codemirror_mode": {
    "name": "ipython",
    "version": 3
   },
   "file_extension": ".py",
   "mimetype": "text/x-python",
   "name": "python",
   "nbconvert_exporter": "python",
   "pygments_lexer": "ipython3",
   "version": "3.10.12"
  }
 },
 "nbformat": 4,
 "nbformat_minor": 2
}
